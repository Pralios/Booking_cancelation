{
 "cells": [
  {
   "cell_type": "code",
   "execution_count": 1,
   "id": "7e726eef-b6d5-4ff7-9f21-c307ddab6238",
   "metadata": {},
   "outputs": [],
   "source": [
    "import numpy as np\n",
    "import pandas as pd"
   ]
  },
  {
   "cell_type": "code",
   "execution_count": 2,
   "id": "7a75016e-f289-41ce-88cf-8098452d8365",
   "metadata": {},
   "outputs": [],
   "source": [
    "import pickle"
   ]
  },
  {
   "cell_type": "code",
   "execution_count": 3,
   "id": "1f74f5e0-5c7e-4ab2-8d6f-1a1becedddf4",
   "metadata": {},
   "outputs": [],
   "source": [
    "import matplotlib.pyplot as plt\n",
    "import seaborn as sns\n",
    "from tqdm import tqdm"
   ]
  },
  {
   "cell_type": "code",
   "execution_count": 4,
   "id": "359d8836-e569-4501-9d90-ba82b448b83f",
   "metadata": {},
   "outputs": [],
   "source": [
    "from sklearn.model_selection import train_test_split\n",
    "from sklearn.preprocessing import StandardScaler, MinMaxScaler, RobustScaler"
   ]
  },
  {
   "cell_type": "code",
   "execution_count": 5,
   "id": "b30d18dc-c2ac-4332-852b-ec93012afeed",
   "metadata": {},
   "outputs": [],
   "source": [
    "from sklearn.pipeline import Pipeline\n",
    "from sklearn.model_selection import GridSearchCV\n",
    "from sklearn.ensemble import RandomForestClassifier\n",
    "import xgboost as xgb\n",
    "from sklearn.svm import SVC"
   ]
  },
  {
   "cell_type": "code",
   "execution_count": 6,
   "id": "7578b81a-9ba8-4b91-ad07-2854d0d3dc32",
   "metadata": {},
   "outputs": [],
   "source": [
    "from sklearn.feature_selection import SelectKBest, chi2, mutual_info_classif,SelectFromModel\n",
    "from mrmr import mrmr_classif, mrmr_regression"
   ]
  },
  {
   "cell_type": "code",
   "execution_count": 7,
   "id": "e9019390-710f-41cf-9aeb-67fe59c66e9e",
   "metadata": {},
   "outputs": [],
   "source": [
    "from sklearn.metrics import f1_score, balanced_accuracy_score\n",
    "from sklearn.metrics import classification_report,confusion_matrix"
   ]
  },
  {
   "cell_type": "code",
   "execution_count": null,
   "id": "3e09f689-6e44-4a4a-b449-f30401aa729d",
   "metadata": {},
   "outputs": [],
   "source": []
  },
  {
   "cell_type": "code",
   "execution_count": 8,
   "id": "246a1a22-3c20-4f10-8a6e-447451eee802",
   "metadata": {},
   "outputs": [],
   "source": [
    "df = pd.read_csv(r'C:\\Users\\USER\\Downloads\\hotel_bookings.csv')"
   ]
  },
  {
   "cell_type": "code",
   "execution_count": 9,
   "id": "1532310d-358b-4314-811a-5f1092acbced",
   "metadata": {},
   "outputs": [],
   "source": [
    "pd.set_option('display.max_columns', None)"
   ]
  },
  {
   "cell_type": "code",
   "execution_count": 10,
   "id": "c85b05bc-a847-4ae0-9f62-ce83996cbb25",
   "metadata": {},
   "outputs": [
    {
     "data": {
      "text/html": [
       "<div>\n",
       "<style scoped>\n",
       "    .dataframe tbody tr th:only-of-type {\n",
       "        vertical-align: middle;\n",
       "    }\n",
       "\n",
       "    .dataframe tbody tr th {\n",
       "        vertical-align: top;\n",
       "    }\n",
       "\n",
       "    .dataframe thead th {\n",
       "        text-align: right;\n",
       "    }\n",
       "</style>\n",
       "<table border=\"1\" class=\"dataframe\">\n",
       "  <thead>\n",
       "    <tr style=\"text-align: right;\">\n",
       "      <th></th>\n",
       "      <th>hotel</th>\n",
       "      <th>is_canceled</th>\n",
       "      <th>lead_time</th>\n",
       "      <th>arrival_date_year</th>\n",
       "      <th>arrival_date_month</th>\n",
       "      <th>arrival_date_week_number</th>\n",
       "      <th>arrival_date_day_of_month</th>\n",
       "      <th>stays_in_weekend_nights</th>\n",
       "      <th>stays_in_week_nights</th>\n",
       "      <th>adults</th>\n",
       "      <th>children</th>\n",
       "      <th>babies</th>\n",
       "      <th>meal</th>\n",
       "      <th>country</th>\n",
       "      <th>market_segment</th>\n",
       "      <th>distribution_channel</th>\n",
       "      <th>is_repeated_guest</th>\n",
       "      <th>previous_cancellations</th>\n",
       "      <th>previous_bookings_not_canceled</th>\n",
       "      <th>reserved_room_type</th>\n",
       "      <th>assigned_room_type</th>\n",
       "      <th>booking_changes</th>\n",
       "      <th>deposit_type</th>\n",
       "      <th>agent</th>\n",
       "      <th>company</th>\n",
       "      <th>days_in_waiting_list</th>\n",
       "      <th>customer_type</th>\n",
       "      <th>adr</th>\n",
       "      <th>required_car_parking_spaces</th>\n",
       "      <th>total_of_special_requests</th>\n",
       "      <th>reservation_status</th>\n",
       "      <th>reservation_status_date</th>\n",
       "    </tr>\n",
       "  </thead>\n",
       "  <tbody>\n",
       "    <tr>\n",
       "      <th>0</th>\n",
       "      <td>Resort Hotel</td>\n",
       "      <td>0</td>\n",
       "      <td>342</td>\n",
       "      <td>2015</td>\n",
       "      <td>July</td>\n",
       "      <td>27</td>\n",
       "      <td>1</td>\n",
       "      <td>0</td>\n",
       "      <td>0</td>\n",
       "      <td>2</td>\n",
       "      <td>0.0</td>\n",
       "      <td>0</td>\n",
       "      <td>BB</td>\n",
       "      <td>PRT</td>\n",
       "      <td>Direct</td>\n",
       "      <td>Direct</td>\n",
       "      <td>0</td>\n",
       "      <td>0</td>\n",
       "      <td>0</td>\n",
       "      <td>C</td>\n",
       "      <td>C</td>\n",
       "      <td>3</td>\n",
       "      <td>No Deposit</td>\n",
       "      <td>NaN</td>\n",
       "      <td>NaN</td>\n",
       "      <td>0</td>\n",
       "      <td>Transient</td>\n",
       "      <td>0.00</td>\n",
       "      <td>0</td>\n",
       "      <td>0</td>\n",
       "      <td>Check-Out</td>\n",
       "      <td>2015-07-01</td>\n",
       "    </tr>\n",
       "    <tr>\n",
       "      <th>1</th>\n",
       "      <td>Resort Hotel</td>\n",
       "      <td>0</td>\n",
       "      <td>737</td>\n",
       "      <td>2015</td>\n",
       "      <td>July</td>\n",
       "      <td>27</td>\n",
       "      <td>1</td>\n",
       "      <td>0</td>\n",
       "      <td>0</td>\n",
       "      <td>2</td>\n",
       "      <td>0.0</td>\n",
       "      <td>0</td>\n",
       "      <td>BB</td>\n",
       "      <td>PRT</td>\n",
       "      <td>Direct</td>\n",
       "      <td>Direct</td>\n",
       "      <td>0</td>\n",
       "      <td>0</td>\n",
       "      <td>0</td>\n",
       "      <td>C</td>\n",
       "      <td>C</td>\n",
       "      <td>4</td>\n",
       "      <td>No Deposit</td>\n",
       "      <td>NaN</td>\n",
       "      <td>NaN</td>\n",
       "      <td>0</td>\n",
       "      <td>Transient</td>\n",
       "      <td>0.00</td>\n",
       "      <td>0</td>\n",
       "      <td>0</td>\n",
       "      <td>Check-Out</td>\n",
       "      <td>2015-07-01</td>\n",
       "    </tr>\n",
       "    <tr>\n",
       "      <th>2</th>\n",
       "      <td>Resort Hotel</td>\n",
       "      <td>0</td>\n",
       "      <td>7</td>\n",
       "      <td>2015</td>\n",
       "      <td>July</td>\n",
       "      <td>27</td>\n",
       "      <td>1</td>\n",
       "      <td>0</td>\n",
       "      <td>1</td>\n",
       "      <td>1</td>\n",
       "      <td>0.0</td>\n",
       "      <td>0</td>\n",
       "      <td>BB</td>\n",
       "      <td>GBR</td>\n",
       "      <td>Direct</td>\n",
       "      <td>Direct</td>\n",
       "      <td>0</td>\n",
       "      <td>0</td>\n",
       "      <td>0</td>\n",
       "      <td>A</td>\n",
       "      <td>C</td>\n",
       "      <td>0</td>\n",
       "      <td>No Deposit</td>\n",
       "      <td>NaN</td>\n",
       "      <td>NaN</td>\n",
       "      <td>0</td>\n",
       "      <td>Transient</td>\n",
       "      <td>75.00</td>\n",
       "      <td>0</td>\n",
       "      <td>0</td>\n",
       "      <td>Check-Out</td>\n",
       "      <td>2015-07-02</td>\n",
       "    </tr>\n",
       "    <tr>\n",
       "      <th>3</th>\n",
       "      <td>Resort Hotel</td>\n",
       "      <td>0</td>\n",
       "      <td>13</td>\n",
       "      <td>2015</td>\n",
       "      <td>July</td>\n",
       "      <td>27</td>\n",
       "      <td>1</td>\n",
       "      <td>0</td>\n",
       "      <td>1</td>\n",
       "      <td>1</td>\n",
       "      <td>0.0</td>\n",
       "      <td>0</td>\n",
       "      <td>BB</td>\n",
       "      <td>GBR</td>\n",
       "      <td>Corporate</td>\n",
       "      <td>Corporate</td>\n",
       "      <td>0</td>\n",
       "      <td>0</td>\n",
       "      <td>0</td>\n",
       "      <td>A</td>\n",
       "      <td>A</td>\n",
       "      <td>0</td>\n",
       "      <td>No Deposit</td>\n",
       "      <td>304.0</td>\n",
       "      <td>NaN</td>\n",
       "      <td>0</td>\n",
       "      <td>Transient</td>\n",
       "      <td>75.00</td>\n",
       "      <td>0</td>\n",
       "      <td>0</td>\n",
       "      <td>Check-Out</td>\n",
       "      <td>2015-07-02</td>\n",
       "    </tr>\n",
       "    <tr>\n",
       "      <th>4</th>\n",
       "      <td>Resort Hotel</td>\n",
       "      <td>0</td>\n",
       "      <td>14</td>\n",
       "      <td>2015</td>\n",
       "      <td>July</td>\n",
       "      <td>27</td>\n",
       "      <td>1</td>\n",
       "      <td>0</td>\n",
       "      <td>2</td>\n",
       "      <td>2</td>\n",
       "      <td>0.0</td>\n",
       "      <td>0</td>\n",
       "      <td>BB</td>\n",
       "      <td>GBR</td>\n",
       "      <td>Online TA</td>\n",
       "      <td>TA/TO</td>\n",
       "      <td>0</td>\n",
       "      <td>0</td>\n",
       "      <td>0</td>\n",
       "      <td>A</td>\n",
       "      <td>A</td>\n",
       "      <td>0</td>\n",
       "      <td>No Deposit</td>\n",
       "      <td>240.0</td>\n",
       "      <td>NaN</td>\n",
       "      <td>0</td>\n",
       "      <td>Transient</td>\n",
       "      <td>98.00</td>\n",
       "      <td>0</td>\n",
       "      <td>1</td>\n",
       "      <td>Check-Out</td>\n",
       "      <td>2015-07-03</td>\n",
       "    </tr>\n",
       "    <tr>\n",
       "      <th>...</th>\n",
       "      <td>...</td>\n",
       "      <td>...</td>\n",
       "      <td>...</td>\n",
       "      <td>...</td>\n",
       "      <td>...</td>\n",
       "      <td>...</td>\n",
       "      <td>...</td>\n",
       "      <td>...</td>\n",
       "      <td>...</td>\n",
       "      <td>...</td>\n",
       "      <td>...</td>\n",
       "      <td>...</td>\n",
       "      <td>...</td>\n",
       "      <td>...</td>\n",
       "      <td>...</td>\n",
       "      <td>...</td>\n",
       "      <td>...</td>\n",
       "      <td>...</td>\n",
       "      <td>...</td>\n",
       "      <td>...</td>\n",
       "      <td>...</td>\n",
       "      <td>...</td>\n",
       "      <td>...</td>\n",
       "      <td>...</td>\n",
       "      <td>...</td>\n",
       "      <td>...</td>\n",
       "      <td>...</td>\n",
       "      <td>...</td>\n",
       "      <td>...</td>\n",
       "      <td>...</td>\n",
       "      <td>...</td>\n",
       "      <td>...</td>\n",
       "    </tr>\n",
       "    <tr>\n",
       "      <th>119385</th>\n",
       "      <td>City Hotel</td>\n",
       "      <td>0</td>\n",
       "      <td>23</td>\n",
       "      <td>2017</td>\n",
       "      <td>August</td>\n",
       "      <td>35</td>\n",
       "      <td>30</td>\n",
       "      <td>2</td>\n",
       "      <td>5</td>\n",
       "      <td>2</td>\n",
       "      <td>0.0</td>\n",
       "      <td>0</td>\n",
       "      <td>BB</td>\n",
       "      <td>BEL</td>\n",
       "      <td>Offline TA/TO</td>\n",
       "      <td>TA/TO</td>\n",
       "      <td>0</td>\n",
       "      <td>0</td>\n",
       "      <td>0</td>\n",
       "      <td>A</td>\n",
       "      <td>A</td>\n",
       "      <td>0</td>\n",
       "      <td>No Deposit</td>\n",
       "      <td>394.0</td>\n",
       "      <td>NaN</td>\n",
       "      <td>0</td>\n",
       "      <td>Transient</td>\n",
       "      <td>96.14</td>\n",
       "      <td>0</td>\n",
       "      <td>0</td>\n",
       "      <td>Check-Out</td>\n",
       "      <td>2017-09-06</td>\n",
       "    </tr>\n",
       "    <tr>\n",
       "      <th>119386</th>\n",
       "      <td>City Hotel</td>\n",
       "      <td>0</td>\n",
       "      <td>102</td>\n",
       "      <td>2017</td>\n",
       "      <td>August</td>\n",
       "      <td>35</td>\n",
       "      <td>31</td>\n",
       "      <td>2</td>\n",
       "      <td>5</td>\n",
       "      <td>3</td>\n",
       "      <td>0.0</td>\n",
       "      <td>0</td>\n",
       "      <td>BB</td>\n",
       "      <td>FRA</td>\n",
       "      <td>Online TA</td>\n",
       "      <td>TA/TO</td>\n",
       "      <td>0</td>\n",
       "      <td>0</td>\n",
       "      <td>0</td>\n",
       "      <td>E</td>\n",
       "      <td>E</td>\n",
       "      <td>0</td>\n",
       "      <td>No Deposit</td>\n",
       "      <td>9.0</td>\n",
       "      <td>NaN</td>\n",
       "      <td>0</td>\n",
       "      <td>Transient</td>\n",
       "      <td>225.43</td>\n",
       "      <td>0</td>\n",
       "      <td>2</td>\n",
       "      <td>Check-Out</td>\n",
       "      <td>2017-09-07</td>\n",
       "    </tr>\n",
       "    <tr>\n",
       "      <th>119387</th>\n",
       "      <td>City Hotel</td>\n",
       "      <td>0</td>\n",
       "      <td>34</td>\n",
       "      <td>2017</td>\n",
       "      <td>August</td>\n",
       "      <td>35</td>\n",
       "      <td>31</td>\n",
       "      <td>2</td>\n",
       "      <td>5</td>\n",
       "      <td>2</td>\n",
       "      <td>0.0</td>\n",
       "      <td>0</td>\n",
       "      <td>BB</td>\n",
       "      <td>DEU</td>\n",
       "      <td>Online TA</td>\n",
       "      <td>TA/TO</td>\n",
       "      <td>0</td>\n",
       "      <td>0</td>\n",
       "      <td>0</td>\n",
       "      <td>D</td>\n",
       "      <td>D</td>\n",
       "      <td>0</td>\n",
       "      <td>No Deposit</td>\n",
       "      <td>9.0</td>\n",
       "      <td>NaN</td>\n",
       "      <td>0</td>\n",
       "      <td>Transient</td>\n",
       "      <td>157.71</td>\n",
       "      <td>0</td>\n",
       "      <td>4</td>\n",
       "      <td>Check-Out</td>\n",
       "      <td>2017-09-07</td>\n",
       "    </tr>\n",
       "    <tr>\n",
       "      <th>119388</th>\n",
       "      <td>City Hotel</td>\n",
       "      <td>0</td>\n",
       "      <td>109</td>\n",
       "      <td>2017</td>\n",
       "      <td>August</td>\n",
       "      <td>35</td>\n",
       "      <td>31</td>\n",
       "      <td>2</td>\n",
       "      <td>5</td>\n",
       "      <td>2</td>\n",
       "      <td>0.0</td>\n",
       "      <td>0</td>\n",
       "      <td>BB</td>\n",
       "      <td>GBR</td>\n",
       "      <td>Online TA</td>\n",
       "      <td>TA/TO</td>\n",
       "      <td>0</td>\n",
       "      <td>0</td>\n",
       "      <td>0</td>\n",
       "      <td>A</td>\n",
       "      <td>A</td>\n",
       "      <td>0</td>\n",
       "      <td>No Deposit</td>\n",
       "      <td>89.0</td>\n",
       "      <td>NaN</td>\n",
       "      <td>0</td>\n",
       "      <td>Transient</td>\n",
       "      <td>104.40</td>\n",
       "      <td>0</td>\n",
       "      <td>0</td>\n",
       "      <td>Check-Out</td>\n",
       "      <td>2017-09-07</td>\n",
       "    </tr>\n",
       "    <tr>\n",
       "      <th>119389</th>\n",
       "      <td>City Hotel</td>\n",
       "      <td>0</td>\n",
       "      <td>205</td>\n",
       "      <td>2017</td>\n",
       "      <td>August</td>\n",
       "      <td>35</td>\n",
       "      <td>29</td>\n",
       "      <td>2</td>\n",
       "      <td>7</td>\n",
       "      <td>2</td>\n",
       "      <td>0.0</td>\n",
       "      <td>0</td>\n",
       "      <td>HB</td>\n",
       "      <td>DEU</td>\n",
       "      <td>Online TA</td>\n",
       "      <td>TA/TO</td>\n",
       "      <td>0</td>\n",
       "      <td>0</td>\n",
       "      <td>0</td>\n",
       "      <td>A</td>\n",
       "      <td>A</td>\n",
       "      <td>0</td>\n",
       "      <td>No Deposit</td>\n",
       "      <td>9.0</td>\n",
       "      <td>NaN</td>\n",
       "      <td>0</td>\n",
       "      <td>Transient</td>\n",
       "      <td>151.20</td>\n",
       "      <td>0</td>\n",
       "      <td>2</td>\n",
       "      <td>Check-Out</td>\n",
       "      <td>2017-09-07</td>\n",
       "    </tr>\n",
       "  </tbody>\n",
       "</table>\n",
       "<p>119390 rows × 32 columns</p>\n",
       "</div>"
      ],
      "text/plain": [
       "               hotel  is_canceled  lead_time  arrival_date_year  \\\n",
       "0       Resort Hotel            0        342               2015   \n",
       "1       Resort Hotel            0        737               2015   \n",
       "2       Resort Hotel            0          7               2015   \n",
       "3       Resort Hotel            0         13               2015   \n",
       "4       Resort Hotel            0         14               2015   \n",
       "...              ...          ...        ...                ...   \n",
       "119385    City Hotel            0         23               2017   \n",
       "119386    City Hotel            0        102               2017   \n",
       "119387    City Hotel            0         34               2017   \n",
       "119388    City Hotel            0        109               2017   \n",
       "119389    City Hotel            0        205               2017   \n",
       "\n",
       "       arrival_date_month  arrival_date_week_number  \\\n",
       "0                    July                        27   \n",
       "1                    July                        27   \n",
       "2                    July                        27   \n",
       "3                    July                        27   \n",
       "4                    July                        27   \n",
       "...                   ...                       ...   \n",
       "119385             August                        35   \n",
       "119386             August                        35   \n",
       "119387             August                        35   \n",
       "119388             August                        35   \n",
       "119389             August                        35   \n",
       "\n",
       "        arrival_date_day_of_month  stays_in_weekend_nights  \\\n",
       "0                               1                        0   \n",
       "1                               1                        0   \n",
       "2                               1                        0   \n",
       "3                               1                        0   \n",
       "4                               1                        0   \n",
       "...                           ...                      ...   \n",
       "119385                         30                        2   \n",
       "119386                         31                        2   \n",
       "119387                         31                        2   \n",
       "119388                         31                        2   \n",
       "119389                         29                        2   \n",
       "\n",
       "        stays_in_week_nights  adults  children  babies meal country  \\\n",
       "0                          0       2       0.0       0   BB     PRT   \n",
       "1                          0       2       0.0       0   BB     PRT   \n",
       "2                          1       1       0.0       0   BB     GBR   \n",
       "3                          1       1       0.0       0   BB     GBR   \n",
       "4                          2       2       0.0       0   BB     GBR   \n",
       "...                      ...     ...       ...     ...  ...     ...   \n",
       "119385                     5       2       0.0       0   BB     BEL   \n",
       "119386                     5       3       0.0       0   BB     FRA   \n",
       "119387                     5       2       0.0       0   BB     DEU   \n",
       "119388                     5       2       0.0       0   BB     GBR   \n",
       "119389                     7       2       0.0       0   HB     DEU   \n",
       "\n",
       "       market_segment distribution_channel  is_repeated_guest  \\\n",
       "0              Direct               Direct                  0   \n",
       "1              Direct               Direct                  0   \n",
       "2              Direct               Direct                  0   \n",
       "3           Corporate            Corporate                  0   \n",
       "4           Online TA                TA/TO                  0   \n",
       "...               ...                  ...                ...   \n",
       "119385  Offline TA/TO                TA/TO                  0   \n",
       "119386      Online TA                TA/TO                  0   \n",
       "119387      Online TA                TA/TO                  0   \n",
       "119388      Online TA                TA/TO                  0   \n",
       "119389      Online TA                TA/TO                  0   \n",
       "\n",
       "        previous_cancellations  previous_bookings_not_canceled  \\\n",
       "0                            0                               0   \n",
       "1                            0                               0   \n",
       "2                            0                               0   \n",
       "3                            0                               0   \n",
       "4                            0                               0   \n",
       "...                        ...                             ...   \n",
       "119385                       0                               0   \n",
       "119386                       0                               0   \n",
       "119387                       0                               0   \n",
       "119388                       0                               0   \n",
       "119389                       0                               0   \n",
       "\n",
       "       reserved_room_type assigned_room_type  booking_changes deposit_type  \\\n",
       "0                       C                  C                3   No Deposit   \n",
       "1                       C                  C                4   No Deposit   \n",
       "2                       A                  C                0   No Deposit   \n",
       "3                       A                  A                0   No Deposit   \n",
       "4                       A                  A                0   No Deposit   \n",
       "...                   ...                ...              ...          ...   \n",
       "119385                  A                  A                0   No Deposit   \n",
       "119386                  E                  E                0   No Deposit   \n",
       "119387                  D                  D                0   No Deposit   \n",
       "119388                  A                  A                0   No Deposit   \n",
       "119389                  A                  A                0   No Deposit   \n",
       "\n",
       "        agent  company  days_in_waiting_list customer_type     adr  \\\n",
       "0         NaN      NaN                     0     Transient    0.00   \n",
       "1         NaN      NaN                     0     Transient    0.00   \n",
       "2         NaN      NaN                     0     Transient   75.00   \n",
       "3       304.0      NaN                     0     Transient   75.00   \n",
       "4       240.0      NaN                     0     Transient   98.00   \n",
       "...       ...      ...                   ...           ...     ...   \n",
       "119385  394.0      NaN                     0     Transient   96.14   \n",
       "119386    9.0      NaN                     0     Transient  225.43   \n",
       "119387    9.0      NaN                     0     Transient  157.71   \n",
       "119388   89.0      NaN                     0     Transient  104.40   \n",
       "119389    9.0      NaN                     0     Transient  151.20   \n",
       "\n",
       "        required_car_parking_spaces  total_of_special_requests  \\\n",
       "0                                 0                          0   \n",
       "1                                 0                          0   \n",
       "2                                 0                          0   \n",
       "3                                 0                          0   \n",
       "4                                 0                          1   \n",
       "...                             ...                        ...   \n",
       "119385                            0                          0   \n",
       "119386                            0                          2   \n",
       "119387                            0                          4   \n",
       "119388                            0                          0   \n",
       "119389                            0                          2   \n",
       "\n",
       "       reservation_status reservation_status_date  \n",
       "0               Check-Out              2015-07-01  \n",
       "1               Check-Out              2015-07-01  \n",
       "2               Check-Out              2015-07-02  \n",
       "3               Check-Out              2015-07-02  \n",
       "4               Check-Out              2015-07-03  \n",
       "...                   ...                     ...  \n",
       "119385          Check-Out              2017-09-06  \n",
       "119386          Check-Out              2017-09-07  \n",
       "119387          Check-Out              2017-09-07  \n",
       "119388          Check-Out              2017-09-07  \n",
       "119389          Check-Out              2017-09-07  \n",
       "\n",
       "[119390 rows x 32 columns]"
      ]
     },
     "execution_count": 10,
     "metadata": {},
     "output_type": "execute_result"
    }
   ],
   "source": [
    "df"
   ]
  },
  {
   "cell_type": "code",
   "execution_count": 11,
   "id": "d2645917-9d56-4a35-8e8d-2b25ea29aec9",
   "metadata": {},
   "outputs": [
    {
     "data": {
      "text/plain": [
       "Index(['hotel', 'is_canceled', 'lead_time', 'arrival_date_year',\n",
       "       'arrival_date_month', 'arrival_date_week_number',\n",
       "       'arrival_date_day_of_month', 'stays_in_weekend_nights',\n",
       "       'stays_in_week_nights', 'adults', 'children', 'babies', 'meal',\n",
       "       'country', 'market_segment', 'distribution_channel',\n",
       "       'is_repeated_guest', 'previous_cancellations',\n",
       "       'previous_bookings_not_canceled', 'reserved_room_type',\n",
       "       'assigned_room_type', 'booking_changes', 'deposit_type', 'agent',\n",
       "       'company', 'days_in_waiting_list', 'customer_type', 'adr',\n",
       "       'required_car_parking_spaces', 'total_of_special_requests',\n",
       "       'reservation_status', 'reservation_status_date'],\n",
       "      dtype='object')"
      ]
     },
     "execution_count": 11,
     "metadata": {},
     "output_type": "execute_result"
    }
   ],
   "source": [
    "df.columns"
   ]
  },
  {
   "cell_type": "code",
   "execution_count": 12,
   "id": "6097abd2-bd35-4e36-8fe9-34d2bd8f3787",
   "metadata": {},
   "outputs": [
    {
     "name": "stdout",
     "output_type": "stream",
     "text": [
      "<class 'pandas.core.frame.DataFrame'>\n",
      "RangeIndex: 119390 entries, 0 to 119389\n",
      "Data columns (total 32 columns):\n",
      " #   Column                          Non-Null Count   Dtype  \n",
      "---  ------                          --------------   -----  \n",
      " 0   hotel                           119390 non-null  object \n",
      " 1   is_canceled                     119390 non-null  int64  \n",
      " 2   lead_time                       119390 non-null  int64  \n",
      " 3   arrival_date_year               119390 non-null  int64  \n",
      " 4   arrival_date_month              119390 non-null  object \n",
      " 5   arrival_date_week_number        119390 non-null  int64  \n",
      " 6   arrival_date_day_of_month       119390 non-null  int64  \n",
      " 7   stays_in_weekend_nights         119390 non-null  int64  \n",
      " 8   stays_in_week_nights            119390 non-null  int64  \n",
      " 9   adults                          119390 non-null  int64  \n",
      " 10  children                        119386 non-null  float64\n",
      " 11  babies                          119390 non-null  int64  \n",
      " 12  meal                            119390 non-null  object \n",
      " 13  country                         118902 non-null  object \n",
      " 14  market_segment                  119390 non-null  object \n",
      " 15  distribution_channel            119390 non-null  object \n",
      " 16  is_repeated_guest               119390 non-null  int64  \n",
      " 17  previous_cancellations          119390 non-null  int64  \n",
      " 18  previous_bookings_not_canceled  119390 non-null  int64  \n",
      " 19  reserved_room_type              119390 non-null  object \n",
      " 20  assigned_room_type              119390 non-null  object \n",
      " 21  booking_changes                 119390 non-null  int64  \n",
      " 22  deposit_type                    119390 non-null  object \n",
      " 23  agent                           103050 non-null  float64\n",
      " 24  company                         6797 non-null    float64\n",
      " 25  days_in_waiting_list            119390 non-null  int64  \n",
      " 26  customer_type                   119390 non-null  object \n",
      " 27  adr                             119390 non-null  float64\n",
      " 28  required_car_parking_spaces     119390 non-null  int64  \n",
      " 29  total_of_special_requests       119390 non-null  int64  \n",
      " 30  reservation_status              119390 non-null  object \n",
      " 31  reservation_status_date         119390 non-null  object \n",
      "dtypes: float64(4), int64(16), object(12)\n",
      "memory usage: 29.1+ MB\n"
     ]
    }
   ],
   "source": [
    "df.info()"
   ]
  },
  {
   "cell_type": "code",
   "execution_count": 13,
   "id": "eb5f7eb2-c0d0-4b9c-960f-660cbab946a5",
   "metadata": {},
   "outputs": [],
   "source": [
    "df = df.drop(columns = ['arrival_date_month','reservation_status_date','reservation_status','arrival_date_year','assigned_room_type','company','agent','country'])"
   ]
  },
  {
   "cell_type": "code",
   "execution_count": 14,
   "id": "e50465c5-ecbb-4e7a-bb66-6f19fdda5a96",
   "metadata": {},
   "outputs": [],
   "source": [
    "#df[['company','agent']] = df[['company','agent']].fillna(0)"
   ]
  },
  {
   "cell_type": "code",
   "execution_count": 15,
   "id": "2f3f17f9-d064-455a-9ca4-c49160e92c28",
   "metadata": {},
   "outputs": [
    {
     "name": "stdout",
     "output_type": "stream",
     "text": [
      "<class 'pandas.core.frame.DataFrame'>\n",
      "RangeIndex: 119390 entries, 0 to 119389\n",
      "Data columns (total 24 columns):\n",
      " #   Column                          Non-Null Count   Dtype  \n",
      "---  ------                          --------------   -----  \n",
      " 0   hotel                           119390 non-null  object \n",
      " 1   is_canceled                     119390 non-null  int64  \n",
      " 2   lead_time                       119390 non-null  int64  \n",
      " 3   arrival_date_week_number        119390 non-null  int64  \n",
      " 4   arrival_date_day_of_month       119390 non-null  int64  \n",
      " 5   stays_in_weekend_nights         119390 non-null  int64  \n",
      " 6   stays_in_week_nights            119390 non-null  int64  \n",
      " 7   adults                          119390 non-null  int64  \n",
      " 8   children                        119386 non-null  float64\n",
      " 9   babies                          119390 non-null  int64  \n",
      " 10  meal                            119390 non-null  object \n",
      " 11  market_segment                  119390 non-null  object \n",
      " 12  distribution_channel            119390 non-null  object \n",
      " 13  is_repeated_guest               119390 non-null  int64  \n",
      " 14  previous_cancellations          119390 non-null  int64  \n",
      " 15  previous_bookings_not_canceled  119390 non-null  int64  \n",
      " 16  reserved_room_type              119390 non-null  object \n",
      " 17  booking_changes                 119390 non-null  int64  \n",
      " 18  deposit_type                    119390 non-null  object \n",
      " 19  days_in_waiting_list            119390 non-null  int64  \n",
      " 20  customer_type                   119390 non-null  object \n",
      " 21  adr                             119390 non-null  float64\n",
      " 22  required_car_parking_spaces     119390 non-null  int64  \n",
      " 23  total_of_special_requests       119390 non-null  int64  \n",
      "dtypes: float64(2), int64(15), object(7)\n",
      "memory usage: 21.9+ MB\n"
     ]
    }
   ],
   "source": [
    "df.info()"
   ]
  },
  {
   "cell_type": "code",
   "execution_count": 16,
   "id": "fb81d255-0d14-4fef-b09f-c07e911a1186",
   "metadata": {},
   "outputs": [],
   "source": [
    "df.dropna(inplace = True)"
   ]
  },
  {
   "cell_type": "code",
   "execution_count": 17,
   "id": "ff0cdca6-d658-4e08-8537-38381b363d18",
   "metadata": {},
   "outputs": [
    {
     "name": "stdout",
     "output_type": "stream",
     "text": [
      "<class 'pandas.core.frame.DataFrame'>\n",
      "Int64Index: 119386 entries, 0 to 119389\n",
      "Data columns (total 24 columns):\n",
      " #   Column                          Non-Null Count   Dtype  \n",
      "---  ------                          --------------   -----  \n",
      " 0   hotel                           119386 non-null  object \n",
      " 1   is_canceled                     119386 non-null  int64  \n",
      " 2   lead_time                       119386 non-null  int64  \n",
      " 3   arrival_date_week_number        119386 non-null  int64  \n",
      " 4   arrival_date_day_of_month       119386 non-null  int64  \n",
      " 5   stays_in_weekend_nights         119386 non-null  int64  \n",
      " 6   stays_in_week_nights            119386 non-null  int64  \n",
      " 7   adults                          119386 non-null  int64  \n",
      " 8   children                        119386 non-null  float64\n",
      " 9   babies                          119386 non-null  int64  \n",
      " 10  meal                            119386 non-null  object \n",
      " 11  market_segment                  119386 non-null  object \n",
      " 12  distribution_channel            119386 non-null  object \n",
      " 13  is_repeated_guest               119386 non-null  int64  \n",
      " 14  previous_cancellations          119386 non-null  int64  \n",
      " 15  previous_bookings_not_canceled  119386 non-null  int64  \n",
      " 16  reserved_room_type              119386 non-null  object \n",
      " 17  booking_changes                 119386 non-null  int64  \n",
      " 18  deposit_type                    119386 non-null  object \n",
      " 19  days_in_waiting_list            119386 non-null  int64  \n",
      " 20  customer_type                   119386 non-null  object \n",
      " 21  adr                             119386 non-null  float64\n",
      " 22  required_car_parking_spaces     119386 non-null  int64  \n",
      " 23  total_of_special_requests       119386 non-null  int64  \n",
      "dtypes: float64(2), int64(15), object(7)\n",
      "memory usage: 22.8+ MB\n"
     ]
    }
   ],
   "source": [
    "df.info()"
   ]
  },
  {
   "cell_type": "code",
   "execution_count": 18,
   "id": "a31dce30-0bfe-4d34-b48d-03e6bebd0fc4",
   "metadata": {},
   "outputs": [],
   "source": [
    "# Lets proceed without company and agent\n",
    "#lst = ['hotel','meal','country','market_segment','distribution_channel','reserved_room_type','deposit_type','customer_type','company','agent']"
   ]
  },
  {
   "cell_type": "code",
   "execution_count": 19,
   "id": "367e77fd-f4eb-4fcc-8960-2d83a7a36f58",
   "metadata": {},
   "outputs": [],
   "source": [
    "lst = ['hotel','meal','market_segment','distribution_channel','reserved_room_type','deposit_type','customer_type']"
   ]
  },
  {
   "cell_type": "code",
   "execution_count": 20,
   "id": "3e803175-6b9b-4f1f-b520-ed3fa93627fe",
   "metadata": {},
   "outputs": [
    {
     "data": {
      "text/plain": [
       "7"
      ]
     },
     "execution_count": 20,
     "metadata": {},
     "output_type": "execute_result"
    }
   ],
   "source": [
    "len(lst)"
   ]
  },
  {
   "cell_type": "code",
   "execution_count": 21,
   "id": "e74e1c55-6e00-4b1b-a664-5aa5ab61cb21",
   "metadata": {},
   "outputs": [],
   "source": [
    "df[lst] = df[lst].astype('category')"
   ]
  },
  {
   "cell_type": "code",
   "execution_count": 22,
   "id": "bd6fe0e3-5583-4fcf-84a4-e210184964fb",
   "metadata": {},
   "outputs": [
    {
     "name": "stdout",
     "output_type": "stream",
     "text": [
      "<class 'pandas.core.frame.DataFrame'>\n",
      "Int64Index: 119386 entries, 0 to 119389\n",
      "Data columns (total 24 columns):\n",
      " #   Column                          Non-Null Count   Dtype   \n",
      "---  ------                          --------------   -----   \n",
      " 0   hotel                           119386 non-null  category\n",
      " 1   is_canceled                     119386 non-null  int64   \n",
      " 2   lead_time                       119386 non-null  int64   \n",
      " 3   arrival_date_week_number        119386 non-null  int64   \n",
      " 4   arrival_date_day_of_month       119386 non-null  int64   \n",
      " 5   stays_in_weekend_nights         119386 non-null  int64   \n",
      " 6   stays_in_week_nights            119386 non-null  int64   \n",
      " 7   adults                          119386 non-null  int64   \n",
      " 8   children                        119386 non-null  float64 \n",
      " 9   babies                          119386 non-null  int64   \n",
      " 10  meal                            119386 non-null  category\n",
      " 11  market_segment                  119386 non-null  category\n",
      " 12  distribution_channel            119386 non-null  category\n",
      " 13  is_repeated_guest               119386 non-null  int64   \n",
      " 14  previous_cancellations          119386 non-null  int64   \n",
      " 15  previous_bookings_not_canceled  119386 non-null  int64   \n",
      " 16  reserved_room_type              119386 non-null  category\n",
      " 17  booking_changes                 119386 non-null  int64   \n",
      " 18  deposit_type                    119386 non-null  category\n",
      " 19  days_in_waiting_list            119386 non-null  int64   \n",
      " 20  customer_type                   119386 non-null  category\n",
      " 21  adr                             119386 non-null  float64 \n",
      " 22  required_car_parking_spaces     119386 non-null  int64   \n",
      " 23  total_of_special_requests       119386 non-null  int64   \n",
      "dtypes: category(7), float64(2), int64(15)\n",
      "memory usage: 17.2 MB\n"
     ]
    }
   ],
   "source": [
    "df.info()"
   ]
  },
  {
   "cell_type": "code",
   "execution_count": 23,
   "id": "5a48cdb6-04f8-452a-839f-0eced7dece3b",
   "metadata": {},
   "outputs": [],
   "source": [
    "df = pd.get_dummies(df)"
   ]
  },
  {
   "cell_type": "code",
   "execution_count": 24,
   "id": "ce1679f3-919d-4a75-a2c8-a93df11375d7",
   "metadata": {},
   "outputs": [
    {
     "data": {
      "text/html": [
       "<div>\n",
       "<style scoped>\n",
       "    .dataframe tbody tr th:only-of-type {\n",
       "        vertical-align: middle;\n",
       "    }\n",
       "\n",
       "    .dataframe tbody tr th {\n",
       "        vertical-align: top;\n",
       "    }\n",
       "\n",
       "    .dataframe thead th {\n",
       "        text-align: right;\n",
       "    }\n",
       "</style>\n",
       "<table border=\"1\" class=\"dataframe\">\n",
       "  <thead>\n",
       "    <tr style=\"text-align: right;\">\n",
       "      <th></th>\n",
       "      <th>is_canceled</th>\n",
       "      <th>lead_time</th>\n",
       "      <th>arrival_date_week_number</th>\n",
       "      <th>arrival_date_day_of_month</th>\n",
       "      <th>stays_in_weekend_nights</th>\n",
       "      <th>stays_in_week_nights</th>\n",
       "      <th>adults</th>\n",
       "      <th>children</th>\n",
       "      <th>babies</th>\n",
       "      <th>is_repeated_guest</th>\n",
       "      <th>previous_cancellations</th>\n",
       "      <th>previous_bookings_not_canceled</th>\n",
       "      <th>booking_changes</th>\n",
       "      <th>days_in_waiting_list</th>\n",
       "      <th>adr</th>\n",
       "      <th>required_car_parking_spaces</th>\n",
       "      <th>total_of_special_requests</th>\n",
       "      <th>hotel_City Hotel</th>\n",
       "      <th>hotel_Resort Hotel</th>\n",
       "      <th>meal_BB</th>\n",
       "      <th>meal_FB</th>\n",
       "      <th>meal_HB</th>\n",
       "      <th>meal_SC</th>\n",
       "      <th>meal_Undefined</th>\n",
       "      <th>market_segment_Aviation</th>\n",
       "      <th>market_segment_Complementary</th>\n",
       "      <th>market_segment_Corporate</th>\n",
       "      <th>market_segment_Direct</th>\n",
       "      <th>market_segment_Groups</th>\n",
       "      <th>market_segment_Offline TA/TO</th>\n",
       "      <th>market_segment_Online TA</th>\n",
       "      <th>distribution_channel_Corporate</th>\n",
       "      <th>distribution_channel_Direct</th>\n",
       "      <th>distribution_channel_GDS</th>\n",
       "      <th>distribution_channel_TA/TO</th>\n",
       "      <th>distribution_channel_Undefined</th>\n",
       "      <th>reserved_room_type_A</th>\n",
       "      <th>reserved_room_type_B</th>\n",
       "      <th>reserved_room_type_C</th>\n",
       "      <th>reserved_room_type_D</th>\n",
       "      <th>reserved_room_type_E</th>\n",
       "      <th>reserved_room_type_F</th>\n",
       "      <th>reserved_room_type_G</th>\n",
       "      <th>reserved_room_type_H</th>\n",
       "      <th>reserved_room_type_L</th>\n",
       "      <th>reserved_room_type_P</th>\n",
       "      <th>deposit_type_No Deposit</th>\n",
       "      <th>deposit_type_Non Refund</th>\n",
       "      <th>deposit_type_Refundable</th>\n",
       "      <th>customer_type_Contract</th>\n",
       "      <th>customer_type_Group</th>\n",
       "      <th>customer_type_Transient</th>\n",
       "      <th>customer_type_Transient-Party</th>\n",
       "    </tr>\n",
       "  </thead>\n",
       "  <tbody>\n",
       "    <tr>\n",
       "      <th>0</th>\n",
       "      <td>0</td>\n",
       "      <td>342</td>\n",
       "      <td>27</td>\n",
       "      <td>1</td>\n",
       "      <td>0</td>\n",
       "      <td>0</td>\n",
       "      <td>2</td>\n",
       "      <td>0.0</td>\n",
       "      <td>0</td>\n",
       "      <td>0</td>\n",
       "      <td>0</td>\n",
       "      <td>0</td>\n",
       "      <td>3</td>\n",
       "      <td>0</td>\n",
       "      <td>0.00</td>\n",
       "      <td>0</td>\n",
       "      <td>0</td>\n",
       "      <td>0</td>\n",
       "      <td>1</td>\n",
       "      <td>1</td>\n",
       "      <td>0</td>\n",
       "      <td>0</td>\n",
       "      <td>0</td>\n",
       "      <td>0</td>\n",
       "      <td>0</td>\n",
       "      <td>0</td>\n",
       "      <td>0</td>\n",
       "      <td>1</td>\n",
       "      <td>0</td>\n",
       "      <td>0</td>\n",
       "      <td>0</td>\n",
       "      <td>0</td>\n",
       "      <td>1</td>\n",
       "      <td>0</td>\n",
       "      <td>0</td>\n",
       "      <td>0</td>\n",
       "      <td>0</td>\n",
       "      <td>0</td>\n",
       "      <td>1</td>\n",
       "      <td>0</td>\n",
       "      <td>0</td>\n",
       "      <td>0</td>\n",
       "      <td>0</td>\n",
       "      <td>0</td>\n",
       "      <td>0</td>\n",
       "      <td>0</td>\n",
       "      <td>1</td>\n",
       "      <td>0</td>\n",
       "      <td>0</td>\n",
       "      <td>0</td>\n",
       "      <td>0</td>\n",
       "      <td>1</td>\n",
       "      <td>0</td>\n",
       "    </tr>\n",
       "    <tr>\n",
       "      <th>1</th>\n",
       "      <td>0</td>\n",
       "      <td>737</td>\n",
       "      <td>27</td>\n",
       "      <td>1</td>\n",
       "      <td>0</td>\n",
       "      <td>0</td>\n",
       "      <td>2</td>\n",
       "      <td>0.0</td>\n",
       "      <td>0</td>\n",
       "      <td>0</td>\n",
       "      <td>0</td>\n",
       "      <td>0</td>\n",
       "      <td>4</td>\n",
       "      <td>0</td>\n",
       "      <td>0.00</td>\n",
       "      <td>0</td>\n",
       "      <td>0</td>\n",
       "      <td>0</td>\n",
       "      <td>1</td>\n",
       "      <td>1</td>\n",
       "      <td>0</td>\n",
       "      <td>0</td>\n",
       "      <td>0</td>\n",
       "      <td>0</td>\n",
       "      <td>0</td>\n",
       "      <td>0</td>\n",
       "      <td>0</td>\n",
       "      <td>1</td>\n",
       "      <td>0</td>\n",
       "      <td>0</td>\n",
       "      <td>0</td>\n",
       "      <td>0</td>\n",
       "      <td>1</td>\n",
       "      <td>0</td>\n",
       "      <td>0</td>\n",
       "      <td>0</td>\n",
       "      <td>0</td>\n",
       "      <td>0</td>\n",
       "      <td>1</td>\n",
       "      <td>0</td>\n",
       "      <td>0</td>\n",
       "      <td>0</td>\n",
       "      <td>0</td>\n",
       "      <td>0</td>\n",
       "      <td>0</td>\n",
       "      <td>0</td>\n",
       "      <td>1</td>\n",
       "      <td>0</td>\n",
       "      <td>0</td>\n",
       "      <td>0</td>\n",
       "      <td>0</td>\n",
       "      <td>1</td>\n",
       "      <td>0</td>\n",
       "    </tr>\n",
       "    <tr>\n",
       "      <th>2</th>\n",
       "      <td>0</td>\n",
       "      <td>7</td>\n",
       "      <td>27</td>\n",
       "      <td>1</td>\n",
       "      <td>0</td>\n",
       "      <td>1</td>\n",
       "      <td>1</td>\n",
       "      <td>0.0</td>\n",
       "      <td>0</td>\n",
       "      <td>0</td>\n",
       "      <td>0</td>\n",
       "      <td>0</td>\n",
       "      <td>0</td>\n",
       "      <td>0</td>\n",
       "      <td>75.00</td>\n",
       "      <td>0</td>\n",
       "      <td>0</td>\n",
       "      <td>0</td>\n",
       "      <td>1</td>\n",
       "      <td>1</td>\n",
       "      <td>0</td>\n",
       "      <td>0</td>\n",
       "      <td>0</td>\n",
       "      <td>0</td>\n",
       "      <td>0</td>\n",
       "      <td>0</td>\n",
       "      <td>0</td>\n",
       "      <td>1</td>\n",
       "      <td>0</td>\n",
       "      <td>0</td>\n",
       "      <td>0</td>\n",
       "      <td>0</td>\n",
       "      <td>1</td>\n",
       "      <td>0</td>\n",
       "      <td>0</td>\n",
       "      <td>0</td>\n",
       "      <td>1</td>\n",
       "      <td>0</td>\n",
       "      <td>0</td>\n",
       "      <td>0</td>\n",
       "      <td>0</td>\n",
       "      <td>0</td>\n",
       "      <td>0</td>\n",
       "      <td>0</td>\n",
       "      <td>0</td>\n",
       "      <td>0</td>\n",
       "      <td>1</td>\n",
       "      <td>0</td>\n",
       "      <td>0</td>\n",
       "      <td>0</td>\n",
       "      <td>0</td>\n",
       "      <td>1</td>\n",
       "      <td>0</td>\n",
       "    </tr>\n",
       "    <tr>\n",
       "      <th>3</th>\n",
       "      <td>0</td>\n",
       "      <td>13</td>\n",
       "      <td>27</td>\n",
       "      <td>1</td>\n",
       "      <td>0</td>\n",
       "      <td>1</td>\n",
       "      <td>1</td>\n",
       "      <td>0.0</td>\n",
       "      <td>0</td>\n",
       "      <td>0</td>\n",
       "      <td>0</td>\n",
       "      <td>0</td>\n",
       "      <td>0</td>\n",
       "      <td>0</td>\n",
       "      <td>75.00</td>\n",
       "      <td>0</td>\n",
       "      <td>0</td>\n",
       "      <td>0</td>\n",
       "      <td>1</td>\n",
       "      <td>1</td>\n",
       "      <td>0</td>\n",
       "      <td>0</td>\n",
       "      <td>0</td>\n",
       "      <td>0</td>\n",
       "      <td>0</td>\n",
       "      <td>0</td>\n",
       "      <td>1</td>\n",
       "      <td>0</td>\n",
       "      <td>0</td>\n",
       "      <td>0</td>\n",
       "      <td>0</td>\n",
       "      <td>1</td>\n",
       "      <td>0</td>\n",
       "      <td>0</td>\n",
       "      <td>0</td>\n",
       "      <td>0</td>\n",
       "      <td>1</td>\n",
       "      <td>0</td>\n",
       "      <td>0</td>\n",
       "      <td>0</td>\n",
       "      <td>0</td>\n",
       "      <td>0</td>\n",
       "      <td>0</td>\n",
       "      <td>0</td>\n",
       "      <td>0</td>\n",
       "      <td>0</td>\n",
       "      <td>1</td>\n",
       "      <td>0</td>\n",
       "      <td>0</td>\n",
       "      <td>0</td>\n",
       "      <td>0</td>\n",
       "      <td>1</td>\n",
       "      <td>0</td>\n",
       "    </tr>\n",
       "    <tr>\n",
       "      <th>4</th>\n",
       "      <td>0</td>\n",
       "      <td>14</td>\n",
       "      <td>27</td>\n",
       "      <td>1</td>\n",
       "      <td>0</td>\n",
       "      <td>2</td>\n",
       "      <td>2</td>\n",
       "      <td>0.0</td>\n",
       "      <td>0</td>\n",
       "      <td>0</td>\n",
       "      <td>0</td>\n",
       "      <td>0</td>\n",
       "      <td>0</td>\n",
       "      <td>0</td>\n",
       "      <td>98.00</td>\n",
       "      <td>0</td>\n",
       "      <td>1</td>\n",
       "      <td>0</td>\n",
       "      <td>1</td>\n",
       "      <td>1</td>\n",
       "      <td>0</td>\n",
       "      <td>0</td>\n",
       "      <td>0</td>\n",
       "      <td>0</td>\n",
       "      <td>0</td>\n",
       "      <td>0</td>\n",
       "      <td>0</td>\n",
       "      <td>0</td>\n",
       "      <td>0</td>\n",
       "      <td>0</td>\n",
       "      <td>1</td>\n",
       "      <td>0</td>\n",
       "      <td>0</td>\n",
       "      <td>0</td>\n",
       "      <td>1</td>\n",
       "      <td>0</td>\n",
       "      <td>1</td>\n",
       "      <td>0</td>\n",
       "      <td>0</td>\n",
       "      <td>0</td>\n",
       "      <td>0</td>\n",
       "      <td>0</td>\n",
       "      <td>0</td>\n",
       "      <td>0</td>\n",
       "      <td>0</td>\n",
       "      <td>0</td>\n",
       "      <td>1</td>\n",
       "      <td>0</td>\n",
       "      <td>0</td>\n",
       "      <td>0</td>\n",
       "      <td>0</td>\n",
       "      <td>1</td>\n",
       "      <td>0</td>\n",
       "    </tr>\n",
       "    <tr>\n",
       "      <th>...</th>\n",
       "      <td>...</td>\n",
       "      <td>...</td>\n",
       "      <td>...</td>\n",
       "      <td>...</td>\n",
       "      <td>...</td>\n",
       "      <td>...</td>\n",
       "      <td>...</td>\n",
       "      <td>...</td>\n",
       "      <td>...</td>\n",
       "      <td>...</td>\n",
       "      <td>...</td>\n",
       "      <td>...</td>\n",
       "      <td>...</td>\n",
       "      <td>...</td>\n",
       "      <td>...</td>\n",
       "      <td>...</td>\n",
       "      <td>...</td>\n",
       "      <td>...</td>\n",
       "      <td>...</td>\n",
       "      <td>...</td>\n",
       "      <td>...</td>\n",
       "      <td>...</td>\n",
       "      <td>...</td>\n",
       "      <td>...</td>\n",
       "      <td>...</td>\n",
       "      <td>...</td>\n",
       "      <td>...</td>\n",
       "      <td>...</td>\n",
       "      <td>...</td>\n",
       "      <td>...</td>\n",
       "      <td>...</td>\n",
       "      <td>...</td>\n",
       "      <td>...</td>\n",
       "      <td>...</td>\n",
       "      <td>...</td>\n",
       "      <td>...</td>\n",
       "      <td>...</td>\n",
       "      <td>...</td>\n",
       "      <td>...</td>\n",
       "      <td>...</td>\n",
       "      <td>...</td>\n",
       "      <td>...</td>\n",
       "      <td>...</td>\n",
       "      <td>...</td>\n",
       "      <td>...</td>\n",
       "      <td>...</td>\n",
       "      <td>...</td>\n",
       "      <td>...</td>\n",
       "      <td>...</td>\n",
       "      <td>...</td>\n",
       "      <td>...</td>\n",
       "      <td>...</td>\n",
       "      <td>...</td>\n",
       "    </tr>\n",
       "    <tr>\n",
       "      <th>119385</th>\n",
       "      <td>0</td>\n",
       "      <td>23</td>\n",
       "      <td>35</td>\n",
       "      <td>30</td>\n",
       "      <td>2</td>\n",
       "      <td>5</td>\n",
       "      <td>2</td>\n",
       "      <td>0.0</td>\n",
       "      <td>0</td>\n",
       "      <td>0</td>\n",
       "      <td>0</td>\n",
       "      <td>0</td>\n",
       "      <td>0</td>\n",
       "      <td>0</td>\n",
       "      <td>96.14</td>\n",
       "      <td>0</td>\n",
       "      <td>0</td>\n",
       "      <td>1</td>\n",
       "      <td>0</td>\n",
       "      <td>1</td>\n",
       "      <td>0</td>\n",
       "      <td>0</td>\n",
       "      <td>0</td>\n",
       "      <td>0</td>\n",
       "      <td>0</td>\n",
       "      <td>0</td>\n",
       "      <td>0</td>\n",
       "      <td>0</td>\n",
       "      <td>0</td>\n",
       "      <td>1</td>\n",
       "      <td>0</td>\n",
       "      <td>0</td>\n",
       "      <td>0</td>\n",
       "      <td>0</td>\n",
       "      <td>1</td>\n",
       "      <td>0</td>\n",
       "      <td>1</td>\n",
       "      <td>0</td>\n",
       "      <td>0</td>\n",
       "      <td>0</td>\n",
       "      <td>0</td>\n",
       "      <td>0</td>\n",
       "      <td>0</td>\n",
       "      <td>0</td>\n",
       "      <td>0</td>\n",
       "      <td>0</td>\n",
       "      <td>1</td>\n",
       "      <td>0</td>\n",
       "      <td>0</td>\n",
       "      <td>0</td>\n",
       "      <td>0</td>\n",
       "      <td>1</td>\n",
       "      <td>0</td>\n",
       "    </tr>\n",
       "    <tr>\n",
       "      <th>119386</th>\n",
       "      <td>0</td>\n",
       "      <td>102</td>\n",
       "      <td>35</td>\n",
       "      <td>31</td>\n",
       "      <td>2</td>\n",
       "      <td>5</td>\n",
       "      <td>3</td>\n",
       "      <td>0.0</td>\n",
       "      <td>0</td>\n",
       "      <td>0</td>\n",
       "      <td>0</td>\n",
       "      <td>0</td>\n",
       "      <td>0</td>\n",
       "      <td>0</td>\n",
       "      <td>225.43</td>\n",
       "      <td>0</td>\n",
       "      <td>2</td>\n",
       "      <td>1</td>\n",
       "      <td>0</td>\n",
       "      <td>1</td>\n",
       "      <td>0</td>\n",
       "      <td>0</td>\n",
       "      <td>0</td>\n",
       "      <td>0</td>\n",
       "      <td>0</td>\n",
       "      <td>0</td>\n",
       "      <td>0</td>\n",
       "      <td>0</td>\n",
       "      <td>0</td>\n",
       "      <td>0</td>\n",
       "      <td>1</td>\n",
       "      <td>0</td>\n",
       "      <td>0</td>\n",
       "      <td>0</td>\n",
       "      <td>1</td>\n",
       "      <td>0</td>\n",
       "      <td>0</td>\n",
       "      <td>0</td>\n",
       "      <td>0</td>\n",
       "      <td>0</td>\n",
       "      <td>1</td>\n",
       "      <td>0</td>\n",
       "      <td>0</td>\n",
       "      <td>0</td>\n",
       "      <td>0</td>\n",
       "      <td>0</td>\n",
       "      <td>1</td>\n",
       "      <td>0</td>\n",
       "      <td>0</td>\n",
       "      <td>0</td>\n",
       "      <td>0</td>\n",
       "      <td>1</td>\n",
       "      <td>0</td>\n",
       "    </tr>\n",
       "    <tr>\n",
       "      <th>119387</th>\n",
       "      <td>0</td>\n",
       "      <td>34</td>\n",
       "      <td>35</td>\n",
       "      <td>31</td>\n",
       "      <td>2</td>\n",
       "      <td>5</td>\n",
       "      <td>2</td>\n",
       "      <td>0.0</td>\n",
       "      <td>0</td>\n",
       "      <td>0</td>\n",
       "      <td>0</td>\n",
       "      <td>0</td>\n",
       "      <td>0</td>\n",
       "      <td>0</td>\n",
       "      <td>157.71</td>\n",
       "      <td>0</td>\n",
       "      <td>4</td>\n",
       "      <td>1</td>\n",
       "      <td>0</td>\n",
       "      <td>1</td>\n",
       "      <td>0</td>\n",
       "      <td>0</td>\n",
       "      <td>0</td>\n",
       "      <td>0</td>\n",
       "      <td>0</td>\n",
       "      <td>0</td>\n",
       "      <td>0</td>\n",
       "      <td>0</td>\n",
       "      <td>0</td>\n",
       "      <td>0</td>\n",
       "      <td>1</td>\n",
       "      <td>0</td>\n",
       "      <td>0</td>\n",
       "      <td>0</td>\n",
       "      <td>1</td>\n",
       "      <td>0</td>\n",
       "      <td>0</td>\n",
       "      <td>0</td>\n",
       "      <td>0</td>\n",
       "      <td>1</td>\n",
       "      <td>0</td>\n",
       "      <td>0</td>\n",
       "      <td>0</td>\n",
       "      <td>0</td>\n",
       "      <td>0</td>\n",
       "      <td>0</td>\n",
       "      <td>1</td>\n",
       "      <td>0</td>\n",
       "      <td>0</td>\n",
       "      <td>0</td>\n",
       "      <td>0</td>\n",
       "      <td>1</td>\n",
       "      <td>0</td>\n",
       "    </tr>\n",
       "    <tr>\n",
       "      <th>119388</th>\n",
       "      <td>0</td>\n",
       "      <td>109</td>\n",
       "      <td>35</td>\n",
       "      <td>31</td>\n",
       "      <td>2</td>\n",
       "      <td>5</td>\n",
       "      <td>2</td>\n",
       "      <td>0.0</td>\n",
       "      <td>0</td>\n",
       "      <td>0</td>\n",
       "      <td>0</td>\n",
       "      <td>0</td>\n",
       "      <td>0</td>\n",
       "      <td>0</td>\n",
       "      <td>104.40</td>\n",
       "      <td>0</td>\n",
       "      <td>0</td>\n",
       "      <td>1</td>\n",
       "      <td>0</td>\n",
       "      <td>1</td>\n",
       "      <td>0</td>\n",
       "      <td>0</td>\n",
       "      <td>0</td>\n",
       "      <td>0</td>\n",
       "      <td>0</td>\n",
       "      <td>0</td>\n",
       "      <td>0</td>\n",
       "      <td>0</td>\n",
       "      <td>0</td>\n",
       "      <td>0</td>\n",
       "      <td>1</td>\n",
       "      <td>0</td>\n",
       "      <td>0</td>\n",
       "      <td>0</td>\n",
       "      <td>1</td>\n",
       "      <td>0</td>\n",
       "      <td>1</td>\n",
       "      <td>0</td>\n",
       "      <td>0</td>\n",
       "      <td>0</td>\n",
       "      <td>0</td>\n",
       "      <td>0</td>\n",
       "      <td>0</td>\n",
       "      <td>0</td>\n",
       "      <td>0</td>\n",
       "      <td>0</td>\n",
       "      <td>1</td>\n",
       "      <td>0</td>\n",
       "      <td>0</td>\n",
       "      <td>0</td>\n",
       "      <td>0</td>\n",
       "      <td>1</td>\n",
       "      <td>0</td>\n",
       "    </tr>\n",
       "    <tr>\n",
       "      <th>119389</th>\n",
       "      <td>0</td>\n",
       "      <td>205</td>\n",
       "      <td>35</td>\n",
       "      <td>29</td>\n",
       "      <td>2</td>\n",
       "      <td>7</td>\n",
       "      <td>2</td>\n",
       "      <td>0.0</td>\n",
       "      <td>0</td>\n",
       "      <td>0</td>\n",
       "      <td>0</td>\n",
       "      <td>0</td>\n",
       "      <td>0</td>\n",
       "      <td>0</td>\n",
       "      <td>151.20</td>\n",
       "      <td>0</td>\n",
       "      <td>2</td>\n",
       "      <td>1</td>\n",
       "      <td>0</td>\n",
       "      <td>0</td>\n",
       "      <td>0</td>\n",
       "      <td>1</td>\n",
       "      <td>0</td>\n",
       "      <td>0</td>\n",
       "      <td>0</td>\n",
       "      <td>0</td>\n",
       "      <td>0</td>\n",
       "      <td>0</td>\n",
       "      <td>0</td>\n",
       "      <td>0</td>\n",
       "      <td>1</td>\n",
       "      <td>0</td>\n",
       "      <td>0</td>\n",
       "      <td>0</td>\n",
       "      <td>1</td>\n",
       "      <td>0</td>\n",
       "      <td>1</td>\n",
       "      <td>0</td>\n",
       "      <td>0</td>\n",
       "      <td>0</td>\n",
       "      <td>0</td>\n",
       "      <td>0</td>\n",
       "      <td>0</td>\n",
       "      <td>0</td>\n",
       "      <td>0</td>\n",
       "      <td>0</td>\n",
       "      <td>1</td>\n",
       "      <td>0</td>\n",
       "      <td>0</td>\n",
       "      <td>0</td>\n",
       "      <td>0</td>\n",
       "      <td>1</td>\n",
       "      <td>0</td>\n",
       "    </tr>\n",
       "  </tbody>\n",
       "</table>\n",
       "<p>119386 rows × 53 columns</p>\n",
       "</div>"
      ],
      "text/plain": [
       "        is_canceled  lead_time  arrival_date_week_number  \\\n",
       "0                 0        342                        27   \n",
       "1                 0        737                        27   \n",
       "2                 0          7                        27   \n",
       "3                 0         13                        27   \n",
       "4                 0         14                        27   \n",
       "...             ...        ...                       ...   \n",
       "119385            0         23                        35   \n",
       "119386            0        102                        35   \n",
       "119387            0         34                        35   \n",
       "119388            0        109                        35   \n",
       "119389            0        205                        35   \n",
       "\n",
       "        arrival_date_day_of_month  stays_in_weekend_nights  \\\n",
       "0                               1                        0   \n",
       "1                               1                        0   \n",
       "2                               1                        0   \n",
       "3                               1                        0   \n",
       "4                               1                        0   \n",
       "...                           ...                      ...   \n",
       "119385                         30                        2   \n",
       "119386                         31                        2   \n",
       "119387                         31                        2   \n",
       "119388                         31                        2   \n",
       "119389                         29                        2   \n",
       "\n",
       "        stays_in_week_nights  adults  children  babies  is_repeated_guest  \\\n",
       "0                          0       2       0.0       0                  0   \n",
       "1                          0       2       0.0       0                  0   \n",
       "2                          1       1       0.0       0                  0   \n",
       "3                          1       1       0.0       0                  0   \n",
       "4                          2       2       0.0       0                  0   \n",
       "...                      ...     ...       ...     ...                ...   \n",
       "119385                     5       2       0.0       0                  0   \n",
       "119386                     5       3       0.0       0                  0   \n",
       "119387                     5       2       0.0       0                  0   \n",
       "119388                     5       2       0.0       0                  0   \n",
       "119389                     7       2       0.0       0                  0   \n",
       "\n",
       "        previous_cancellations  previous_bookings_not_canceled  \\\n",
       "0                            0                               0   \n",
       "1                            0                               0   \n",
       "2                            0                               0   \n",
       "3                            0                               0   \n",
       "4                            0                               0   \n",
       "...                        ...                             ...   \n",
       "119385                       0                               0   \n",
       "119386                       0                               0   \n",
       "119387                       0                               0   \n",
       "119388                       0                               0   \n",
       "119389                       0                               0   \n",
       "\n",
       "        booking_changes  days_in_waiting_list     adr  \\\n",
       "0                     3                     0    0.00   \n",
       "1                     4                     0    0.00   \n",
       "2                     0                     0   75.00   \n",
       "3                     0                     0   75.00   \n",
       "4                     0                     0   98.00   \n",
       "...                 ...                   ...     ...   \n",
       "119385                0                     0   96.14   \n",
       "119386                0                     0  225.43   \n",
       "119387                0                     0  157.71   \n",
       "119388                0                     0  104.40   \n",
       "119389                0                     0  151.20   \n",
       "\n",
       "        required_car_parking_spaces  total_of_special_requests  \\\n",
       "0                                 0                          0   \n",
       "1                                 0                          0   \n",
       "2                                 0                          0   \n",
       "3                                 0                          0   \n",
       "4                                 0                          1   \n",
       "...                             ...                        ...   \n",
       "119385                            0                          0   \n",
       "119386                            0                          2   \n",
       "119387                            0                          4   \n",
       "119388                            0                          0   \n",
       "119389                            0                          2   \n",
       "\n",
       "        hotel_City Hotel  hotel_Resort Hotel  meal_BB  meal_FB  meal_HB  \\\n",
       "0                      0                   1        1        0        0   \n",
       "1                      0                   1        1        0        0   \n",
       "2                      0                   1        1        0        0   \n",
       "3                      0                   1        1        0        0   \n",
       "4                      0                   1        1        0        0   \n",
       "...                  ...                 ...      ...      ...      ...   \n",
       "119385                 1                   0        1        0        0   \n",
       "119386                 1                   0        1        0        0   \n",
       "119387                 1                   0        1        0        0   \n",
       "119388                 1                   0        1        0        0   \n",
       "119389                 1                   0        0        0        1   \n",
       "\n",
       "        meal_SC  meal_Undefined  market_segment_Aviation  \\\n",
       "0             0               0                        0   \n",
       "1             0               0                        0   \n",
       "2             0               0                        0   \n",
       "3             0               0                        0   \n",
       "4             0               0                        0   \n",
       "...         ...             ...                      ...   \n",
       "119385        0               0                        0   \n",
       "119386        0               0                        0   \n",
       "119387        0               0                        0   \n",
       "119388        0               0                        0   \n",
       "119389        0               0                        0   \n",
       "\n",
       "        market_segment_Complementary  market_segment_Corporate  \\\n",
       "0                                  0                         0   \n",
       "1                                  0                         0   \n",
       "2                                  0                         0   \n",
       "3                                  0                         1   \n",
       "4                                  0                         0   \n",
       "...                              ...                       ...   \n",
       "119385                             0                         0   \n",
       "119386                             0                         0   \n",
       "119387                             0                         0   \n",
       "119388                             0                         0   \n",
       "119389                             0                         0   \n",
       "\n",
       "        market_segment_Direct  market_segment_Groups  \\\n",
       "0                           1                      0   \n",
       "1                           1                      0   \n",
       "2                           1                      0   \n",
       "3                           0                      0   \n",
       "4                           0                      0   \n",
       "...                       ...                    ...   \n",
       "119385                      0                      0   \n",
       "119386                      0                      0   \n",
       "119387                      0                      0   \n",
       "119388                      0                      0   \n",
       "119389                      0                      0   \n",
       "\n",
       "        market_segment_Offline TA/TO  market_segment_Online TA  \\\n",
       "0                                  0                         0   \n",
       "1                                  0                         0   \n",
       "2                                  0                         0   \n",
       "3                                  0                         0   \n",
       "4                                  0                         1   \n",
       "...                              ...                       ...   \n",
       "119385                             1                         0   \n",
       "119386                             0                         1   \n",
       "119387                             0                         1   \n",
       "119388                             0                         1   \n",
       "119389                             0                         1   \n",
       "\n",
       "        distribution_channel_Corporate  distribution_channel_Direct  \\\n",
       "0                                    0                            1   \n",
       "1                                    0                            1   \n",
       "2                                    0                            1   \n",
       "3                                    1                            0   \n",
       "4                                    0                            0   \n",
       "...                                ...                          ...   \n",
       "119385                               0                            0   \n",
       "119386                               0                            0   \n",
       "119387                               0                            0   \n",
       "119388                               0                            0   \n",
       "119389                               0                            0   \n",
       "\n",
       "        distribution_channel_GDS  distribution_channel_TA/TO  \\\n",
       "0                              0                           0   \n",
       "1                              0                           0   \n",
       "2                              0                           0   \n",
       "3                              0                           0   \n",
       "4                              0                           1   \n",
       "...                          ...                         ...   \n",
       "119385                         0                           1   \n",
       "119386                         0                           1   \n",
       "119387                         0                           1   \n",
       "119388                         0                           1   \n",
       "119389                         0                           1   \n",
       "\n",
       "        distribution_channel_Undefined  reserved_room_type_A  \\\n",
       "0                                    0                     0   \n",
       "1                                    0                     0   \n",
       "2                                    0                     1   \n",
       "3                                    0                     1   \n",
       "4                                    0                     1   \n",
       "...                                ...                   ...   \n",
       "119385                               0                     1   \n",
       "119386                               0                     0   \n",
       "119387                               0                     0   \n",
       "119388                               0                     1   \n",
       "119389                               0                     1   \n",
       "\n",
       "        reserved_room_type_B  reserved_room_type_C  reserved_room_type_D  \\\n",
       "0                          0                     1                     0   \n",
       "1                          0                     1                     0   \n",
       "2                          0                     0                     0   \n",
       "3                          0                     0                     0   \n",
       "4                          0                     0                     0   \n",
       "...                      ...                   ...                   ...   \n",
       "119385                     0                     0                     0   \n",
       "119386                     0                     0                     0   \n",
       "119387                     0                     0                     1   \n",
       "119388                     0                     0                     0   \n",
       "119389                     0                     0                     0   \n",
       "\n",
       "        reserved_room_type_E  reserved_room_type_F  reserved_room_type_G  \\\n",
       "0                          0                     0                     0   \n",
       "1                          0                     0                     0   \n",
       "2                          0                     0                     0   \n",
       "3                          0                     0                     0   \n",
       "4                          0                     0                     0   \n",
       "...                      ...                   ...                   ...   \n",
       "119385                     0                     0                     0   \n",
       "119386                     1                     0                     0   \n",
       "119387                     0                     0                     0   \n",
       "119388                     0                     0                     0   \n",
       "119389                     0                     0                     0   \n",
       "\n",
       "        reserved_room_type_H  reserved_room_type_L  reserved_room_type_P  \\\n",
       "0                          0                     0                     0   \n",
       "1                          0                     0                     0   \n",
       "2                          0                     0                     0   \n",
       "3                          0                     0                     0   \n",
       "4                          0                     0                     0   \n",
       "...                      ...                   ...                   ...   \n",
       "119385                     0                     0                     0   \n",
       "119386                     0                     0                     0   \n",
       "119387                     0                     0                     0   \n",
       "119388                     0                     0                     0   \n",
       "119389                     0                     0                     0   \n",
       "\n",
       "        deposit_type_No Deposit  deposit_type_Non Refund  \\\n",
       "0                             1                        0   \n",
       "1                             1                        0   \n",
       "2                             1                        0   \n",
       "3                             1                        0   \n",
       "4                             1                        0   \n",
       "...                         ...                      ...   \n",
       "119385                        1                        0   \n",
       "119386                        1                        0   \n",
       "119387                        1                        0   \n",
       "119388                        1                        0   \n",
       "119389                        1                        0   \n",
       "\n",
       "        deposit_type_Refundable  customer_type_Contract  customer_type_Group  \\\n",
       "0                             0                       0                    0   \n",
       "1                             0                       0                    0   \n",
       "2                             0                       0                    0   \n",
       "3                             0                       0                    0   \n",
       "4                             0                       0                    0   \n",
       "...                         ...                     ...                  ...   \n",
       "119385                        0                       0                    0   \n",
       "119386                        0                       0                    0   \n",
       "119387                        0                       0                    0   \n",
       "119388                        0                       0                    0   \n",
       "119389                        0                       0                    0   \n",
       "\n",
       "        customer_type_Transient  customer_type_Transient-Party  \n",
       "0                             1                              0  \n",
       "1                             1                              0  \n",
       "2                             1                              0  \n",
       "3                             1                              0  \n",
       "4                             1                              0  \n",
       "...                         ...                            ...  \n",
       "119385                        1                              0  \n",
       "119386                        1                              0  \n",
       "119387                        1                              0  \n",
       "119388                        1                              0  \n",
       "119389                        1                              0  \n",
       "\n",
       "[119386 rows x 53 columns]"
      ]
     },
     "execution_count": 24,
     "metadata": {},
     "output_type": "execute_result"
    }
   ],
   "source": [
    "df"
   ]
  },
  {
   "cell_type": "code",
   "execution_count": 25,
   "id": "4d97232e-7ec5-4384-b34d-49ce1c60581b",
   "metadata": {},
   "outputs": [],
   "source": [
    "cancel = df.pop('is_canceled')"
   ]
  },
  {
   "cell_type": "code",
   "execution_count": 26,
   "id": "9f07d0a1-e856-4ea7-a4ad-9cbd39d4fdd4",
   "metadata": {},
   "outputs": [],
   "source": [
    "df.insert(len(df.columns),'is_canceled',cancel)"
   ]
  },
  {
   "cell_type": "code",
   "execution_count": null,
   "id": "872ef726-19a7-4e41-a02b-33acad5bd6b5",
   "metadata": {},
   "outputs": [],
   "source": []
  },
  {
   "cell_type": "code",
   "execution_count": null,
   "id": "51689eef-8514-47c5-9565-53a3e3193307",
   "metadata": {},
   "outputs": [],
   "source": []
  },
  {
   "cell_type": "code",
   "execution_count": 27,
   "id": "f80bb2cb-21a4-4cff-803b-d2e2a0e059cf",
   "metadata": {},
   "outputs": [
    {
     "data": {
      "text/plain": [
       "0    75166\n",
       "1    44220\n",
       "Name: is_canceled, dtype: int64"
      ]
     },
     "execution_count": 27,
     "metadata": {},
     "output_type": "execute_result"
    }
   ],
   "source": [
    "df['is_canceled'].value_counts()"
   ]
  },
  {
   "cell_type": "code",
   "execution_count": null,
   "id": "5ba165a7-e581-4e6c-8394-96015feb4684",
   "metadata": {},
   "outputs": [],
   "source": []
  },
  {
   "cell_type": "markdown",
   "id": "868b6d04-2793-441a-bea3-ecb028a53e09",
   "metadata": {},
   "source": [
    "# Grid Search"
   ]
  },
  {
   "cell_type": "code",
   "execution_count": 30,
   "id": "eca67f61-18be-4f80-9e1d-f1adeaeaf8a0",
   "metadata": {},
   "outputs": [],
   "source": [
    "df_test = df.sample(n = 3000)"
   ]
  },
  {
   "cell_type": "code",
   "execution_count": 31,
   "id": "dfb7ef70-cbc8-4a87-89b0-7be4a7291f2b",
   "metadata": {},
   "outputs": [],
   "source": [
    "X = df_test.iloc[:,:-1]"
   ]
  },
  {
   "cell_type": "code",
   "execution_count": 32,
   "id": "b9e4ef13-d791-40d6-8fe6-bcab7d65e8c1",
   "metadata": {},
   "outputs": [],
   "source": [
    "y = df_test.iloc[:,-1]"
   ]
  },
  {
   "cell_type": "code",
   "execution_count": 33,
   "id": "93e9be17-77c0-40c7-91ec-04f35950eb37",
   "metadata": {},
   "outputs": [],
   "source": [
    "X_train, X_test, y_train,y_test = train_test_split(X, y, random_state = 42)"
   ]
  },
  {
   "cell_type": "code",
   "execution_count": null,
   "id": "64336a19-93e8-412f-b6ee-5fbe8fe49e6e",
   "metadata": {},
   "outputs": [],
   "source": []
  },
  {
   "cell_type": "code",
   "execution_count": 129,
   "id": "14619e1d-155e-4ee9-b387-9881422b44c8",
   "metadata": {},
   "outputs": [],
   "source": [
    "classifiers = [\n",
    "    RandomForestClassifier(class_weight='balanced'),\n",
    "    xgb.XGBClassifier(),\n",
    "    SVC()]"
   ]
  },
  {
   "cell_type": "code",
   "execution_count": 130,
   "id": "2a666718-0e8a-4899-9c86-bba4abd8905d",
   "metadata": {},
   "outputs": [],
   "source": [
    "scalers = [RobustScaler(),MinMaxScaler(),StandardScaler()]"
   ]
  },
  {
   "cell_type": "code",
   "execution_count": 141,
   "id": "d93d5d14-7c81-42a9-9fdf-d35b8bbb58ed",
   "metadata": {},
   "outputs": [
    {
     "name": "stderr",
     "output_type": "stream",
     "text": [
      "  0%|                                                                                            | 0/3 [00:00<?, ?it/s]\n",
      "  0%|                                                                                            | 0/3 [00:00<?, ?it/s]\u001b[A\n",
      " 33%|████████████████████████████                                                        | 1/3 [00:20<00:40, 20.33s/it]\u001b[A\n",
      " 67%|████████████████████████████████████████████████████████                            | 2/3 [00:33<00:16, 16.33s/it]\u001b[A\n",
      "100%|████████████████████████████████████████████████████████████████████████████████████| 3/3 [00:49<00:00, 16.40s/it]\u001b[A\n",
      " 33%|████████████████████████████                                                        | 1/3 [00:49<01:38, 49.20s/it]\n",
      "  0%|                                                                                            | 0/3 [00:00<?, ?it/s]\u001b[A\n",
      " 33%|████████████████████████████                                                        | 1/3 [00:19<00:39, 19.79s/it]\u001b[A\n",
      " 67%|████████████████████████████████████████████████████████                            | 2/3 [00:32<00:15, 15.90s/it]\u001b[A\n",
      "100%|████████████████████████████████████████████████████████████████████████████████████| 3/3 [00:47<00:00, 15.80s/it]\u001b[A\n",
      " 67%|████████████████████████████████████████████████████████                            | 2/3 [01:36<00:48, 48.13s/it]\n",
      "  0%|                                                                                            | 0/3 [00:00<?, ?it/s]\u001b[A\n",
      " 33%|████████████████████████████                                                        | 1/3 [00:19<00:39, 19.51s/it]\u001b[A\n",
      " 67%|████████████████████████████████████████████████████████                            | 2/3 [00:32<00:15, 15.85s/it]\u001b[A\n",
      "100%|████████████████████████████████████████████████████████████████████████████████████| 3/3 [00:47<00:00, 15.87s/it]\u001b[A\n",
      "100%|████████████████████████████████████████████████████████████████████████████████████| 3/3 [02:24<00:00, 48.07s/it]\n"
     ]
    }
   ],
   "source": [
    "lstresults = []\n",
    "for scaler in tqdm(scalers):\n",
    "    for classifier in tqdm(classifiers):\n",
    "        pipe = Pipeline([\n",
    "            ('scaler',scaler),\n",
    "            ('feat_selection', SelectKBest(mutual_info_classif)),\n",
    "            ('classifier', classifier)\n",
    "        ])\n",
    "        parameters = {\n",
    "            'feat_selection__k':[i for i in range(15,30)]       \n",
    "            }\n",
    "        CV = GridSearchCV(pipe, parameters, \n",
    "                          scoring='f1_macro')\n",
    "        CV.fit(X_train, y_train)\n",
    "        a = classifier\n",
    "        b = scaler\n",
    "        c = CV.cv_results_['params']\n",
    "        d = CV.cv_results_['mean_test_score']\n",
    "        lstresults.append([a,b,c,d])"
   ]
  },
  {
   "cell_type": "code",
   "execution_count": 35,
   "id": "de20b480-c21d-48a5-a07a-714c4114b072",
   "metadata": {},
   "outputs": [
    {
     "ename": "NameError",
     "evalue": "name 'lstresults' is not defined",
     "output_type": "error",
     "traceback": [
      "\u001b[1;31m---------------------------------------------------------------------------\u001b[0m",
      "\u001b[1;31mNameError\u001b[0m                                 Traceback (most recent call last)",
      "Cell \u001b[1;32mIn[35], line 1\u001b[0m\n\u001b[1;32m----> 1\u001b[0m \u001b[43mlstresults\u001b[49m\n",
      "\u001b[1;31mNameError\u001b[0m: name 'lstresults' is not defined"
     ]
    }
   ],
   "source": [
    "lstresults"
   ]
  },
  {
   "cell_type": "code",
   "execution_count": 146,
   "id": "ad7f4b14-7ae6-4cf6-999b-ae09cdc77a72",
   "metadata": {},
   "outputs": [],
   "source": [
    "res = pd.DataFrame(lstresults)\n",
    "res = res.explode([2,3])"
   ]
  },
  {
   "cell_type": "code",
   "execution_count": 147,
   "id": "0177a9ed-f4b4-4cd7-af6a-9e7d60ee9422",
   "metadata": {},
   "outputs": [
    {
     "data": {
      "text/html": [
       "<div>\n",
       "<style scoped>\n",
       "    .dataframe tbody tr th:only-of-type {\n",
       "        vertical-align: middle;\n",
       "    }\n",
       "\n",
       "    .dataframe tbody tr th {\n",
       "        vertical-align: top;\n",
       "    }\n",
       "\n",
       "    .dataframe thead th {\n",
       "        text-align: right;\n",
       "    }\n",
       "</style>\n",
       "<table border=\"1\" class=\"dataframe\">\n",
       "  <thead>\n",
       "    <tr style=\"text-align: right;\">\n",
       "      <th></th>\n",
       "      <th>0</th>\n",
       "      <th>1</th>\n",
       "      <th>2</th>\n",
       "      <th>3</th>\n",
       "    </tr>\n",
       "  </thead>\n",
       "  <tbody>\n",
       "    <tr>\n",
       "      <th>0</th>\n",
       "      <td>RandomForestClassifier(class_weight='balanced')</td>\n",
       "      <td>RobustScaler()</td>\n",
       "      <td>{'feat_selection__k': 15}</td>\n",
       "      <td>0.751991</td>\n",
       "    </tr>\n",
       "    <tr>\n",
       "      <th>0</th>\n",
       "      <td>RandomForestClassifier(class_weight='balanced')</td>\n",
       "      <td>RobustScaler()</td>\n",
       "      <td>{'feat_selection__k': 16}</td>\n",
       "      <td>0.750237</td>\n",
       "    </tr>\n",
       "    <tr>\n",
       "      <th>0</th>\n",
       "      <td>RandomForestClassifier(class_weight='balanced')</td>\n",
       "      <td>RobustScaler()</td>\n",
       "      <td>{'feat_selection__k': 17}</td>\n",
       "      <td>0.755399</td>\n",
       "    </tr>\n",
       "    <tr>\n",
       "      <th>0</th>\n",
       "      <td>RandomForestClassifier(class_weight='balanced')</td>\n",
       "      <td>RobustScaler()</td>\n",
       "      <td>{'feat_selection__k': 18}</td>\n",
       "      <td>0.744412</td>\n",
       "    </tr>\n",
       "    <tr>\n",
       "      <th>0</th>\n",
       "      <td>RandomForestClassifier(class_weight='balanced')</td>\n",
       "      <td>RobustScaler()</td>\n",
       "      <td>{'feat_selection__k': 19}</td>\n",
       "      <td>0.734526</td>\n",
       "    </tr>\n",
       "    <tr>\n",
       "      <th>1</th>\n",
       "      <td>XGBClassifier(base_score=None, booster=None, c...</td>\n",
       "      <td>RobustScaler()</td>\n",
       "      <td>{'feat_selection__k': 15}</td>\n",
       "      <td>0.743783</td>\n",
       "    </tr>\n",
       "    <tr>\n",
       "      <th>1</th>\n",
       "      <td>XGBClassifier(base_score=None, booster=None, c...</td>\n",
       "      <td>RobustScaler()</td>\n",
       "      <td>{'feat_selection__k': 16}</td>\n",
       "      <td>0.748551</td>\n",
       "    </tr>\n",
       "    <tr>\n",
       "      <th>1</th>\n",
       "      <td>XGBClassifier(base_score=None, booster=None, c...</td>\n",
       "      <td>RobustScaler()</td>\n",
       "      <td>{'feat_selection__k': 17}</td>\n",
       "      <td>0.749426</td>\n",
       "    </tr>\n",
       "    <tr>\n",
       "      <th>1</th>\n",
       "      <td>XGBClassifier(base_score=None, booster=None, c...</td>\n",
       "      <td>RobustScaler()</td>\n",
       "      <td>{'feat_selection__k': 18}</td>\n",
       "      <td>0.748037</td>\n",
       "    </tr>\n",
       "    <tr>\n",
       "      <th>1</th>\n",
       "      <td>XGBClassifier(base_score=None, booster=None, c...</td>\n",
       "      <td>RobustScaler()</td>\n",
       "      <td>{'feat_selection__k': 19}</td>\n",
       "      <td>0.755482</td>\n",
       "    </tr>\n",
       "    <tr>\n",
       "      <th>2</th>\n",
       "      <td>SVC()</td>\n",
       "      <td>RobustScaler()</td>\n",
       "      <td>{'feat_selection__k': 15}</td>\n",
       "      <td>0.726617</td>\n",
       "    </tr>\n",
       "    <tr>\n",
       "      <th>2</th>\n",
       "      <td>SVC()</td>\n",
       "      <td>RobustScaler()</td>\n",
       "      <td>{'feat_selection__k': 16}</td>\n",
       "      <td>0.74925</td>\n",
       "    </tr>\n",
       "    <tr>\n",
       "      <th>2</th>\n",
       "      <td>SVC()</td>\n",
       "      <td>RobustScaler()</td>\n",
       "      <td>{'feat_selection__k': 17}</td>\n",
       "      <td>0.690904</td>\n",
       "    </tr>\n",
       "    <tr>\n",
       "      <th>2</th>\n",
       "      <td>SVC()</td>\n",
       "      <td>RobustScaler()</td>\n",
       "      <td>{'feat_selection__k': 18}</td>\n",
       "      <td>0.717694</td>\n",
       "    </tr>\n",
       "    <tr>\n",
       "      <th>2</th>\n",
       "      <td>SVC()</td>\n",
       "      <td>RobustScaler()</td>\n",
       "      <td>{'feat_selection__k': 19}</td>\n",
       "      <td>0.698451</td>\n",
       "    </tr>\n",
       "    <tr>\n",
       "      <th>3</th>\n",
       "      <td>RandomForestClassifier(class_weight='balanced')</td>\n",
       "      <td>MinMaxScaler()</td>\n",
       "      <td>{'feat_selection__k': 15}</td>\n",
       "      <td>0.748601</td>\n",
       "    </tr>\n",
       "    <tr>\n",
       "      <th>3</th>\n",
       "      <td>RandomForestClassifier(class_weight='balanced')</td>\n",
       "      <td>MinMaxScaler()</td>\n",
       "      <td>{'feat_selection__k': 16}</td>\n",
       "      <td>0.75725</td>\n",
       "    </tr>\n",
       "    <tr>\n",
       "      <th>3</th>\n",
       "      <td>RandomForestClassifier(class_weight='balanced')</td>\n",
       "      <td>MinMaxScaler()</td>\n",
       "      <td>{'feat_selection__k': 17}</td>\n",
       "      <td>0.747432</td>\n",
       "    </tr>\n",
       "    <tr>\n",
       "      <th>3</th>\n",
       "      <td>RandomForestClassifier(class_weight='balanced')</td>\n",
       "      <td>MinMaxScaler()</td>\n",
       "      <td>{'feat_selection__k': 18}</td>\n",
       "      <td>0.770665</td>\n",
       "    </tr>\n",
       "    <tr>\n",
       "      <th>3</th>\n",
       "      <td>RandomForestClassifier(class_weight='balanced')</td>\n",
       "      <td>MinMaxScaler()</td>\n",
       "      <td>{'feat_selection__k': 19}</td>\n",
       "      <td>0.758508</td>\n",
       "    </tr>\n",
       "    <tr>\n",
       "      <th>4</th>\n",
       "      <td>XGBClassifier(base_score=None, booster=None, c...</td>\n",
       "      <td>MinMaxScaler()</td>\n",
       "      <td>{'feat_selection__k': 15}</td>\n",
       "      <td>0.750301</td>\n",
       "    </tr>\n",
       "    <tr>\n",
       "      <th>4</th>\n",
       "      <td>XGBClassifier(base_score=None, booster=None, c...</td>\n",
       "      <td>MinMaxScaler()</td>\n",
       "      <td>{'feat_selection__k': 16}</td>\n",
       "      <td>0.749703</td>\n",
       "    </tr>\n",
       "    <tr>\n",
       "      <th>4</th>\n",
       "      <td>XGBClassifier(base_score=None, booster=None, c...</td>\n",
       "      <td>MinMaxScaler()</td>\n",
       "      <td>{'feat_selection__k': 17}</td>\n",
       "      <td>0.748666</td>\n",
       "    </tr>\n",
       "    <tr>\n",
       "      <th>4</th>\n",
       "      <td>XGBClassifier(base_score=None, booster=None, c...</td>\n",
       "      <td>MinMaxScaler()</td>\n",
       "      <td>{'feat_selection__k': 18}</td>\n",
       "      <td>0.752793</td>\n",
       "    </tr>\n",
       "    <tr>\n",
       "      <th>4</th>\n",
       "      <td>XGBClassifier(base_score=None, booster=None, c...</td>\n",
       "      <td>MinMaxScaler()</td>\n",
       "      <td>{'feat_selection__k': 19}</td>\n",
       "      <td>0.754232</td>\n",
       "    </tr>\n",
       "    <tr>\n",
       "      <th>5</th>\n",
       "      <td>SVC()</td>\n",
       "      <td>MinMaxScaler()</td>\n",
       "      <td>{'feat_selection__k': 15}</td>\n",
       "      <td>0.713897</td>\n",
       "    </tr>\n",
       "    <tr>\n",
       "      <th>5</th>\n",
       "      <td>SVC()</td>\n",
       "      <td>MinMaxScaler()</td>\n",
       "      <td>{'feat_selection__k': 16}</td>\n",
       "      <td>0.678547</td>\n",
       "    </tr>\n",
       "    <tr>\n",
       "      <th>5</th>\n",
       "      <td>SVC()</td>\n",
       "      <td>MinMaxScaler()</td>\n",
       "      <td>{'feat_selection__k': 17}</td>\n",
       "      <td>0.699602</td>\n",
       "    </tr>\n",
       "    <tr>\n",
       "      <th>5</th>\n",
       "      <td>SVC()</td>\n",
       "      <td>MinMaxScaler()</td>\n",
       "      <td>{'feat_selection__k': 18}</td>\n",
       "      <td>0.690644</td>\n",
       "    </tr>\n",
       "    <tr>\n",
       "      <th>5</th>\n",
       "      <td>SVC()</td>\n",
       "      <td>MinMaxScaler()</td>\n",
       "      <td>{'feat_selection__k': 19}</td>\n",
       "      <td>0.684416</td>\n",
       "    </tr>\n",
       "    <tr>\n",
       "      <th>6</th>\n",
       "      <td>RandomForestClassifier(class_weight='balanced')</td>\n",
       "      <td>StandardScaler()</td>\n",
       "      <td>{'feat_selection__k': 15}</td>\n",
       "      <td>0.752028</td>\n",
       "    </tr>\n",
       "    <tr>\n",
       "      <th>6</th>\n",
       "      <td>RandomForestClassifier(class_weight='balanced')</td>\n",
       "      <td>StandardScaler()</td>\n",
       "      <td>{'feat_selection__k': 16}</td>\n",
       "      <td>0.761919</td>\n",
       "    </tr>\n",
       "    <tr>\n",
       "      <th>6</th>\n",
       "      <td>RandomForestClassifier(class_weight='balanced')</td>\n",
       "      <td>StandardScaler()</td>\n",
       "      <td>{'feat_selection__k': 17}</td>\n",
       "      <td>0.75525</td>\n",
       "    </tr>\n",
       "    <tr>\n",
       "      <th>6</th>\n",
       "      <td>RandomForestClassifier(class_weight='balanced')</td>\n",
       "      <td>StandardScaler()</td>\n",
       "      <td>{'feat_selection__k': 18}</td>\n",
       "      <td>0.756502</td>\n",
       "    </tr>\n",
       "    <tr>\n",
       "      <th>6</th>\n",
       "      <td>RandomForestClassifier(class_weight='balanced')</td>\n",
       "      <td>StandardScaler()</td>\n",
       "      <td>{'feat_selection__k': 19}</td>\n",
       "      <td>0.760854</td>\n",
       "    </tr>\n",
       "    <tr>\n",
       "      <th>7</th>\n",
       "      <td>XGBClassifier(base_score=None, booster=None, c...</td>\n",
       "      <td>StandardScaler()</td>\n",
       "      <td>{'feat_selection__k': 15}</td>\n",
       "      <td>0.746818</td>\n",
       "    </tr>\n",
       "    <tr>\n",
       "      <th>7</th>\n",
       "      <td>XGBClassifier(base_score=None, booster=None, c...</td>\n",
       "      <td>StandardScaler()</td>\n",
       "      <td>{'feat_selection__k': 16}</td>\n",
       "      <td>0.75063</td>\n",
       "    </tr>\n",
       "    <tr>\n",
       "      <th>7</th>\n",
       "      <td>XGBClassifier(base_score=None, booster=None, c...</td>\n",
       "      <td>StandardScaler()</td>\n",
       "      <td>{'feat_selection__k': 17}</td>\n",
       "      <td>0.734246</td>\n",
       "    </tr>\n",
       "    <tr>\n",
       "      <th>7</th>\n",
       "      <td>XGBClassifier(base_score=None, booster=None, c...</td>\n",
       "      <td>StandardScaler()</td>\n",
       "      <td>{'feat_selection__k': 18}</td>\n",
       "      <td>0.75763</td>\n",
       "    </tr>\n",
       "    <tr>\n",
       "      <th>7</th>\n",
       "      <td>XGBClassifier(base_score=None, booster=None, c...</td>\n",
       "      <td>StandardScaler()</td>\n",
       "      <td>{'feat_selection__k': 19}</td>\n",
       "      <td>0.755648</td>\n",
       "    </tr>\n",
       "    <tr>\n",
       "      <th>8</th>\n",
       "      <td>SVC()</td>\n",
       "      <td>StandardScaler()</td>\n",
       "      <td>{'feat_selection__k': 15}</td>\n",
       "      <td>0.736713</td>\n",
       "    </tr>\n",
       "    <tr>\n",
       "      <th>8</th>\n",
       "      <td>SVC()</td>\n",
       "      <td>StandardScaler()</td>\n",
       "      <td>{'feat_selection__k': 16}</td>\n",
       "      <td>0.724482</td>\n",
       "    </tr>\n",
       "    <tr>\n",
       "      <th>8</th>\n",
       "      <td>SVC()</td>\n",
       "      <td>StandardScaler()</td>\n",
       "      <td>{'feat_selection__k': 17}</td>\n",
       "      <td>0.741837</td>\n",
       "    </tr>\n",
       "    <tr>\n",
       "      <th>8</th>\n",
       "      <td>SVC()</td>\n",
       "      <td>StandardScaler()</td>\n",
       "      <td>{'feat_selection__k': 18}</td>\n",
       "      <td>0.733516</td>\n",
       "    </tr>\n",
       "    <tr>\n",
       "      <th>8</th>\n",
       "      <td>SVC()</td>\n",
       "      <td>StandardScaler()</td>\n",
       "      <td>{'feat_selection__k': 19}</td>\n",
       "      <td>0.730064</td>\n",
       "    </tr>\n",
       "  </tbody>\n",
       "</table>\n",
       "</div>"
      ],
      "text/plain": [
       "                                                   0                 1  \\\n",
       "0    RandomForestClassifier(class_weight='balanced')    RobustScaler()   \n",
       "0    RandomForestClassifier(class_weight='balanced')    RobustScaler()   \n",
       "0    RandomForestClassifier(class_weight='balanced')    RobustScaler()   \n",
       "0    RandomForestClassifier(class_weight='balanced')    RobustScaler()   \n",
       "0    RandomForestClassifier(class_weight='balanced')    RobustScaler()   \n",
       "1  XGBClassifier(base_score=None, booster=None, c...    RobustScaler()   \n",
       "1  XGBClassifier(base_score=None, booster=None, c...    RobustScaler()   \n",
       "1  XGBClassifier(base_score=None, booster=None, c...    RobustScaler()   \n",
       "1  XGBClassifier(base_score=None, booster=None, c...    RobustScaler()   \n",
       "1  XGBClassifier(base_score=None, booster=None, c...    RobustScaler()   \n",
       "2                                              SVC()    RobustScaler()   \n",
       "2                                              SVC()    RobustScaler()   \n",
       "2                                              SVC()    RobustScaler()   \n",
       "2                                              SVC()    RobustScaler()   \n",
       "2                                              SVC()    RobustScaler()   \n",
       "3    RandomForestClassifier(class_weight='balanced')    MinMaxScaler()   \n",
       "3    RandomForestClassifier(class_weight='balanced')    MinMaxScaler()   \n",
       "3    RandomForestClassifier(class_weight='balanced')    MinMaxScaler()   \n",
       "3    RandomForestClassifier(class_weight='balanced')    MinMaxScaler()   \n",
       "3    RandomForestClassifier(class_weight='balanced')    MinMaxScaler()   \n",
       "4  XGBClassifier(base_score=None, booster=None, c...    MinMaxScaler()   \n",
       "4  XGBClassifier(base_score=None, booster=None, c...    MinMaxScaler()   \n",
       "4  XGBClassifier(base_score=None, booster=None, c...    MinMaxScaler()   \n",
       "4  XGBClassifier(base_score=None, booster=None, c...    MinMaxScaler()   \n",
       "4  XGBClassifier(base_score=None, booster=None, c...    MinMaxScaler()   \n",
       "5                                              SVC()    MinMaxScaler()   \n",
       "5                                              SVC()    MinMaxScaler()   \n",
       "5                                              SVC()    MinMaxScaler()   \n",
       "5                                              SVC()    MinMaxScaler()   \n",
       "5                                              SVC()    MinMaxScaler()   \n",
       "6    RandomForestClassifier(class_weight='balanced')  StandardScaler()   \n",
       "6    RandomForestClassifier(class_weight='balanced')  StandardScaler()   \n",
       "6    RandomForestClassifier(class_weight='balanced')  StandardScaler()   \n",
       "6    RandomForestClassifier(class_weight='balanced')  StandardScaler()   \n",
       "6    RandomForestClassifier(class_weight='balanced')  StandardScaler()   \n",
       "7  XGBClassifier(base_score=None, booster=None, c...  StandardScaler()   \n",
       "7  XGBClassifier(base_score=None, booster=None, c...  StandardScaler()   \n",
       "7  XGBClassifier(base_score=None, booster=None, c...  StandardScaler()   \n",
       "7  XGBClassifier(base_score=None, booster=None, c...  StandardScaler()   \n",
       "7  XGBClassifier(base_score=None, booster=None, c...  StandardScaler()   \n",
       "8                                              SVC()  StandardScaler()   \n",
       "8                                              SVC()  StandardScaler()   \n",
       "8                                              SVC()  StandardScaler()   \n",
       "8                                              SVC()  StandardScaler()   \n",
       "8                                              SVC()  StandardScaler()   \n",
       "\n",
       "                           2         3  \n",
       "0  {'feat_selection__k': 15}  0.751991  \n",
       "0  {'feat_selection__k': 16}  0.750237  \n",
       "0  {'feat_selection__k': 17}  0.755399  \n",
       "0  {'feat_selection__k': 18}  0.744412  \n",
       "0  {'feat_selection__k': 19}  0.734526  \n",
       "1  {'feat_selection__k': 15}  0.743783  \n",
       "1  {'feat_selection__k': 16}  0.748551  \n",
       "1  {'feat_selection__k': 17}  0.749426  \n",
       "1  {'feat_selection__k': 18}  0.748037  \n",
       "1  {'feat_selection__k': 19}  0.755482  \n",
       "2  {'feat_selection__k': 15}  0.726617  \n",
       "2  {'feat_selection__k': 16}   0.74925  \n",
       "2  {'feat_selection__k': 17}  0.690904  \n",
       "2  {'feat_selection__k': 18}  0.717694  \n",
       "2  {'feat_selection__k': 19}  0.698451  \n",
       "3  {'feat_selection__k': 15}  0.748601  \n",
       "3  {'feat_selection__k': 16}   0.75725  \n",
       "3  {'feat_selection__k': 17}  0.747432  \n",
       "3  {'feat_selection__k': 18}  0.770665  \n",
       "3  {'feat_selection__k': 19}  0.758508  \n",
       "4  {'feat_selection__k': 15}  0.750301  \n",
       "4  {'feat_selection__k': 16}  0.749703  \n",
       "4  {'feat_selection__k': 17}  0.748666  \n",
       "4  {'feat_selection__k': 18}  0.752793  \n",
       "4  {'feat_selection__k': 19}  0.754232  \n",
       "5  {'feat_selection__k': 15}  0.713897  \n",
       "5  {'feat_selection__k': 16}  0.678547  \n",
       "5  {'feat_selection__k': 17}  0.699602  \n",
       "5  {'feat_selection__k': 18}  0.690644  \n",
       "5  {'feat_selection__k': 19}  0.684416  \n",
       "6  {'feat_selection__k': 15}  0.752028  \n",
       "6  {'feat_selection__k': 16}  0.761919  \n",
       "6  {'feat_selection__k': 17}   0.75525  \n",
       "6  {'feat_selection__k': 18}  0.756502  \n",
       "6  {'feat_selection__k': 19}  0.760854  \n",
       "7  {'feat_selection__k': 15}  0.746818  \n",
       "7  {'feat_selection__k': 16}   0.75063  \n",
       "7  {'feat_selection__k': 17}  0.734246  \n",
       "7  {'feat_selection__k': 18}   0.75763  \n",
       "7  {'feat_selection__k': 19}  0.755648  \n",
       "8  {'feat_selection__k': 15}  0.736713  \n",
       "8  {'feat_selection__k': 16}  0.724482  \n",
       "8  {'feat_selection__k': 17}  0.741837  \n",
       "8  {'feat_selection__k': 18}  0.733516  \n",
       "8  {'feat_selection__k': 19}  0.730064  "
      ]
     },
     "execution_count": 147,
     "metadata": {},
     "output_type": "execute_result"
    }
   ],
   "source": [
    "res"
   ]
  },
  {
   "cell_type": "code",
   "execution_count": 148,
   "id": "bce97e1c-ca3f-4fe3-b4bb-c7641a95c572",
   "metadata": {},
   "outputs": [
    {
     "data": {
      "text/html": [
       "<div>\n",
       "<style scoped>\n",
       "    .dataframe tbody tr th:only-of-type {\n",
       "        vertical-align: middle;\n",
       "    }\n",
       "\n",
       "    .dataframe tbody tr th {\n",
       "        vertical-align: top;\n",
       "    }\n",
       "\n",
       "    .dataframe thead th {\n",
       "        text-align: right;\n",
       "    }\n",
       "</style>\n",
       "<table border=\"1\" class=\"dataframe\">\n",
       "  <thead>\n",
       "    <tr style=\"text-align: right;\">\n",
       "      <th></th>\n",
       "      <th>0</th>\n",
       "      <th>1</th>\n",
       "      <th>2</th>\n",
       "      <th>3</th>\n",
       "    </tr>\n",
       "  </thead>\n",
       "  <tbody>\n",
       "    <tr>\n",
       "      <th>3</th>\n",
       "      <td>RandomForestClassifier(class_weight='balanced')</td>\n",
       "      <td>MinMaxScaler()</td>\n",
       "      <td>{'feat_selection__k': 18}</td>\n",
       "      <td>0.770665</td>\n",
       "    </tr>\n",
       "    <tr>\n",
       "      <th>6</th>\n",
       "      <td>RandomForestClassifier(class_weight='balanced')</td>\n",
       "      <td>StandardScaler()</td>\n",
       "      <td>{'feat_selection__k': 16}</td>\n",
       "      <td>0.761919</td>\n",
       "    </tr>\n",
       "    <tr>\n",
       "      <th>6</th>\n",
       "      <td>RandomForestClassifier(class_weight='balanced')</td>\n",
       "      <td>StandardScaler()</td>\n",
       "      <td>{'feat_selection__k': 19}</td>\n",
       "      <td>0.760854</td>\n",
       "    </tr>\n",
       "    <tr>\n",
       "      <th>3</th>\n",
       "      <td>RandomForestClassifier(class_weight='balanced')</td>\n",
       "      <td>MinMaxScaler()</td>\n",
       "      <td>{'feat_selection__k': 19}</td>\n",
       "      <td>0.758508</td>\n",
       "    </tr>\n",
       "    <tr>\n",
       "      <th>7</th>\n",
       "      <td>XGBClassifier(base_score=None, booster=None, c...</td>\n",
       "      <td>StandardScaler()</td>\n",
       "      <td>{'feat_selection__k': 18}</td>\n",
       "      <td>0.75763</td>\n",
       "    </tr>\n",
       "    <tr>\n",
       "      <th>3</th>\n",
       "      <td>RandomForestClassifier(class_weight='balanced')</td>\n",
       "      <td>MinMaxScaler()</td>\n",
       "      <td>{'feat_selection__k': 16}</td>\n",
       "      <td>0.75725</td>\n",
       "    </tr>\n",
       "    <tr>\n",
       "      <th>6</th>\n",
       "      <td>RandomForestClassifier(class_weight='balanced')</td>\n",
       "      <td>StandardScaler()</td>\n",
       "      <td>{'feat_selection__k': 18}</td>\n",
       "      <td>0.756502</td>\n",
       "    </tr>\n",
       "    <tr>\n",
       "      <th>7</th>\n",
       "      <td>XGBClassifier(base_score=None, booster=None, c...</td>\n",
       "      <td>StandardScaler()</td>\n",
       "      <td>{'feat_selection__k': 19}</td>\n",
       "      <td>0.755648</td>\n",
       "    </tr>\n",
       "    <tr>\n",
       "      <th>1</th>\n",
       "      <td>XGBClassifier(base_score=None, booster=None, c...</td>\n",
       "      <td>RobustScaler()</td>\n",
       "      <td>{'feat_selection__k': 19}</td>\n",
       "      <td>0.755482</td>\n",
       "    </tr>\n",
       "    <tr>\n",
       "      <th>0</th>\n",
       "      <td>RandomForestClassifier(class_weight='balanced')</td>\n",
       "      <td>RobustScaler()</td>\n",
       "      <td>{'feat_selection__k': 17}</td>\n",
       "      <td>0.755399</td>\n",
       "    </tr>\n",
       "    <tr>\n",
       "      <th>6</th>\n",
       "      <td>RandomForestClassifier(class_weight='balanced')</td>\n",
       "      <td>StandardScaler()</td>\n",
       "      <td>{'feat_selection__k': 17}</td>\n",
       "      <td>0.75525</td>\n",
       "    </tr>\n",
       "    <tr>\n",
       "      <th>4</th>\n",
       "      <td>XGBClassifier(base_score=None, booster=None, c...</td>\n",
       "      <td>MinMaxScaler()</td>\n",
       "      <td>{'feat_selection__k': 19}</td>\n",
       "      <td>0.754232</td>\n",
       "    </tr>\n",
       "    <tr>\n",
       "      <th>4</th>\n",
       "      <td>XGBClassifier(base_score=None, booster=None, c...</td>\n",
       "      <td>MinMaxScaler()</td>\n",
       "      <td>{'feat_selection__k': 18}</td>\n",
       "      <td>0.752793</td>\n",
       "    </tr>\n",
       "    <tr>\n",
       "      <th>6</th>\n",
       "      <td>RandomForestClassifier(class_weight='balanced')</td>\n",
       "      <td>StandardScaler()</td>\n",
       "      <td>{'feat_selection__k': 15}</td>\n",
       "      <td>0.752028</td>\n",
       "    </tr>\n",
       "    <tr>\n",
       "      <th>0</th>\n",
       "      <td>RandomForestClassifier(class_weight='balanced')</td>\n",
       "      <td>RobustScaler()</td>\n",
       "      <td>{'feat_selection__k': 15}</td>\n",
       "      <td>0.751991</td>\n",
       "    </tr>\n",
       "    <tr>\n",
       "      <th>7</th>\n",
       "      <td>XGBClassifier(base_score=None, booster=None, c...</td>\n",
       "      <td>StandardScaler()</td>\n",
       "      <td>{'feat_selection__k': 16}</td>\n",
       "      <td>0.75063</td>\n",
       "    </tr>\n",
       "    <tr>\n",
       "      <th>4</th>\n",
       "      <td>XGBClassifier(base_score=None, booster=None, c...</td>\n",
       "      <td>MinMaxScaler()</td>\n",
       "      <td>{'feat_selection__k': 15}</td>\n",
       "      <td>0.750301</td>\n",
       "    </tr>\n",
       "    <tr>\n",
       "      <th>0</th>\n",
       "      <td>RandomForestClassifier(class_weight='balanced')</td>\n",
       "      <td>RobustScaler()</td>\n",
       "      <td>{'feat_selection__k': 16}</td>\n",
       "      <td>0.750237</td>\n",
       "    </tr>\n",
       "    <tr>\n",
       "      <th>4</th>\n",
       "      <td>XGBClassifier(base_score=None, booster=None, c...</td>\n",
       "      <td>MinMaxScaler()</td>\n",
       "      <td>{'feat_selection__k': 16}</td>\n",
       "      <td>0.749703</td>\n",
       "    </tr>\n",
       "    <tr>\n",
       "      <th>1</th>\n",
       "      <td>XGBClassifier(base_score=None, booster=None, c...</td>\n",
       "      <td>RobustScaler()</td>\n",
       "      <td>{'feat_selection__k': 17}</td>\n",
       "      <td>0.749426</td>\n",
       "    </tr>\n",
       "    <tr>\n",
       "      <th>2</th>\n",
       "      <td>SVC()</td>\n",
       "      <td>RobustScaler()</td>\n",
       "      <td>{'feat_selection__k': 16}</td>\n",
       "      <td>0.74925</td>\n",
       "    </tr>\n",
       "    <tr>\n",
       "      <th>4</th>\n",
       "      <td>XGBClassifier(base_score=None, booster=None, c...</td>\n",
       "      <td>MinMaxScaler()</td>\n",
       "      <td>{'feat_selection__k': 17}</td>\n",
       "      <td>0.748666</td>\n",
       "    </tr>\n",
       "    <tr>\n",
       "      <th>3</th>\n",
       "      <td>RandomForestClassifier(class_weight='balanced')</td>\n",
       "      <td>MinMaxScaler()</td>\n",
       "      <td>{'feat_selection__k': 15}</td>\n",
       "      <td>0.748601</td>\n",
       "    </tr>\n",
       "    <tr>\n",
       "      <th>1</th>\n",
       "      <td>XGBClassifier(base_score=None, booster=None, c...</td>\n",
       "      <td>RobustScaler()</td>\n",
       "      <td>{'feat_selection__k': 16}</td>\n",
       "      <td>0.748551</td>\n",
       "    </tr>\n",
       "    <tr>\n",
       "      <th>1</th>\n",
       "      <td>XGBClassifier(base_score=None, booster=None, c...</td>\n",
       "      <td>RobustScaler()</td>\n",
       "      <td>{'feat_selection__k': 18}</td>\n",
       "      <td>0.748037</td>\n",
       "    </tr>\n",
       "    <tr>\n",
       "      <th>3</th>\n",
       "      <td>RandomForestClassifier(class_weight='balanced')</td>\n",
       "      <td>MinMaxScaler()</td>\n",
       "      <td>{'feat_selection__k': 17}</td>\n",
       "      <td>0.747432</td>\n",
       "    </tr>\n",
       "    <tr>\n",
       "      <th>7</th>\n",
       "      <td>XGBClassifier(base_score=None, booster=None, c...</td>\n",
       "      <td>StandardScaler()</td>\n",
       "      <td>{'feat_selection__k': 15}</td>\n",
       "      <td>0.746818</td>\n",
       "    </tr>\n",
       "    <tr>\n",
       "      <th>0</th>\n",
       "      <td>RandomForestClassifier(class_weight='balanced')</td>\n",
       "      <td>RobustScaler()</td>\n",
       "      <td>{'feat_selection__k': 18}</td>\n",
       "      <td>0.744412</td>\n",
       "    </tr>\n",
       "    <tr>\n",
       "      <th>1</th>\n",
       "      <td>XGBClassifier(base_score=None, booster=None, c...</td>\n",
       "      <td>RobustScaler()</td>\n",
       "      <td>{'feat_selection__k': 15}</td>\n",
       "      <td>0.743783</td>\n",
       "    </tr>\n",
       "    <tr>\n",
       "      <th>8</th>\n",
       "      <td>SVC()</td>\n",
       "      <td>StandardScaler()</td>\n",
       "      <td>{'feat_selection__k': 17}</td>\n",
       "      <td>0.741837</td>\n",
       "    </tr>\n",
       "    <tr>\n",
       "      <th>8</th>\n",
       "      <td>SVC()</td>\n",
       "      <td>StandardScaler()</td>\n",
       "      <td>{'feat_selection__k': 15}</td>\n",
       "      <td>0.736713</td>\n",
       "    </tr>\n",
       "    <tr>\n",
       "      <th>0</th>\n",
       "      <td>RandomForestClassifier(class_weight='balanced')</td>\n",
       "      <td>RobustScaler()</td>\n",
       "      <td>{'feat_selection__k': 19}</td>\n",
       "      <td>0.734526</td>\n",
       "    </tr>\n",
       "    <tr>\n",
       "      <th>7</th>\n",
       "      <td>XGBClassifier(base_score=None, booster=None, c...</td>\n",
       "      <td>StandardScaler()</td>\n",
       "      <td>{'feat_selection__k': 17}</td>\n",
       "      <td>0.734246</td>\n",
       "    </tr>\n",
       "    <tr>\n",
       "      <th>8</th>\n",
       "      <td>SVC()</td>\n",
       "      <td>StandardScaler()</td>\n",
       "      <td>{'feat_selection__k': 18}</td>\n",
       "      <td>0.733516</td>\n",
       "    </tr>\n",
       "    <tr>\n",
       "      <th>8</th>\n",
       "      <td>SVC()</td>\n",
       "      <td>StandardScaler()</td>\n",
       "      <td>{'feat_selection__k': 19}</td>\n",
       "      <td>0.730064</td>\n",
       "    </tr>\n",
       "    <tr>\n",
       "      <th>2</th>\n",
       "      <td>SVC()</td>\n",
       "      <td>RobustScaler()</td>\n",
       "      <td>{'feat_selection__k': 15}</td>\n",
       "      <td>0.726617</td>\n",
       "    </tr>\n",
       "    <tr>\n",
       "      <th>8</th>\n",
       "      <td>SVC()</td>\n",
       "      <td>StandardScaler()</td>\n",
       "      <td>{'feat_selection__k': 16}</td>\n",
       "      <td>0.724482</td>\n",
       "    </tr>\n",
       "    <tr>\n",
       "      <th>2</th>\n",
       "      <td>SVC()</td>\n",
       "      <td>RobustScaler()</td>\n",
       "      <td>{'feat_selection__k': 18}</td>\n",
       "      <td>0.717694</td>\n",
       "    </tr>\n",
       "    <tr>\n",
       "      <th>5</th>\n",
       "      <td>SVC()</td>\n",
       "      <td>MinMaxScaler()</td>\n",
       "      <td>{'feat_selection__k': 15}</td>\n",
       "      <td>0.713897</td>\n",
       "    </tr>\n",
       "    <tr>\n",
       "      <th>5</th>\n",
       "      <td>SVC()</td>\n",
       "      <td>MinMaxScaler()</td>\n",
       "      <td>{'feat_selection__k': 17}</td>\n",
       "      <td>0.699602</td>\n",
       "    </tr>\n",
       "    <tr>\n",
       "      <th>2</th>\n",
       "      <td>SVC()</td>\n",
       "      <td>RobustScaler()</td>\n",
       "      <td>{'feat_selection__k': 19}</td>\n",
       "      <td>0.698451</td>\n",
       "    </tr>\n",
       "    <tr>\n",
       "      <th>2</th>\n",
       "      <td>SVC()</td>\n",
       "      <td>RobustScaler()</td>\n",
       "      <td>{'feat_selection__k': 17}</td>\n",
       "      <td>0.690904</td>\n",
       "    </tr>\n",
       "    <tr>\n",
       "      <th>5</th>\n",
       "      <td>SVC()</td>\n",
       "      <td>MinMaxScaler()</td>\n",
       "      <td>{'feat_selection__k': 18}</td>\n",
       "      <td>0.690644</td>\n",
       "    </tr>\n",
       "    <tr>\n",
       "      <th>5</th>\n",
       "      <td>SVC()</td>\n",
       "      <td>MinMaxScaler()</td>\n",
       "      <td>{'feat_selection__k': 19}</td>\n",
       "      <td>0.684416</td>\n",
       "    </tr>\n",
       "    <tr>\n",
       "      <th>5</th>\n",
       "      <td>SVC()</td>\n",
       "      <td>MinMaxScaler()</td>\n",
       "      <td>{'feat_selection__k': 16}</td>\n",
       "      <td>0.678547</td>\n",
       "    </tr>\n",
       "  </tbody>\n",
       "</table>\n",
       "</div>"
      ],
      "text/plain": [
       "                                                   0                 1  \\\n",
       "3    RandomForestClassifier(class_weight='balanced')    MinMaxScaler()   \n",
       "6    RandomForestClassifier(class_weight='balanced')  StandardScaler()   \n",
       "6    RandomForestClassifier(class_weight='balanced')  StandardScaler()   \n",
       "3    RandomForestClassifier(class_weight='balanced')    MinMaxScaler()   \n",
       "7  XGBClassifier(base_score=None, booster=None, c...  StandardScaler()   \n",
       "3    RandomForestClassifier(class_weight='balanced')    MinMaxScaler()   \n",
       "6    RandomForestClassifier(class_weight='balanced')  StandardScaler()   \n",
       "7  XGBClassifier(base_score=None, booster=None, c...  StandardScaler()   \n",
       "1  XGBClassifier(base_score=None, booster=None, c...    RobustScaler()   \n",
       "0    RandomForestClassifier(class_weight='balanced')    RobustScaler()   \n",
       "6    RandomForestClassifier(class_weight='balanced')  StandardScaler()   \n",
       "4  XGBClassifier(base_score=None, booster=None, c...    MinMaxScaler()   \n",
       "4  XGBClassifier(base_score=None, booster=None, c...    MinMaxScaler()   \n",
       "6    RandomForestClassifier(class_weight='balanced')  StandardScaler()   \n",
       "0    RandomForestClassifier(class_weight='balanced')    RobustScaler()   \n",
       "7  XGBClassifier(base_score=None, booster=None, c...  StandardScaler()   \n",
       "4  XGBClassifier(base_score=None, booster=None, c...    MinMaxScaler()   \n",
       "0    RandomForestClassifier(class_weight='balanced')    RobustScaler()   \n",
       "4  XGBClassifier(base_score=None, booster=None, c...    MinMaxScaler()   \n",
       "1  XGBClassifier(base_score=None, booster=None, c...    RobustScaler()   \n",
       "2                                              SVC()    RobustScaler()   \n",
       "4  XGBClassifier(base_score=None, booster=None, c...    MinMaxScaler()   \n",
       "3    RandomForestClassifier(class_weight='balanced')    MinMaxScaler()   \n",
       "1  XGBClassifier(base_score=None, booster=None, c...    RobustScaler()   \n",
       "1  XGBClassifier(base_score=None, booster=None, c...    RobustScaler()   \n",
       "3    RandomForestClassifier(class_weight='balanced')    MinMaxScaler()   \n",
       "7  XGBClassifier(base_score=None, booster=None, c...  StandardScaler()   \n",
       "0    RandomForestClassifier(class_weight='balanced')    RobustScaler()   \n",
       "1  XGBClassifier(base_score=None, booster=None, c...    RobustScaler()   \n",
       "8                                              SVC()  StandardScaler()   \n",
       "8                                              SVC()  StandardScaler()   \n",
       "0    RandomForestClassifier(class_weight='balanced')    RobustScaler()   \n",
       "7  XGBClassifier(base_score=None, booster=None, c...  StandardScaler()   \n",
       "8                                              SVC()  StandardScaler()   \n",
       "8                                              SVC()  StandardScaler()   \n",
       "2                                              SVC()    RobustScaler()   \n",
       "8                                              SVC()  StandardScaler()   \n",
       "2                                              SVC()    RobustScaler()   \n",
       "5                                              SVC()    MinMaxScaler()   \n",
       "5                                              SVC()    MinMaxScaler()   \n",
       "2                                              SVC()    RobustScaler()   \n",
       "2                                              SVC()    RobustScaler()   \n",
       "5                                              SVC()    MinMaxScaler()   \n",
       "5                                              SVC()    MinMaxScaler()   \n",
       "5                                              SVC()    MinMaxScaler()   \n",
       "\n",
       "                           2         3  \n",
       "3  {'feat_selection__k': 18}  0.770665  \n",
       "6  {'feat_selection__k': 16}  0.761919  \n",
       "6  {'feat_selection__k': 19}  0.760854  \n",
       "3  {'feat_selection__k': 19}  0.758508  \n",
       "7  {'feat_selection__k': 18}   0.75763  \n",
       "3  {'feat_selection__k': 16}   0.75725  \n",
       "6  {'feat_selection__k': 18}  0.756502  \n",
       "7  {'feat_selection__k': 19}  0.755648  \n",
       "1  {'feat_selection__k': 19}  0.755482  \n",
       "0  {'feat_selection__k': 17}  0.755399  \n",
       "6  {'feat_selection__k': 17}   0.75525  \n",
       "4  {'feat_selection__k': 19}  0.754232  \n",
       "4  {'feat_selection__k': 18}  0.752793  \n",
       "6  {'feat_selection__k': 15}  0.752028  \n",
       "0  {'feat_selection__k': 15}  0.751991  \n",
       "7  {'feat_selection__k': 16}   0.75063  \n",
       "4  {'feat_selection__k': 15}  0.750301  \n",
       "0  {'feat_selection__k': 16}  0.750237  \n",
       "4  {'feat_selection__k': 16}  0.749703  \n",
       "1  {'feat_selection__k': 17}  0.749426  \n",
       "2  {'feat_selection__k': 16}   0.74925  \n",
       "4  {'feat_selection__k': 17}  0.748666  \n",
       "3  {'feat_selection__k': 15}  0.748601  \n",
       "1  {'feat_selection__k': 16}  0.748551  \n",
       "1  {'feat_selection__k': 18}  0.748037  \n",
       "3  {'feat_selection__k': 17}  0.747432  \n",
       "7  {'feat_selection__k': 15}  0.746818  \n",
       "0  {'feat_selection__k': 18}  0.744412  \n",
       "1  {'feat_selection__k': 15}  0.743783  \n",
       "8  {'feat_selection__k': 17}  0.741837  \n",
       "8  {'feat_selection__k': 15}  0.736713  \n",
       "0  {'feat_selection__k': 19}  0.734526  \n",
       "7  {'feat_selection__k': 17}  0.734246  \n",
       "8  {'feat_selection__k': 18}  0.733516  \n",
       "8  {'feat_selection__k': 19}  0.730064  \n",
       "2  {'feat_selection__k': 15}  0.726617  \n",
       "8  {'feat_selection__k': 16}  0.724482  \n",
       "2  {'feat_selection__k': 18}  0.717694  \n",
       "5  {'feat_selection__k': 15}  0.713897  \n",
       "5  {'feat_selection__k': 17}  0.699602  \n",
       "2  {'feat_selection__k': 19}  0.698451  \n",
       "2  {'feat_selection__k': 17}  0.690904  \n",
       "5  {'feat_selection__k': 18}  0.690644  \n",
       "5  {'feat_selection__k': 19}  0.684416  \n",
       "5  {'feat_selection__k': 16}  0.678547  "
      ]
     },
     "execution_count": 148,
     "metadata": {},
     "output_type": "execute_result"
    }
   ],
   "source": [
    "res.sort_values(3,ascending = False)"
   ]
  },
  {
   "cell_type": "code",
   "execution_count": 97,
   "id": "a7148c36-19c4-4419-9f03-cdefadc567a9",
   "metadata": {},
   "outputs": [
    {
     "name": "stdout",
     "output_type": "stream",
     "text": [
      " - balanced accuracy: 0.86\n",
      " - macro f1: 0.86\n"
     ]
    }
   ],
   "source": [
    "pipe = Pipeline([\n",
    "  ('feat_select', SelectFromModel(RandomForestClassifier(), max_features=20)),\n",
    "  ('classifier', RandomForestClassifier(random_state=42))\n",
    "])\n",
    "\n",
    "pipe.fit(X_train, y_train)\n",
    "predictions = pipe.predict(X_test)\n",
    "print(' - balanced accuracy:', round(balanced_accuracy_score(y_test, predictions),2))\n",
    "print(' - macro f1:', round(f1_score(y_test, predictions, average='macro'),2))"
   ]
  },
  {
   "cell_type": "code",
   "execution_count": null,
   "id": "bb5a74ad-91f2-4aa7-a6ca-17eb240e73aa",
   "metadata": {},
   "outputs": [],
   "source": []
  },
  {
   "cell_type": "code",
   "execution_count": null,
   "id": "f1d5acbf-6d62-4b09-8296-3c3ef77b052a",
   "metadata": {},
   "outputs": [],
   "source": []
  },
  {
   "cell_type": "markdown",
   "id": "08df5f94-ef26-4e7d-86ef-efabec2eab2f",
   "metadata": {},
   "source": [
    "# MRMR"
   ]
  },
  {
   "cell_type": "code",
   "execution_count": 36,
   "id": "7c1d3da5-f77f-49b2-aea7-325e2c5384d3",
   "metadata": {},
   "outputs": [
    {
     "data": {
      "text/plain": [
       "Index(['lead_time', 'arrival_date_week_number', 'arrival_date_day_of_month',\n",
       "       'stays_in_weekend_nights', 'stays_in_week_nights', 'adults', 'children',\n",
       "       'babies', 'is_repeated_guest', 'previous_cancellations',\n",
       "       'previous_bookings_not_canceled', 'booking_changes',\n",
       "       'days_in_waiting_list', 'adr', 'required_car_parking_spaces',\n",
       "       'total_of_special_requests', 'hotel_City Hotel', 'hotel_Resort Hotel',\n",
       "       'meal_BB', 'meal_FB', 'meal_HB', 'meal_SC', 'meal_Undefined',\n",
       "       'market_segment_Aviation', 'market_segment_Complementary',\n",
       "       'market_segment_Corporate', 'market_segment_Direct',\n",
       "       'market_segment_Groups', 'market_segment_Offline TA/TO',\n",
       "       'market_segment_Online TA', 'distribution_channel_Corporate',\n",
       "       'distribution_channel_Direct', 'distribution_channel_GDS',\n",
       "       'distribution_channel_TA/TO', 'distribution_channel_Undefined',\n",
       "       'reserved_room_type_A', 'reserved_room_type_B', 'reserved_room_type_C',\n",
       "       'reserved_room_type_D', 'reserved_room_type_E', 'reserved_room_type_F',\n",
       "       'reserved_room_type_G', 'reserved_room_type_H', 'reserved_room_type_L',\n",
       "       'reserved_room_type_P', 'deposit_type_No Deposit',\n",
       "       'deposit_type_Non Refund', 'deposit_type_Refundable',\n",
       "       'customer_type_Contract', 'customer_type_Group',\n",
       "       'customer_type_Transient', 'customer_type_Transient-Party',\n",
       "       'is_canceled'],\n",
       "      dtype='object')"
      ]
     },
     "execution_count": 36,
     "metadata": {},
     "output_type": "execute_result"
    }
   ],
   "source": [
    "df.columns"
   ]
  },
  {
   "cell_type": "code",
   "execution_count": 28,
   "id": "c38f42fd-205c-4519-9a81-789e1e481ecf",
   "metadata": {},
   "outputs": [],
   "source": [
    "classifiers = [\n",
    "    RandomForestClassifier(class_weight='balanced'),\n",
    "    xgb.XGBClassifier(),\n",
    "    SVC()]"
   ]
  },
  {
   "cell_type": "code",
   "execution_count": 38,
   "id": "df3da9c6-a51b-48f2-a554-875c503035ab",
   "metadata": {},
   "outputs": [
    {
     "name": "stderr",
     "output_type": "stream",
     "text": [
      "100%|████████████████████████████████████████████████████████████████████████████████████| 5/5 [00:00<00:00, 37.69it/s]\n"
     ]
    },
    {
     "name": "stdout",
     "output_type": "stream",
     "text": [
      "['deposit_type_Non Refund', 'required_car_parking_spaces', 'deposit_type_No Deposit', 'adults', 'total_of_special_requests']\n"
     ]
    },
    {
     "name": "stderr",
     "output_type": "stream",
     "text": [
      "100%|████████████████████████████████████████████████████████████████████████████████████| 6/6 [00:00<00:00, 34.33it/s]\n"
     ]
    },
    {
     "name": "stdout",
     "output_type": "stream",
     "text": [
      "['deposit_type_Non Refund', 'required_car_parking_spaces', 'deposit_type_No Deposit', 'adults', 'total_of_special_requests', 'lead_time']\n"
     ]
    },
    {
     "name": "stderr",
     "output_type": "stream",
     "text": [
      "100%|████████████████████████████████████████████████████████████████████████████████████| 7/7 [00:00<00:00, 34.59it/s]\n"
     ]
    },
    {
     "name": "stdout",
     "output_type": "stream",
     "text": [
      "['deposit_type_Non Refund', 'required_car_parking_spaces', 'deposit_type_No Deposit', 'adults', 'total_of_special_requests', 'lead_time', 'booking_changes']\n"
     ]
    },
    {
     "name": "stderr",
     "output_type": "stream",
     "text": [
      "100%|████████████████████████████████████████████████████████████████████████████████████| 8/8 [00:00<00:00, 31.37it/s]\n"
     ]
    },
    {
     "name": "stdout",
     "output_type": "stream",
     "text": [
      "['deposit_type_Non Refund', 'required_car_parking_spaces', 'deposit_type_No Deposit', 'adults', 'total_of_special_requests', 'lead_time', 'booking_changes', 'distribution_channel_TA/TO']\n"
     ]
    },
    {
     "name": "stderr",
     "output_type": "stream",
     "text": [
      "100%|████████████████████████████████████████████████████████████████████████████████████| 9/9 [00:00<00:00, 33.19it/s]\n"
     ]
    },
    {
     "name": "stdout",
     "output_type": "stream",
     "text": [
      "['deposit_type_Non Refund', 'required_car_parking_spaces', 'deposit_type_No Deposit', 'adults', 'total_of_special_requests', 'lead_time', 'booking_changes', 'distribution_channel_TA/TO', 'market_segment_Groups']\n"
     ]
    },
    {
     "name": "stderr",
     "output_type": "stream",
     "text": [
      "100%|██████████████████████████████████████████████████████████████████████████████████| 10/10 [00:00<00:00, 35.03it/s]\n"
     ]
    },
    {
     "name": "stdout",
     "output_type": "stream",
     "text": [
      "['deposit_type_Non Refund', 'required_car_parking_spaces', 'deposit_type_No Deposit', 'adults', 'total_of_special_requests', 'lead_time', 'booking_changes', 'distribution_channel_TA/TO', 'market_segment_Groups', 'hotel_Resort Hotel']\n"
     ]
    },
    {
     "name": "stderr",
     "output_type": "stream",
     "text": [
      "100%|██████████████████████████████████████████████████████████████████████████████████| 11/11 [00:00<00:00, 34.97it/s]\n"
     ]
    },
    {
     "name": "stdout",
     "output_type": "stream",
     "text": [
      "['deposit_type_Non Refund', 'required_car_parking_spaces', 'deposit_type_No Deposit', 'adults', 'total_of_special_requests', 'lead_time', 'booking_changes', 'distribution_channel_TA/TO', 'market_segment_Groups', 'hotel_Resort Hotel', 'customer_type_Transient']\n"
     ]
    },
    {
     "name": "stderr",
     "output_type": "stream",
     "text": [
      "100%|██████████████████████████████████████████████████████████████████████████████████| 12/12 [00:00<00:00, 34.26it/s]\n"
     ]
    },
    {
     "name": "stdout",
     "output_type": "stream",
     "text": [
      "['deposit_type_Non Refund', 'required_car_parking_spaces', 'deposit_type_No Deposit', 'adults', 'total_of_special_requests', 'lead_time', 'booking_changes', 'distribution_channel_TA/TO', 'market_segment_Groups', 'hotel_Resort Hotel', 'customer_type_Transient', 'previous_cancellations']\n"
     ]
    },
    {
     "name": "stderr",
     "output_type": "stream",
     "text": [
      "100%|██████████████████████████████████████████████████████████████████████████████████| 13/13 [00:00<00:00, 33.25it/s]\n"
     ]
    },
    {
     "name": "stdout",
     "output_type": "stream",
     "text": [
      "['deposit_type_Non Refund', 'required_car_parking_spaces', 'deposit_type_No Deposit', 'adults', 'total_of_special_requests', 'lead_time', 'booking_changes', 'distribution_channel_TA/TO', 'market_segment_Groups', 'hotel_Resort Hotel', 'customer_type_Transient', 'previous_cancellations', 'distribution_channel_Direct']\n"
     ]
    },
    {
     "name": "stderr",
     "output_type": "stream",
     "text": [
      "100%|██████████████████████████████████████████████████████████████████████████████████| 14/14 [00:00<00:00, 34.29it/s]\n"
     ]
    },
    {
     "name": "stdout",
     "output_type": "stream",
     "text": [
      "['deposit_type_Non Refund', 'required_car_parking_spaces', 'deposit_type_No Deposit', 'adults', 'total_of_special_requests', 'lead_time', 'booking_changes', 'distribution_channel_TA/TO', 'market_segment_Groups', 'hotel_Resort Hotel', 'customer_type_Transient', 'previous_cancellations', 'distribution_channel_Direct', 'customer_type_Transient-Party']\n"
     ]
    },
    {
     "name": "stderr",
     "output_type": "stream",
     "text": [
      "100%|██████████████████████████████████████████████████████████████████████████████████| 15/15 [00:00<00:00, 33.30it/s]\n"
     ]
    },
    {
     "name": "stdout",
     "output_type": "stream",
     "text": [
      "['deposit_type_Non Refund', 'required_car_parking_spaces', 'deposit_type_No Deposit', 'adults', 'total_of_special_requests', 'lead_time', 'booking_changes', 'distribution_channel_TA/TO', 'market_segment_Groups', 'hotel_Resort Hotel', 'customer_type_Transient', 'previous_cancellations', 'distribution_channel_Direct', 'customer_type_Transient-Party', 'hotel_City Hotel']\n"
     ]
    },
    {
     "name": "stderr",
     "output_type": "stream",
     "text": [
      "100%|██████████████████████████████████████████████████████████████████████████████████| 16/16 [00:00<00:00, 29.07it/s]\n"
     ]
    },
    {
     "name": "stdout",
     "output_type": "stream",
     "text": [
      "['deposit_type_Non Refund', 'required_car_parking_spaces', 'deposit_type_No Deposit', 'adults', 'total_of_special_requests', 'lead_time', 'booking_changes', 'distribution_channel_TA/TO', 'market_segment_Groups', 'hotel_Resort Hotel', 'customer_type_Transient', 'previous_cancellations', 'distribution_channel_Direct', 'customer_type_Transient-Party', 'hotel_City Hotel', 'market_segment_Direct']\n"
     ]
    },
    {
     "name": "stderr",
     "output_type": "stream",
     "text": [
      "100%|██████████████████████████████████████████████████████████████████████████████████| 17/17 [00:00<00:00, 25.12it/s]\n"
     ]
    },
    {
     "name": "stdout",
     "output_type": "stream",
     "text": [
      "['deposit_type_Non Refund', 'required_car_parking_spaces', 'deposit_type_No Deposit', 'adults', 'total_of_special_requests', 'lead_time', 'booking_changes', 'distribution_channel_TA/TO', 'market_segment_Groups', 'hotel_Resort Hotel', 'customer_type_Transient', 'previous_cancellations', 'distribution_channel_Direct', 'customer_type_Transient-Party', 'hotel_City Hotel', 'market_segment_Direct', 'days_in_waiting_list']\n"
     ]
    },
    {
     "name": "stderr",
     "output_type": "stream",
     "text": [
      "100%|██████████████████████████████████████████████████████████████████████████████████| 18/18 [00:00<00:00, 34.06it/s]\n"
     ]
    },
    {
     "name": "stdout",
     "output_type": "stream",
     "text": [
      "['deposit_type_Non Refund', 'required_car_parking_spaces', 'deposit_type_No Deposit', 'adults', 'total_of_special_requests', 'lead_time', 'booking_changes', 'distribution_channel_TA/TO', 'market_segment_Groups', 'hotel_Resort Hotel', 'customer_type_Transient', 'previous_cancellations', 'distribution_channel_Direct', 'customer_type_Transient-Party', 'hotel_City Hotel', 'market_segment_Direct', 'days_in_waiting_list', 'market_segment_Corporate']\n"
     ]
    },
    {
     "name": "stderr",
     "output_type": "stream",
     "text": [
      "100%|██████████████████████████████████████████████████████████████████████████████████| 19/19 [00:00<00:00, 33.65it/s]\n"
     ]
    },
    {
     "name": "stdout",
     "output_type": "stream",
     "text": [
      "['deposit_type_Non Refund', 'required_car_parking_spaces', 'deposit_type_No Deposit', 'adults', 'total_of_special_requests', 'lead_time', 'booking_changes', 'distribution_channel_TA/TO', 'market_segment_Groups', 'hotel_Resort Hotel', 'customer_type_Transient', 'previous_cancellations', 'distribution_channel_Direct', 'customer_type_Transient-Party', 'hotel_City Hotel', 'market_segment_Direct', 'days_in_waiting_list', 'market_segment_Corporate', 'distribution_channel_GDS']\n"
     ]
    },
    {
     "name": "stderr",
     "output_type": "stream",
     "text": [
      "100%|██████████████████████████████████████████████████████████████████████████████████| 20/20 [00:00<00:00, 33.49it/s]\n"
     ]
    },
    {
     "name": "stdout",
     "output_type": "stream",
     "text": [
      "['deposit_type_Non Refund', 'required_car_parking_spaces', 'deposit_type_No Deposit', 'adults', 'total_of_special_requests', 'lead_time', 'booking_changes', 'distribution_channel_TA/TO', 'market_segment_Groups', 'hotel_Resort Hotel', 'customer_type_Transient', 'previous_cancellations', 'distribution_channel_Direct', 'customer_type_Transient-Party', 'hotel_City Hotel', 'market_segment_Direct', 'days_in_waiting_list', 'market_segment_Corporate', 'distribution_channel_GDS', 'meal_FB']\n"
     ]
    },
    {
     "name": "stderr",
     "output_type": "stream",
     "text": [
      "100%|██████████████████████████████████████████████████████████████████████████████████| 21/21 [00:00<00:00, 33.28it/s]\n"
     ]
    },
    {
     "name": "stdout",
     "output_type": "stream",
     "text": [
      "['deposit_type_Non Refund', 'required_car_parking_spaces', 'deposit_type_No Deposit', 'adults', 'total_of_special_requests', 'lead_time', 'booking_changes', 'distribution_channel_TA/TO', 'market_segment_Groups', 'hotel_Resort Hotel', 'customer_type_Transient', 'previous_cancellations', 'distribution_channel_Direct', 'customer_type_Transient-Party', 'hotel_City Hotel', 'market_segment_Direct', 'days_in_waiting_list', 'market_segment_Corporate', 'distribution_channel_GDS', 'meal_FB', 'is_repeated_guest']\n"
     ]
    },
    {
     "name": "stderr",
     "output_type": "stream",
     "text": [
      "100%|██████████████████████████████████████████████████████████████████████████████████| 22/22 [00:00<00:00, 31.96it/s]\n"
     ]
    },
    {
     "name": "stdout",
     "output_type": "stream",
     "text": [
      "['deposit_type_Non Refund', 'required_car_parking_spaces', 'deposit_type_No Deposit', 'adults', 'total_of_special_requests', 'lead_time', 'booking_changes', 'distribution_channel_TA/TO', 'market_segment_Groups', 'hotel_Resort Hotel', 'customer_type_Transient', 'previous_cancellations', 'distribution_channel_Direct', 'customer_type_Transient-Party', 'hotel_City Hotel', 'market_segment_Direct', 'days_in_waiting_list', 'market_segment_Corporate', 'distribution_channel_GDS', 'meal_FB', 'is_repeated_guest', 'adr']\n"
     ]
    },
    {
     "name": "stderr",
     "output_type": "stream",
     "text": [
      "100%|██████████████████████████████████████████████████████████████████████████████████| 23/23 [00:01<00:00, 20.17it/s]\n"
     ]
    },
    {
     "name": "stdout",
     "output_type": "stream",
     "text": [
      "['deposit_type_Non Refund', 'required_car_parking_spaces', 'deposit_type_No Deposit', 'adults', 'total_of_special_requests', 'lead_time', 'booking_changes', 'distribution_channel_TA/TO', 'market_segment_Groups', 'hotel_Resort Hotel', 'customer_type_Transient', 'previous_cancellations', 'distribution_channel_Direct', 'customer_type_Transient-Party', 'hotel_City Hotel', 'market_segment_Direct', 'days_in_waiting_list', 'market_segment_Corporate', 'distribution_channel_GDS', 'meal_FB', 'is_repeated_guest', 'adr', 'arrival_date_day_of_month']\n"
     ]
    },
    {
     "name": "stderr",
     "output_type": "stream",
     "text": [
      "100%|██████████████████████████████████████████████████████████████████████████████████| 24/24 [00:00<00:00, 31.24it/s]\n"
     ]
    },
    {
     "name": "stdout",
     "output_type": "stream",
     "text": [
      "['deposit_type_Non Refund', 'required_car_parking_spaces', 'deposit_type_No Deposit', 'adults', 'total_of_special_requests', 'lead_time', 'booking_changes', 'distribution_channel_TA/TO', 'market_segment_Groups', 'hotel_Resort Hotel', 'customer_type_Transient', 'previous_cancellations', 'distribution_channel_Direct', 'customer_type_Transient-Party', 'hotel_City Hotel', 'market_segment_Direct', 'days_in_waiting_list', 'market_segment_Corporate', 'distribution_channel_GDS', 'meal_FB', 'is_repeated_guest', 'adr', 'arrival_date_day_of_month', 'reserved_room_type_A']\n"
     ]
    },
    {
     "name": "stderr",
     "output_type": "stream",
     "text": [
      "100%|██████████████████████████████████████████████████████████████████████████████████| 25/25 [00:00<00:00, 32.46it/s]\n"
     ]
    },
    {
     "name": "stdout",
     "output_type": "stream",
     "text": [
      "['deposit_type_Non Refund', 'required_car_parking_spaces', 'deposit_type_No Deposit', 'adults', 'total_of_special_requests', 'lead_time', 'booking_changes', 'distribution_channel_TA/TO', 'market_segment_Groups', 'hotel_Resort Hotel', 'customer_type_Transient', 'previous_cancellations', 'distribution_channel_Direct', 'customer_type_Transient-Party', 'hotel_City Hotel', 'market_segment_Direct', 'days_in_waiting_list', 'market_segment_Corporate', 'distribution_channel_GDS', 'meal_FB', 'is_repeated_guest', 'adr', 'arrival_date_day_of_month', 'reserved_room_type_A', 'meal_Undefined']\n"
     ]
    },
    {
     "name": "stderr",
     "output_type": "stream",
     "text": [
      "100%|██████████████████████████████████████████████████████████████████████████████████| 26/26 [00:00<00:00, 32.37it/s]\n"
     ]
    },
    {
     "name": "stdout",
     "output_type": "stream",
     "text": [
      "['deposit_type_Non Refund', 'required_car_parking_spaces', 'deposit_type_No Deposit', 'adults', 'total_of_special_requests', 'lead_time', 'booking_changes', 'distribution_channel_TA/TO', 'market_segment_Groups', 'hotel_Resort Hotel', 'customer_type_Transient', 'previous_cancellations', 'distribution_channel_Direct', 'customer_type_Transient-Party', 'hotel_City Hotel', 'market_segment_Direct', 'days_in_waiting_list', 'market_segment_Corporate', 'distribution_channel_GDS', 'meal_FB', 'is_repeated_guest', 'adr', 'arrival_date_day_of_month', 'reserved_room_type_A', 'meal_Undefined', 'previous_bookings_not_canceled']\n"
     ]
    },
    {
     "name": "stderr",
     "output_type": "stream",
     "text": [
      "100%|██████████████████████████████████████████████████████████████████████████████████| 27/27 [00:00<00:00, 33.05it/s]\n"
     ]
    },
    {
     "name": "stdout",
     "output_type": "stream",
     "text": [
      "['deposit_type_Non Refund', 'required_car_parking_spaces', 'deposit_type_No Deposit', 'adults', 'total_of_special_requests', 'lead_time', 'booking_changes', 'distribution_channel_TA/TO', 'market_segment_Groups', 'hotel_Resort Hotel', 'customer_type_Transient', 'previous_cancellations', 'distribution_channel_Direct', 'customer_type_Transient-Party', 'hotel_City Hotel', 'market_segment_Direct', 'days_in_waiting_list', 'market_segment_Corporate', 'distribution_channel_GDS', 'meal_FB', 'is_repeated_guest', 'adr', 'arrival_date_day_of_month', 'reserved_room_type_A', 'meal_Undefined', 'previous_bookings_not_canceled', 'babies']\n"
     ]
    },
    {
     "name": "stderr",
     "output_type": "stream",
     "text": [
      "100%|██████████████████████████████████████████████████████████████████████████████████| 28/28 [00:00<00:00, 32.53it/s]\n"
     ]
    },
    {
     "name": "stdout",
     "output_type": "stream",
     "text": [
      "['deposit_type_Non Refund', 'required_car_parking_spaces', 'deposit_type_No Deposit', 'adults', 'total_of_special_requests', 'lead_time', 'booking_changes', 'distribution_channel_TA/TO', 'market_segment_Groups', 'hotel_Resort Hotel', 'customer_type_Transient', 'previous_cancellations', 'distribution_channel_Direct', 'customer_type_Transient-Party', 'hotel_City Hotel', 'market_segment_Direct', 'days_in_waiting_list', 'market_segment_Corporate', 'distribution_channel_GDS', 'meal_FB', 'is_repeated_guest', 'adr', 'arrival_date_day_of_month', 'reserved_room_type_A', 'meal_Undefined', 'previous_bookings_not_canceled', 'babies', 'market_segment_Complementary']\n"
     ]
    },
    {
     "name": "stderr",
     "output_type": "stream",
     "text": [
      "100%|██████████████████████████████████████████████████████████████████████████████████| 29/29 [00:00<00:00, 33.24it/s]\n"
     ]
    },
    {
     "name": "stdout",
     "output_type": "stream",
     "text": [
      "['deposit_type_Non Refund', 'required_car_parking_spaces', 'deposit_type_No Deposit', 'adults', 'total_of_special_requests', 'lead_time', 'booking_changes', 'distribution_channel_TA/TO', 'market_segment_Groups', 'hotel_Resort Hotel', 'customer_type_Transient', 'previous_cancellations', 'distribution_channel_Direct', 'customer_type_Transient-Party', 'hotel_City Hotel', 'market_segment_Direct', 'days_in_waiting_list', 'market_segment_Corporate', 'distribution_channel_GDS', 'meal_FB', 'is_repeated_guest', 'adr', 'arrival_date_day_of_month', 'reserved_room_type_A', 'meal_Undefined', 'previous_bookings_not_canceled', 'babies', 'market_segment_Complementary', 'reserved_room_type_D']\n"
     ]
    },
    {
     "name": "stderr",
     "output_type": "stream",
     "text": [
      "100%|████████████████████████████████████████████████████████████████████████████████████| 5/5 [00:00<00:00, 33.70it/s]\n"
     ]
    },
    {
     "name": "stdout",
     "output_type": "stream",
     "text": [
      "['deposit_type_Non Refund', 'required_car_parking_spaces', 'deposit_type_No Deposit', 'adults', 'total_of_special_requests']\n"
     ]
    },
    {
     "name": "stderr",
     "output_type": "stream",
     "text": [
      "100%|████████████████████████████████████████████████████████████████████████████████████| 6/6 [00:00<00:00, 30.40it/s]\n"
     ]
    },
    {
     "name": "stdout",
     "output_type": "stream",
     "text": [
      "['deposit_type_Non Refund', 'required_car_parking_spaces', 'deposit_type_No Deposit', 'adults', 'total_of_special_requests', 'lead_time']\n"
     ]
    },
    {
     "name": "stderr",
     "output_type": "stream",
     "text": [
      "100%|████████████████████████████████████████████████████████████████████████████████████| 7/7 [00:00<00:00, 27.60it/s]\n"
     ]
    },
    {
     "name": "stdout",
     "output_type": "stream",
     "text": [
      "['deposit_type_Non Refund', 'required_car_parking_spaces', 'deposit_type_No Deposit', 'adults', 'total_of_special_requests', 'lead_time', 'booking_changes']\n"
     ]
    },
    {
     "name": "stderr",
     "output_type": "stream",
     "text": [
      "100%|████████████████████████████████████████████████████████████████████████████████████| 8/8 [00:00<00:00, 30.90it/s]\n"
     ]
    },
    {
     "name": "stdout",
     "output_type": "stream",
     "text": [
      "['deposit_type_Non Refund', 'required_car_parking_spaces', 'deposit_type_No Deposit', 'adults', 'total_of_special_requests', 'lead_time', 'booking_changes', 'distribution_channel_TA/TO']\n"
     ]
    },
    {
     "name": "stderr",
     "output_type": "stream",
     "text": [
      "100%|████████████████████████████████████████████████████████████████████████████████████| 9/9 [00:00<00:00, 23.48it/s]\n"
     ]
    },
    {
     "name": "stdout",
     "output_type": "stream",
     "text": [
      "['deposit_type_Non Refund', 'required_car_parking_spaces', 'deposit_type_No Deposit', 'adults', 'total_of_special_requests', 'lead_time', 'booking_changes', 'distribution_channel_TA/TO', 'market_segment_Groups']\n"
     ]
    },
    {
     "name": "stderr",
     "output_type": "stream",
     "text": [
      "100%|██████████████████████████████████████████████████████████████████████████████████| 10/10 [00:00<00:00, 32.83it/s]\n"
     ]
    },
    {
     "name": "stdout",
     "output_type": "stream",
     "text": [
      "['deposit_type_Non Refund', 'required_car_parking_spaces', 'deposit_type_No Deposit', 'adults', 'total_of_special_requests', 'lead_time', 'booking_changes', 'distribution_channel_TA/TO', 'market_segment_Groups', 'hotel_Resort Hotel']\n"
     ]
    },
    {
     "name": "stderr",
     "output_type": "stream",
     "text": [
      "100%|██████████████████████████████████████████████████████████████████████████████████| 11/11 [00:00<00:00, 27.73it/s]\n"
     ]
    },
    {
     "name": "stdout",
     "output_type": "stream",
     "text": [
      "['deposit_type_Non Refund', 'required_car_parking_spaces', 'deposit_type_No Deposit', 'adults', 'total_of_special_requests', 'lead_time', 'booking_changes', 'distribution_channel_TA/TO', 'market_segment_Groups', 'hotel_Resort Hotel', 'customer_type_Transient']\n"
     ]
    },
    {
     "name": "stderr",
     "output_type": "stream",
     "text": [
      "100%|██████████████████████████████████████████████████████████████████████████████████| 12/12 [00:00<00:00, 23.28it/s]\n"
     ]
    },
    {
     "name": "stdout",
     "output_type": "stream",
     "text": [
      "['deposit_type_Non Refund', 'required_car_parking_spaces', 'deposit_type_No Deposit', 'adults', 'total_of_special_requests', 'lead_time', 'booking_changes', 'distribution_channel_TA/TO', 'market_segment_Groups', 'hotel_Resort Hotel', 'customer_type_Transient', 'previous_cancellations']\n"
     ]
    },
    {
     "name": "stderr",
     "output_type": "stream",
     "text": [
      "100%|██████████████████████████████████████████████████████████████████████████████████| 13/13 [00:00<00:00, 25.76it/s]\n"
     ]
    },
    {
     "name": "stdout",
     "output_type": "stream",
     "text": [
      "['deposit_type_Non Refund', 'required_car_parking_spaces', 'deposit_type_No Deposit', 'adults', 'total_of_special_requests', 'lead_time', 'booking_changes', 'distribution_channel_TA/TO', 'market_segment_Groups', 'hotel_Resort Hotel', 'customer_type_Transient', 'previous_cancellations', 'distribution_channel_Direct']\n"
     ]
    },
    {
     "name": "stderr",
     "output_type": "stream",
     "text": [
      "100%|██████████████████████████████████████████████████████████████████████████████████| 14/14 [00:00<00:00, 22.86it/s]\n"
     ]
    },
    {
     "name": "stdout",
     "output_type": "stream",
     "text": [
      "['deposit_type_Non Refund', 'required_car_parking_spaces', 'deposit_type_No Deposit', 'adults', 'total_of_special_requests', 'lead_time', 'booking_changes', 'distribution_channel_TA/TO', 'market_segment_Groups', 'hotel_Resort Hotel', 'customer_type_Transient', 'previous_cancellations', 'distribution_channel_Direct', 'customer_type_Transient-Party']\n"
     ]
    },
    {
     "name": "stderr",
     "output_type": "stream",
     "text": [
      "100%|██████████████████████████████████████████████████████████████████████████████████| 15/15 [00:00<00:00, 28.99it/s]\n"
     ]
    },
    {
     "name": "stdout",
     "output_type": "stream",
     "text": [
      "['deposit_type_Non Refund', 'required_car_parking_spaces', 'deposit_type_No Deposit', 'adults', 'total_of_special_requests', 'lead_time', 'booking_changes', 'distribution_channel_TA/TO', 'market_segment_Groups', 'hotel_Resort Hotel', 'customer_type_Transient', 'previous_cancellations', 'distribution_channel_Direct', 'customer_type_Transient-Party', 'hotel_City Hotel']\n"
     ]
    },
    {
     "name": "stderr",
     "output_type": "stream",
     "text": [
      "100%|██████████████████████████████████████████████████████████████████████████████████| 16/16 [00:00<00:00, 29.70it/s]\n"
     ]
    },
    {
     "name": "stdout",
     "output_type": "stream",
     "text": [
      "['deposit_type_Non Refund', 'required_car_parking_spaces', 'deposit_type_No Deposit', 'adults', 'total_of_special_requests', 'lead_time', 'booking_changes', 'distribution_channel_TA/TO', 'market_segment_Groups', 'hotel_Resort Hotel', 'customer_type_Transient', 'previous_cancellations', 'distribution_channel_Direct', 'customer_type_Transient-Party', 'hotel_City Hotel', 'market_segment_Direct']\n"
     ]
    },
    {
     "name": "stderr",
     "output_type": "stream",
     "text": [
      "100%|██████████████████████████████████████████████████████████████████████████████████| 17/17 [00:00<00:00, 33.11it/s]\n"
     ]
    },
    {
     "name": "stdout",
     "output_type": "stream",
     "text": [
      "['deposit_type_Non Refund', 'required_car_parking_spaces', 'deposit_type_No Deposit', 'adults', 'total_of_special_requests', 'lead_time', 'booking_changes', 'distribution_channel_TA/TO', 'market_segment_Groups', 'hotel_Resort Hotel', 'customer_type_Transient', 'previous_cancellations', 'distribution_channel_Direct', 'customer_type_Transient-Party', 'hotel_City Hotel', 'market_segment_Direct', 'days_in_waiting_list']\n"
     ]
    },
    {
     "name": "stderr",
     "output_type": "stream",
     "text": [
      "100%|██████████████████████████████████████████████████████████████████████████████████| 18/18 [00:00<00:00, 22.43it/s]\n"
     ]
    },
    {
     "name": "stdout",
     "output_type": "stream",
     "text": [
      "['deposit_type_Non Refund', 'required_car_parking_spaces', 'deposit_type_No Deposit', 'adults', 'total_of_special_requests', 'lead_time', 'booking_changes', 'distribution_channel_TA/TO', 'market_segment_Groups', 'hotel_Resort Hotel', 'customer_type_Transient', 'previous_cancellations', 'distribution_channel_Direct', 'customer_type_Transient-Party', 'hotel_City Hotel', 'market_segment_Direct', 'days_in_waiting_list', 'market_segment_Corporate']\n"
     ]
    },
    {
     "name": "stderr",
     "output_type": "stream",
     "text": [
      "100%|██████████████████████████████████████████████████████████████████████████████████| 19/19 [00:00<00:00, 32.76it/s]\n"
     ]
    },
    {
     "name": "stdout",
     "output_type": "stream",
     "text": [
      "['deposit_type_Non Refund', 'required_car_parking_spaces', 'deposit_type_No Deposit', 'adults', 'total_of_special_requests', 'lead_time', 'booking_changes', 'distribution_channel_TA/TO', 'market_segment_Groups', 'hotel_Resort Hotel', 'customer_type_Transient', 'previous_cancellations', 'distribution_channel_Direct', 'customer_type_Transient-Party', 'hotel_City Hotel', 'market_segment_Direct', 'days_in_waiting_list', 'market_segment_Corporate', 'distribution_channel_GDS']\n"
     ]
    },
    {
     "name": "stderr",
     "output_type": "stream",
     "text": [
      "100%|██████████████████████████████████████████████████████████████████████████████████| 20/20 [00:00<00:00, 27.64it/s]\n"
     ]
    },
    {
     "name": "stdout",
     "output_type": "stream",
     "text": [
      "['deposit_type_Non Refund', 'required_car_parking_spaces', 'deposit_type_No Deposit', 'adults', 'total_of_special_requests', 'lead_time', 'booking_changes', 'distribution_channel_TA/TO', 'market_segment_Groups', 'hotel_Resort Hotel', 'customer_type_Transient', 'previous_cancellations', 'distribution_channel_Direct', 'customer_type_Transient-Party', 'hotel_City Hotel', 'market_segment_Direct', 'days_in_waiting_list', 'market_segment_Corporate', 'distribution_channel_GDS', 'meal_FB']\n"
     ]
    },
    {
     "name": "stderr",
     "output_type": "stream",
     "text": [
      "100%|██████████████████████████████████████████████████████████████████████████████████| 21/21 [00:00<00:00, 22.74it/s]\n"
     ]
    },
    {
     "name": "stdout",
     "output_type": "stream",
     "text": [
      "['deposit_type_Non Refund', 'required_car_parking_spaces', 'deposit_type_No Deposit', 'adults', 'total_of_special_requests', 'lead_time', 'booking_changes', 'distribution_channel_TA/TO', 'market_segment_Groups', 'hotel_Resort Hotel', 'customer_type_Transient', 'previous_cancellations', 'distribution_channel_Direct', 'customer_type_Transient-Party', 'hotel_City Hotel', 'market_segment_Direct', 'days_in_waiting_list', 'market_segment_Corporate', 'distribution_channel_GDS', 'meal_FB', 'is_repeated_guest']\n"
     ]
    },
    {
     "name": "stderr",
     "output_type": "stream",
     "text": [
      "100%|██████████████████████████████████████████████████████████████████████████████████| 22/22 [00:00<00:00, 25.52it/s]\n"
     ]
    },
    {
     "name": "stdout",
     "output_type": "stream",
     "text": [
      "['deposit_type_Non Refund', 'required_car_parking_spaces', 'deposit_type_No Deposit', 'adults', 'total_of_special_requests', 'lead_time', 'booking_changes', 'distribution_channel_TA/TO', 'market_segment_Groups', 'hotel_Resort Hotel', 'customer_type_Transient', 'previous_cancellations', 'distribution_channel_Direct', 'customer_type_Transient-Party', 'hotel_City Hotel', 'market_segment_Direct', 'days_in_waiting_list', 'market_segment_Corporate', 'distribution_channel_GDS', 'meal_FB', 'is_repeated_guest', 'adr']\n"
     ]
    },
    {
     "name": "stderr",
     "output_type": "stream",
     "text": [
      "100%|██████████████████████████████████████████████████████████████████████████████████| 23/23 [00:00<00:00, 23.23it/s]\n"
     ]
    },
    {
     "name": "stdout",
     "output_type": "stream",
     "text": [
      "['deposit_type_Non Refund', 'required_car_parking_spaces', 'deposit_type_No Deposit', 'adults', 'total_of_special_requests', 'lead_time', 'booking_changes', 'distribution_channel_TA/TO', 'market_segment_Groups', 'hotel_Resort Hotel', 'customer_type_Transient', 'previous_cancellations', 'distribution_channel_Direct', 'customer_type_Transient-Party', 'hotel_City Hotel', 'market_segment_Direct', 'days_in_waiting_list', 'market_segment_Corporate', 'distribution_channel_GDS', 'meal_FB', 'is_repeated_guest', 'adr', 'arrival_date_day_of_month']\n"
     ]
    },
    {
     "name": "stderr",
     "output_type": "stream",
     "text": [
      "100%|██████████████████████████████████████████████████████████████████████████████████| 24/24 [00:00<00:00, 30.01it/s]\n"
     ]
    },
    {
     "name": "stdout",
     "output_type": "stream",
     "text": [
      "['deposit_type_Non Refund', 'required_car_parking_spaces', 'deposit_type_No Deposit', 'adults', 'total_of_special_requests', 'lead_time', 'booking_changes', 'distribution_channel_TA/TO', 'market_segment_Groups', 'hotel_Resort Hotel', 'customer_type_Transient', 'previous_cancellations', 'distribution_channel_Direct', 'customer_type_Transient-Party', 'hotel_City Hotel', 'market_segment_Direct', 'days_in_waiting_list', 'market_segment_Corporate', 'distribution_channel_GDS', 'meal_FB', 'is_repeated_guest', 'adr', 'arrival_date_day_of_month', 'reserved_room_type_A']\n"
     ]
    },
    {
     "name": "stderr",
     "output_type": "stream",
     "text": [
      "100%|██████████████████████████████████████████████████████████████████████████████████| 25/25 [00:01<00:00, 23.12it/s]\n"
     ]
    },
    {
     "name": "stdout",
     "output_type": "stream",
     "text": [
      "['deposit_type_Non Refund', 'required_car_parking_spaces', 'deposit_type_No Deposit', 'adults', 'total_of_special_requests', 'lead_time', 'booking_changes', 'distribution_channel_TA/TO', 'market_segment_Groups', 'hotel_Resort Hotel', 'customer_type_Transient', 'previous_cancellations', 'distribution_channel_Direct', 'customer_type_Transient-Party', 'hotel_City Hotel', 'market_segment_Direct', 'days_in_waiting_list', 'market_segment_Corporate', 'distribution_channel_GDS', 'meal_FB', 'is_repeated_guest', 'adr', 'arrival_date_day_of_month', 'reserved_room_type_A', 'meal_Undefined']\n"
     ]
    },
    {
     "name": "stderr",
     "output_type": "stream",
     "text": [
      "100%|██████████████████████████████████████████████████████████████████████████████████| 26/26 [00:01<00:00, 22.86it/s]\n"
     ]
    },
    {
     "name": "stdout",
     "output_type": "stream",
     "text": [
      "['deposit_type_Non Refund', 'required_car_parking_spaces', 'deposit_type_No Deposit', 'adults', 'total_of_special_requests', 'lead_time', 'booking_changes', 'distribution_channel_TA/TO', 'market_segment_Groups', 'hotel_Resort Hotel', 'customer_type_Transient', 'previous_cancellations', 'distribution_channel_Direct', 'customer_type_Transient-Party', 'hotel_City Hotel', 'market_segment_Direct', 'days_in_waiting_list', 'market_segment_Corporate', 'distribution_channel_GDS', 'meal_FB', 'is_repeated_guest', 'adr', 'arrival_date_day_of_month', 'reserved_room_type_A', 'meal_Undefined', 'previous_bookings_not_canceled']\n"
     ]
    },
    {
     "name": "stderr",
     "output_type": "stream",
     "text": [
      "100%|██████████████████████████████████████████████████████████████████████████████████| 27/27 [00:01<00:00, 26.95it/s]\n"
     ]
    },
    {
     "name": "stdout",
     "output_type": "stream",
     "text": [
      "['deposit_type_Non Refund', 'required_car_parking_spaces', 'deposit_type_No Deposit', 'adults', 'total_of_special_requests', 'lead_time', 'booking_changes', 'distribution_channel_TA/TO', 'market_segment_Groups', 'hotel_Resort Hotel', 'customer_type_Transient', 'previous_cancellations', 'distribution_channel_Direct', 'customer_type_Transient-Party', 'hotel_City Hotel', 'market_segment_Direct', 'days_in_waiting_list', 'market_segment_Corporate', 'distribution_channel_GDS', 'meal_FB', 'is_repeated_guest', 'adr', 'arrival_date_day_of_month', 'reserved_room_type_A', 'meal_Undefined', 'previous_bookings_not_canceled', 'babies']\n"
     ]
    },
    {
     "name": "stderr",
     "output_type": "stream",
     "text": [
      "100%|██████████████████████████████████████████████████████████████████████████████████| 28/28 [00:01<00:00, 26.25it/s]\n"
     ]
    },
    {
     "name": "stdout",
     "output_type": "stream",
     "text": [
      "['deposit_type_Non Refund', 'required_car_parking_spaces', 'deposit_type_No Deposit', 'adults', 'total_of_special_requests', 'lead_time', 'booking_changes', 'distribution_channel_TA/TO', 'market_segment_Groups', 'hotel_Resort Hotel', 'customer_type_Transient', 'previous_cancellations', 'distribution_channel_Direct', 'customer_type_Transient-Party', 'hotel_City Hotel', 'market_segment_Direct', 'days_in_waiting_list', 'market_segment_Corporate', 'distribution_channel_GDS', 'meal_FB', 'is_repeated_guest', 'adr', 'arrival_date_day_of_month', 'reserved_room_type_A', 'meal_Undefined', 'previous_bookings_not_canceled', 'babies', 'market_segment_Complementary']\n"
     ]
    },
    {
     "name": "stderr",
     "output_type": "stream",
     "text": [
      "100%|██████████████████████████████████████████████████████████████████████████████████| 29/29 [00:01<00:00, 28.83it/s]\n"
     ]
    },
    {
     "name": "stdout",
     "output_type": "stream",
     "text": [
      "['deposit_type_Non Refund', 'required_car_parking_spaces', 'deposit_type_No Deposit', 'adults', 'total_of_special_requests', 'lead_time', 'booking_changes', 'distribution_channel_TA/TO', 'market_segment_Groups', 'hotel_Resort Hotel', 'customer_type_Transient', 'previous_cancellations', 'distribution_channel_Direct', 'customer_type_Transient-Party', 'hotel_City Hotel', 'market_segment_Direct', 'days_in_waiting_list', 'market_segment_Corporate', 'distribution_channel_GDS', 'meal_FB', 'is_repeated_guest', 'adr', 'arrival_date_day_of_month', 'reserved_room_type_A', 'meal_Undefined', 'previous_bookings_not_canceled', 'babies', 'market_segment_Complementary', 'reserved_room_type_D']\n"
     ]
    },
    {
     "name": "stderr",
     "output_type": "stream",
     "text": [
      "100%|████████████████████████████████████████████████████████████████████████████████████| 5/5 [00:00<00:00, 20.92it/s]\n"
     ]
    },
    {
     "name": "stdout",
     "output_type": "stream",
     "text": [
      "['deposit_type_Non Refund', 'required_car_parking_spaces', 'deposit_type_No Deposit', 'adults', 'total_of_special_requests']\n"
     ]
    },
    {
     "name": "stderr",
     "output_type": "stream",
     "text": [
      "100%|████████████████████████████████████████████████████████████████████████████████████| 6/6 [00:00<00:00, 34.71it/s]\n"
     ]
    },
    {
     "name": "stdout",
     "output_type": "stream",
     "text": [
      "['deposit_type_Non Refund', 'required_car_parking_spaces', 'deposit_type_No Deposit', 'adults', 'total_of_special_requests', 'lead_time']\n"
     ]
    },
    {
     "name": "stderr",
     "output_type": "stream",
     "text": [
      "100%|████████████████████████████████████████████████████████████████████████████████████| 7/7 [00:00<00:00, 28.02it/s]\n"
     ]
    },
    {
     "name": "stdout",
     "output_type": "stream",
     "text": [
      "['deposit_type_Non Refund', 'required_car_parking_spaces', 'deposit_type_No Deposit', 'adults', 'total_of_special_requests', 'lead_time', 'booking_changes']\n"
     ]
    },
    {
     "name": "stderr",
     "output_type": "stream",
     "text": [
      "100%|████████████████████████████████████████████████████████████████████████████████████| 8/8 [00:00<00:00, 35.74it/s]\n"
     ]
    },
    {
     "name": "stdout",
     "output_type": "stream",
     "text": [
      "['deposit_type_Non Refund', 'required_car_parking_spaces', 'deposit_type_No Deposit', 'adults', 'total_of_special_requests', 'lead_time', 'booking_changes', 'distribution_channel_TA/TO']\n"
     ]
    },
    {
     "name": "stderr",
     "output_type": "stream",
     "text": [
      "100%|████████████████████████████████████████████████████████████████████████████████████| 9/9 [00:00<00:00, 34.59it/s]\n"
     ]
    },
    {
     "name": "stdout",
     "output_type": "stream",
     "text": [
      "['deposit_type_Non Refund', 'required_car_parking_spaces', 'deposit_type_No Deposit', 'adults', 'total_of_special_requests', 'lead_time', 'booking_changes', 'distribution_channel_TA/TO', 'market_segment_Groups']\n"
     ]
    },
    {
     "name": "stderr",
     "output_type": "stream",
     "text": [
      "100%|██████████████████████████████████████████████████████████████████████████████████| 10/10 [00:00<00:00, 30.46it/s]\n"
     ]
    },
    {
     "name": "stdout",
     "output_type": "stream",
     "text": [
      "['deposit_type_Non Refund', 'required_car_parking_spaces', 'deposit_type_No Deposit', 'adults', 'total_of_special_requests', 'lead_time', 'booking_changes', 'distribution_channel_TA/TO', 'market_segment_Groups', 'hotel_Resort Hotel']\n"
     ]
    },
    {
     "name": "stderr",
     "output_type": "stream",
     "text": [
      "100%|██████████████████████████████████████████████████████████████████████████████████| 11/11 [00:00<00:00, 31.16it/s]\n"
     ]
    },
    {
     "name": "stdout",
     "output_type": "stream",
     "text": [
      "['deposit_type_Non Refund', 'required_car_parking_spaces', 'deposit_type_No Deposit', 'adults', 'total_of_special_requests', 'lead_time', 'booking_changes', 'distribution_channel_TA/TO', 'market_segment_Groups', 'hotel_Resort Hotel', 'customer_type_Transient']\n"
     ]
    },
    {
     "name": "stderr",
     "output_type": "stream",
     "text": [
      "100%|██████████████████████████████████████████████████████████████████████████████████| 12/12 [00:00<00:00, 34.34it/s]\n"
     ]
    },
    {
     "name": "stdout",
     "output_type": "stream",
     "text": [
      "['deposit_type_Non Refund', 'required_car_parking_spaces', 'deposit_type_No Deposit', 'adults', 'total_of_special_requests', 'lead_time', 'booking_changes', 'distribution_channel_TA/TO', 'market_segment_Groups', 'hotel_Resort Hotel', 'customer_type_Transient', 'previous_cancellations']\n"
     ]
    },
    {
     "name": "stderr",
     "output_type": "stream",
     "text": [
      "100%|██████████████████████████████████████████████████████████████████████████████████| 13/13 [00:00<00:00, 33.41it/s]\n"
     ]
    },
    {
     "name": "stdout",
     "output_type": "stream",
     "text": [
      "['deposit_type_Non Refund', 'required_car_parking_spaces', 'deposit_type_No Deposit', 'adults', 'total_of_special_requests', 'lead_time', 'booking_changes', 'distribution_channel_TA/TO', 'market_segment_Groups', 'hotel_Resort Hotel', 'customer_type_Transient', 'previous_cancellations', 'distribution_channel_Direct']\n"
     ]
    },
    {
     "name": "stderr",
     "output_type": "stream",
     "text": [
      "100%|██████████████████████████████████████████████████████████████████████████████████| 14/14 [00:00<00:00, 28.40it/s]\n"
     ]
    },
    {
     "name": "stdout",
     "output_type": "stream",
     "text": [
      "['deposit_type_Non Refund', 'required_car_parking_spaces', 'deposit_type_No Deposit', 'adults', 'total_of_special_requests', 'lead_time', 'booking_changes', 'distribution_channel_TA/TO', 'market_segment_Groups', 'hotel_Resort Hotel', 'customer_type_Transient', 'previous_cancellations', 'distribution_channel_Direct', 'customer_type_Transient-Party']\n"
     ]
    },
    {
     "name": "stderr",
     "output_type": "stream",
     "text": [
      "100%|██████████████████████████████████████████████████████████████████████████████████| 15/15 [00:00<00:00, 34.30it/s]\n"
     ]
    },
    {
     "name": "stdout",
     "output_type": "stream",
     "text": [
      "['deposit_type_Non Refund', 'required_car_parking_spaces', 'deposit_type_No Deposit', 'adults', 'total_of_special_requests', 'lead_time', 'booking_changes', 'distribution_channel_TA/TO', 'market_segment_Groups', 'hotel_Resort Hotel', 'customer_type_Transient', 'previous_cancellations', 'distribution_channel_Direct', 'customer_type_Transient-Party', 'hotel_City Hotel']\n"
     ]
    },
    {
     "name": "stderr",
     "output_type": "stream",
     "text": [
      "100%|██████████████████████████████████████████████████████████████████████████████████| 16/16 [00:00<00:00, 31.81it/s]\n"
     ]
    },
    {
     "name": "stdout",
     "output_type": "stream",
     "text": [
      "['deposit_type_Non Refund', 'required_car_parking_spaces', 'deposit_type_No Deposit', 'adults', 'total_of_special_requests', 'lead_time', 'booking_changes', 'distribution_channel_TA/TO', 'market_segment_Groups', 'hotel_Resort Hotel', 'customer_type_Transient', 'previous_cancellations', 'distribution_channel_Direct', 'customer_type_Transient-Party', 'hotel_City Hotel', 'market_segment_Direct']\n"
     ]
    },
    {
     "name": "stderr",
     "output_type": "stream",
     "text": [
      "100%|██████████████████████████████████████████████████████████████████████████████████| 17/17 [00:00<00:00, 32.81it/s]\n"
     ]
    },
    {
     "name": "stdout",
     "output_type": "stream",
     "text": [
      "['deposit_type_Non Refund', 'required_car_parking_spaces', 'deposit_type_No Deposit', 'adults', 'total_of_special_requests', 'lead_time', 'booking_changes', 'distribution_channel_TA/TO', 'market_segment_Groups', 'hotel_Resort Hotel', 'customer_type_Transient', 'previous_cancellations', 'distribution_channel_Direct', 'customer_type_Transient-Party', 'hotel_City Hotel', 'market_segment_Direct', 'days_in_waiting_list']\n"
     ]
    },
    {
     "name": "stderr",
     "output_type": "stream",
     "text": [
      "100%|██████████████████████████████████████████████████████████████████████████████████| 18/18 [00:00<00:00, 33.69it/s]\n"
     ]
    },
    {
     "name": "stdout",
     "output_type": "stream",
     "text": [
      "['deposit_type_Non Refund', 'required_car_parking_spaces', 'deposit_type_No Deposit', 'adults', 'total_of_special_requests', 'lead_time', 'booking_changes', 'distribution_channel_TA/TO', 'market_segment_Groups', 'hotel_Resort Hotel', 'customer_type_Transient', 'previous_cancellations', 'distribution_channel_Direct', 'customer_type_Transient-Party', 'hotel_City Hotel', 'market_segment_Direct', 'days_in_waiting_list', 'market_segment_Corporate']\n"
     ]
    },
    {
     "name": "stderr",
     "output_type": "stream",
     "text": [
      "100%|██████████████████████████████████████████████████████████████████████████████████| 19/19 [00:00<00:00, 31.94it/s]\n"
     ]
    },
    {
     "name": "stdout",
     "output_type": "stream",
     "text": [
      "['deposit_type_Non Refund', 'required_car_parking_spaces', 'deposit_type_No Deposit', 'adults', 'total_of_special_requests', 'lead_time', 'booking_changes', 'distribution_channel_TA/TO', 'market_segment_Groups', 'hotel_Resort Hotel', 'customer_type_Transient', 'previous_cancellations', 'distribution_channel_Direct', 'customer_type_Transient-Party', 'hotel_City Hotel', 'market_segment_Direct', 'days_in_waiting_list', 'market_segment_Corporate', 'distribution_channel_GDS']\n"
     ]
    },
    {
     "name": "stderr",
     "output_type": "stream",
     "text": [
      "100%|██████████████████████████████████████████████████████████████████████████████████| 20/20 [00:00<00:00, 33.49it/s]\n"
     ]
    },
    {
     "name": "stdout",
     "output_type": "stream",
     "text": [
      "['deposit_type_Non Refund', 'required_car_parking_spaces', 'deposit_type_No Deposit', 'adults', 'total_of_special_requests', 'lead_time', 'booking_changes', 'distribution_channel_TA/TO', 'market_segment_Groups', 'hotel_Resort Hotel', 'customer_type_Transient', 'previous_cancellations', 'distribution_channel_Direct', 'customer_type_Transient-Party', 'hotel_City Hotel', 'market_segment_Direct', 'days_in_waiting_list', 'market_segment_Corporate', 'distribution_channel_GDS', 'meal_FB']\n"
     ]
    },
    {
     "name": "stderr",
     "output_type": "stream",
     "text": [
      "100%|██████████████████████████████████████████████████████████████████████████████████| 21/21 [00:00<00:00, 33.39it/s]\n"
     ]
    },
    {
     "name": "stdout",
     "output_type": "stream",
     "text": [
      "['deposit_type_Non Refund', 'required_car_parking_spaces', 'deposit_type_No Deposit', 'adults', 'total_of_special_requests', 'lead_time', 'booking_changes', 'distribution_channel_TA/TO', 'market_segment_Groups', 'hotel_Resort Hotel', 'customer_type_Transient', 'previous_cancellations', 'distribution_channel_Direct', 'customer_type_Transient-Party', 'hotel_City Hotel', 'market_segment_Direct', 'days_in_waiting_list', 'market_segment_Corporate', 'distribution_channel_GDS', 'meal_FB', 'is_repeated_guest']\n"
     ]
    },
    {
     "name": "stderr",
     "output_type": "stream",
     "text": [
      "100%|██████████████████████████████████████████████████████████████████████████████████| 22/22 [00:00<00:00, 32.57it/s]\n"
     ]
    },
    {
     "name": "stdout",
     "output_type": "stream",
     "text": [
      "['deposit_type_Non Refund', 'required_car_parking_spaces', 'deposit_type_No Deposit', 'adults', 'total_of_special_requests', 'lead_time', 'booking_changes', 'distribution_channel_TA/TO', 'market_segment_Groups', 'hotel_Resort Hotel', 'customer_type_Transient', 'previous_cancellations', 'distribution_channel_Direct', 'customer_type_Transient-Party', 'hotel_City Hotel', 'market_segment_Direct', 'days_in_waiting_list', 'market_segment_Corporate', 'distribution_channel_GDS', 'meal_FB', 'is_repeated_guest', 'adr']\n"
     ]
    },
    {
     "name": "stderr",
     "output_type": "stream",
     "text": [
      "100%|██████████████████████████████████████████████████████████████████████████████████| 23/23 [00:00<00:00, 33.32it/s]\n"
     ]
    },
    {
     "name": "stdout",
     "output_type": "stream",
     "text": [
      "['deposit_type_Non Refund', 'required_car_parking_spaces', 'deposit_type_No Deposit', 'adults', 'total_of_special_requests', 'lead_time', 'booking_changes', 'distribution_channel_TA/TO', 'market_segment_Groups', 'hotel_Resort Hotel', 'customer_type_Transient', 'previous_cancellations', 'distribution_channel_Direct', 'customer_type_Transient-Party', 'hotel_City Hotel', 'market_segment_Direct', 'days_in_waiting_list', 'market_segment_Corporate', 'distribution_channel_GDS', 'meal_FB', 'is_repeated_guest', 'adr', 'arrival_date_day_of_month']\n"
     ]
    },
    {
     "name": "stderr",
     "output_type": "stream",
     "text": [
      "100%|██████████████████████████████████████████████████████████████████████████████████| 24/24 [00:00<00:00, 33.40it/s]\n"
     ]
    },
    {
     "name": "stdout",
     "output_type": "stream",
     "text": [
      "['deposit_type_Non Refund', 'required_car_parking_spaces', 'deposit_type_No Deposit', 'adults', 'total_of_special_requests', 'lead_time', 'booking_changes', 'distribution_channel_TA/TO', 'market_segment_Groups', 'hotel_Resort Hotel', 'customer_type_Transient', 'previous_cancellations', 'distribution_channel_Direct', 'customer_type_Transient-Party', 'hotel_City Hotel', 'market_segment_Direct', 'days_in_waiting_list', 'market_segment_Corporate', 'distribution_channel_GDS', 'meal_FB', 'is_repeated_guest', 'adr', 'arrival_date_day_of_month', 'reserved_room_type_A']\n"
     ]
    },
    {
     "name": "stderr",
     "output_type": "stream",
     "text": [
      "100%|██████████████████████████████████████████████████████████████████████████████████| 25/25 [00:00<00:00, 33.25it/s]\n"
     ]
    },
    {
     "name": "stdout",
     "output_type": "stream",
     "text": [
      "['deposit_type_Non Refund', 'required_car_parking_spaces', 'deposit_type_No Deposit', 'adults', 'total_of_special_requests', 'lead_time', 'booking_changes', 'distribution_channel_TA/TO', 'market_segment_Groups', 'hotel_Resort Hotel', 'customer_type_Transient', 'previous_cancellations', 'distribution_channel_Direct', 'customer_type_Transient-Party', 'hotel_City Hotel', 'market_segment_Direct', 'days_in_waiting_list', 'market_segment_Corporate', 'distribution_channel_GDS', 'meal_FB', 'is_repeated_guest', 'adr', 'arrival_date_day_of_month', 'reserved_room_type_A', 'meal_Undefined']\n"
     ]
    },
    {
     "name": "stderr",
     "output_type": "stream",
     "text": [
      "100%|██████████████████████████████████████████████████████████████████████████████████| 26/26 [00:00<00:00, 32.44it/s]\n"
     ]
    },
    {
     "name": "stdout",
     "output_type": "stream",
     "text": [
      "['deposit_type_Non Refund', 'required_car_parking_spaces', 'deposit_type_No Deposit', 'adults', 'total_of_special_requests', 'lead_time', 'booking_changes', 'distribution_channel_TA/TO', 'market_segment_Groups', 'hotel_Resort Hotel', 'customer_type_Transient', 'previous_cancellations', 'distribution_channel_Direct', 'customer_type_Transient-Party', 'hotel_City Hotel', 'market_segment_Direct', 'days_in_waiting_list', 'market_segment_Corporate', 'distribution_channel_GDS', 'meal_FB', 'is_repeated_guest', 'adr', 'arrival_date_day_of_month', 'reserved_room_type_A', 'meal_Undefined', 'previous_bookings_not_canceled']\n"
     ]
    },
    {
     "name": "stderr",
     "output_type": "stream",
     "text": [
      "100%|██████████████████████████████████████████████████████████████████████████████████| 27/27 [00:00<00:00, 31.94it/s]\n"
     ]
    },
    {
     "name": "stdout",
     "output_type": "stream",
     "text": [
      "['deposit_type_Non Refund', 'required_car_parking_spaces', 'deposit_type_No Deposit', 'adults', 'total_of_special_requests', 'lead_time', 'booking_changes', 'distribution_channel_TA/TO', 'market_segment_Groups', 'hotel_Resort Hotel', 'customer_type_Transient', 'previous_cancellations', 'distribution_channel_Direct', 'customer_type_Transient-Party', 'hotel_City Hotel', 'market_segment_Direct', 'days_in_waiting_list', 'market_segment_Corporate', 'distribution_channel_GDS', 'meal_FB', 'is_repeated_guest', 'adr', 'arrival_date_day_of_month', 'reserved_room_type_A', 'meal_Undefined', 'previous_bookings_not_canceled', 'babies']\n"
     ]
    },
    {
     "name": "stderr",
     "output_type": "stream",
     "text": [
      "100%|██████████████████████████████████████████████████████████████████████████████████| 28/28 [00:00<00:00, 31.30it/s]\n"
     ]
    },
    {
     "name": "stdout",
     "output_type": "stream",
     "text": [
      "['deposit_type_Non Refund', 'required_car_parking_spaces', 'deposit_type_No Deposit', 'adults', 'total_of_special_requests', 'lead_time', 'booking_changes', 'distribution_channel_TA/TO', 'market_segment_Groups', 'hotel_Resort Hotel', 'customer_type_Transient', 'previous_cancellations', 'distribution_channel_Direct', 'customer_type_Transient-Party', 'hotel_City Hotel', 'market_segment_Direct', 'days_in_waiting_list', 'market_segment_Corporate', 'distribution_channel_GDS', 'meal_FB', 'is_repeated_guest', 'adr', 'arrival_date_day_of_month', 'reserved_room_type_A', 'meal_Undefined', 'previous_bookings_not_canceled', 'babies', 'market_segment_Complementary']\n"
     ]
    },
    {
     "name": "stderr",
     "output_type": "stream",
     "text": [
      "100%|██████████████████████████████████████████████████████████████████████████████████| 29/29 [00:00<00:00, 32.65it/s]\n"
     ]
    },
    {
     "name": "stdout",
     "output_type": "stream",
     "text": [
      "['deposit_type_Non Refund', 'required_car_parking_spaces', 'deposit_type_No Deposit', 'adults', 'total_of_special_requests', 'lead_time', 'booking_changes', 'distribution_channel_TA/TO', 'market_segment_Groups', 'hotel_Resort Hotel', 'customer_type_Transient', 'previous_cancellations', 'distribution_channel_Direct', 'customer_type_Transient-Party', 'hotel_City Hotel', 'market_segment_Direct', 'days_in_waiting_list', 'market_segment_Corporate', 'distribution_channel_GDS', 'meal_FB', 'is_repeated_guest', 'adr', 'arrival_date_day_of_month', 'reserved_room_type_A', 'meal_Undefined', 'previous_bookings_not_canceled', 'babies', 'market_segment_Complementary', 'reserved_room_type_D']\n"
     ]
    }
   ],
   "source": [
    "results = []\n",
    "for classifier in classifiers:\n",
    "    clas = classifier\n",
    "    for i in range(5,30):\n",
    "        lst = (mrmr_classif(X_train,y_train.values,K=i))\n",
    "        print(lst)\n",
    "        X_train_temp = X_train.loc[:,lst]\n",
    "        X_test_temp = X_test.loc[:,lst]\n",
    "        clas.fit(X_train_temp, y_train)\n",
    "        y_pred = classifier.predict(X_test_temp)\n",
    "        a = len(lst)\n",
    "        b = lst\n",
    "        c = str(classifier)\n",
    "        d = balanced_accuracy_score(y_test, y_pred)\n",
    "        e = f1_score(y_test, y_pred, average='macro')\n",
    "        results.append([a,b,c,d,e])"
   ]
  },
  {
   "cell_type": "code",
   "execution_count": 39,
   "id": "164534a4-ebfa-44f0-bb89-62fc8655cf95",
   "metadata": {},
   "outputs": [],
   "source": [
    "res = pd.DataFrame(results)"
   ]
  },
  {
   "cell_type": "code",
   "execution_count": 40,
   "id": "65976eb8-9bbf-4199-a83b-dd71d80f2260",
   "metadata": {
    "scrolled": true
   },
   "outputs": [
    {
     "data": {
      "text/html": [
       "<div>\n",
       "<style scoped>\n",
       "    .dataframe tbody tr th:only-of-type {\n",
       "        vertical-align: middle;\n",
       "    }\n",
       "\n",
       "    .dataframe tbody tr th {\n",
       "        vertical-align: top;\n",
       "    }\n",
       "\n",
       "    .dataframe thead th {\n",
       "        text-align: right;\n",
       "    }\n",
       "</style>\n",
       "<table border=\"1\" class=\"dataframe\">\n",
       "  <thead>\n",
       "    <tr style=\"text-align: right;\">\n",
       "      <th></th>\n",
       "      <th>0</th>\n",
       "      <th>1</th>\n",
       "      <th>2</th>\n",
       "      <th>3</th>\n",
       "      <th>4</th>\n",
       "    </tr>\n",
       "  </thead>\n",
       "  <tbody>\n",
       "    <tr>\n",
       "      <th>0</th>\n",
       "      <td>5</td>\n",
       "      <td>[deposit_type_Non Refund, required_car_parking...</td>\n",
       "      <td>RandomForestClassifier(class_weight='balanced')</td>\n",
       "      <td>0.686097</td>\n",
       "      <td>0.671376</td>\n",
       "    </tr>\n",
       "    <tr>\n",
       "      <th>1</th>\n",
       "      <td>6</td>\n",
       "      <td>[deposit_type_Non Refund, required_car_parking...</td>\n",
       "      <td>RandomForestClassifier(class_weight='balanced')</td>\n",
       "      <td>0.671133</td>\n",
       "      <td>0.669601</td>\n",
       "    </tr>\n",
       "    <tr>\n",
       "      <th>2</th>\n",
       "      <td>7</td>\n",
       "      <td>[deposit_type_Non Refund, required_car_parking...</td>\n",
       "      <td>RandomForestClassifier(class_weight='balanced')</td>\n",
       "      <td>0.693229</td>\n",
       "      <td>0.696390</td>\n",
       "    </tr>\n",
       "    <tr>\n",
       "      <th>3</th>\n",
       "      <td>8</td>\n",
       "      <td>[deposit_type_Non Refund, required_car_parking...</td>\n",
       "      <td>RandomForestClassifier(class_weight='balanced')</td>\n",
       "      <td>0.687383</td>\n",
       "      <td>0.690437</td>\n",
       "    </tr>\n",
       "    <tr>\n",
       "      <th>4</th>\n",
       "      <td>9</td>\n",
       "      <td>[deposit_type_Non Refund, required_car_parking...</td>\n",
       "      <td>RandomForestClassifier(class_weight='balanced')</td>\n",
       "      <td>0.688459</td>\n",
       "      <td>0.689103</td>\n",
       "    </tr>\n",
       "    <tr>\n",
       "      <th>...</th>\n",
       "      <td>...</td>\n",
       "      <td>...</td>\n",
       "      <td>...</td>\n",
       "      <td>...</td>\n",
       "      <td>...</td>\n",
       "    </tr>\n",
       "    <tr>\n",
       "      <th>70</th>\n",
       "      <td>25</td>\n",
       "      <td>[deposit_type_Non Refund, required_car_parking...</td>\n",
       "      <td>SVC()</td>\n",
       "      <td>0.589039</td>\n",
       "      <td>0.582042</td>\n",
       "    </tr>\n",
       "    <tr>\n",
       "      <th>71</th>\n",
       "      <td>26</td>\n",
       "      <td>[deposit_type_Non Refund, required_car_parking...</td>\n",
       "      <td>SVC()</td>\n",
       "      <td>0.589039</td>\n",
       "      <td>0.582042</td>\n",
       "    </tr>\n",
       "    <tr>\n",
       "      <th>72</th>\n",
       "      <td>27</td>\n",
       "      <td>[deposit_type_Non Refund, required_car_parking...</td>\n",
       "      <td>SVC()</td>\n",
       "      <td>0.589039</td>\n",
       "      <td>0.582042</td>\n",
       "    </tr>\n",
       "    <tr>\n",
       "      <th>73</th>\n",
       "      <td>28</td>\n",
       "      <td>[deposit_type_Non Refund, required_car_parking...</td>\n",
       "      <td>SVC()</td>\n",
       "      <td>0.589039</td>\n",
       "      <td>0.582042</td>\n",
       "    </tr>\n",
       "    <tr>\n",
       "      <th>74</th>\n",
       "      <td>29</td>\n",
       "      <td>[deposit_type_Non Refund, required_car_parking...</td>\n",
       "      <td>SVC()</td>\n",
       "      <td>0.589039</td>\n",
       "      <td>0.582042</td>\n",
       "    </tr>\n",
       "  </tbody>\n",
       "</table>\n",
       "<p>75 rows × 5 columns</p>\n",
       "</div>"
      ],
      "text/plain": [
       "     0                                                  1  \\\n",
       "0    5  [deposit_type_Non Refund, required_car_parking...   \n",
       "1    6  [deposit_type_Non Refund, required_car_parking...   \n",
       "2    7  [deposit_type_Non Refund, required_car_parking...   \n",
       "3    8  [deposit_type_Non Refund, required_car_parking...   \n",
       "4    9  [deposit_type_Non Refund, required_car_parking...   \n",
       "..  ..                                                ...   \n",
       "70  25  [deposit_type_Non Refund, required_car_parking...   \n",
       "71  26  [deposit_type_Non Refund, required_car_parking...   \n",
       "72  27  [deposit_type_Non Refund, required_car_parking...   \n",
       "73  28  [deposit_type_Non Refund, required_car_parking...   \n",
       "74  29  [deposit_type_Non Refund, required_car_parking...   \n",
       "\n",
       "                                                  2         3         4  \n",
       "0   RandomForestClassifier(class_weight='balanced')  0.686097  0.671376  \n",
       "1   RandomForestClassifier(class_weight='balanced')  0.671133  0.669601  \n",
       "2   RandomForestClassifier(class_weight='balanced')  0.693229  0.696390  \n",
       "3   RandomForestClassifier(class_weight='balanced')  0.687383  0.690437  \n",
       "4   RandomForestClassifier(class_weight='balanced')  0.688459  0.689103  \n",
       "..                                              ...       ...       ...  \n",
       "70                                            SVC()  0.589039  0.582042  \n",
       "71                                            SVC()  0.589039  0.582042  \n",
       "72                                            SVC()  0.589039  0.582042  \n",
       "73                                            SVC()  0.589039  0.582042  \n",
       "74                                            SVC()  0.589039  0.582042  \n",
       "\n",
       "[75 rows x 5 columns]"
      ]
     },
     "execution_count": 40,
     "metadata": {},
     "output_type": "execute_result"
    }
   ],
   "source": [
    "res"
   ]
  },
  {
   "cell_type": "code",
   "execution_count": 41,
   "id": "175db9bd-10e8-4660-93f7-612c21462371",
   "metadata": {
    "scrolled": true
   },
   "outputs": [
    {
     "data": {
      "text/html": [
       "<div>\n",
       "<style scoped>\n",
       "    .dataframe tbody tr th:only-of-type {\n",
       "        vertical-align: middle;\n",
       "    }\n",
       "\n",
       "    .dataframe tbody tr th {\n",
       "        vertical-align: top;\n",
       "    }\n",
       "\n",
       "    .dataframe thead th {\n",
       "        text-align: right;\n",
       "    }\n",
       "</style>\n",
       "<table border=\"1\" class=\"dataframe\">\n",
       "  <thead>\n",
       "    <tr style=\"text-align: right;\">\n",
       "      <th></th>\n",
       "      <th>0</th>\n",
       "      <th>1</th>\n",
       "      <th>2</th>\n",
       "      <th>3</th>\n",
       "      <th>4</th>\n",
       "    </tr>\n",
       "  </thead>\n",
       "  <tbody>\n",
       "    <tr>\n",
       "      <th>23</th>\n",
       "      <td>28</td>\n",
       "      <td>[deposit_type_Non Refund, required_car_parking...</td>\n",
       "      <td>RandomForestClassifier(class_weight='balanced')</td>\n",
       "      <td>0.758464</td>\n",
       "      <td>0.769953</td>\n",
       "    </tr>\n",
       "    <tr>\n",
       "      <th>19</th>\n",
       "      <td>24</td>\n",
       "      <td>[deposit_type_Non Refund, required_car_parking...</td>\n",
       "      <td>RandomForestClassifier(class_weight='balanced')</td>\n",
       "      <td>0.755869</td>\n",
       "      <td>0.768351</td>\n",
       "    </tr>\n",
       "    <tr>\n",
       "      <th>22</th>\n",
       "      <td>27</td>\n",
       "      <td>[deposit_type_Non Refund, required_car_parking...</td>\n",
       "      <td>RandomForestClassifier(class_weight='balanced')</td>\n",
       "      <td>0.753648</td>\n",
       "      <td>0.765053</td>\n",
       "    </tr>\n",
       "    <tr>\n",
       "      <th>21</th>\n",
       "      <td>26</td>\n",
       "      <td>[deposit_type_Non Refund, required_car_parking...</td>\n",
       "      <td>RandomForestClassifier(class_weight='balanced')</td>\n",
       "      <td>0.752619</td>\n",
       "      <td>0.763778</td>\n",
       "    </tr>\n",
       "    <tr>\n",
       "      <th>20</th>\n",
       "      <td>25</td>\n",
       "      <td>[deposit_type_Non Refund, required_car_parking...</td>\n",
       "      <td>RandomForestClassifier(class_weight='balanced')</td>\n",
       "      <td>0.753320</td>\n",
       "      <td>0.763570</td>\n",
       "    </tr>\n",
       "    <tr>\n",
       "      <th>...</th>\n",
       "      <td>...</td>\n",
       "      <td>...</td>\n",
       "      <td>...</td>\n",
       "      <td>...</td>\n",
       "      <td>...</td>\n",
       "    </tr>\n",
       "    <tr>\n",
       "      <th>54</th>\n",
       "      <td>9</td>\n",
       "      <td>[deposit_type_Non Refund, required_car_parking...</td>\n",
       "      <td>SVC()</td>\n",
       "      <td>0.558034</td>\n",
       "      <td>0.538522</td>\n",
       "    </tr>\n",
       "    <tr>\n",
       "      <th>53</th>\n",
       "      <td>8</td>\n",
       "      <td>[deposit_type_Non Refund, required_car_parking...</td>\n",
       "      <td>SVC()</td>\n",
       "      <td>0.558034</td>\n",
       "      <td>0.538522</td>\n",
       "    </tr>\n",
       "    <tr>\n",
       "      <th>52</th>\n",
       "      <td>7</td>\n",
       "      <td>[deposit_type_Non Refund, required_car_parking...</td>\n",
       "      <td>SVC()</td>\n",
       "      <td>0.558034</td>\n",
       "      <td>0.538522</td>\n",
       "    </tr>\n",
       "    <tr>\n",
       "      <th>51</th>\n",
       "      <td>6</td>\n",
       "      <td>[deposit_type_Non Refund, required_car_parking...</td>\n",
       "      <td>SVC()</td>\n",
       "      <td>0.558034</td>\n",
       "      <td>0.538522</td>\n",
       "    </tr>\n",
       "    <tr>\n",
       "      <th>58</th>\n",
       "      <td>13</td>\n",
       "      <td>[deposit_type_Non Refund, required_car_parking...</td>\n",
       "      <td>SVC()</td>\n",
       "      <td>0.558034</td>\n",
       "      <td>0.538522</td>\n",
       "    </tr>\n",
       "  </tbody>\n",
       "</table>\n",
       "<p>75 rows × 5 columns</p>\n",
       "</div>"
      ],
      "text/plain": [
       "     0                                                  1  \\\n",
       "23  28  [deposit_type_Non Refund, required_car_parking...   \n",
       "19  24  [deposit_type_Non Refund, required_car_parking...   \n",
       "22  27  [deposit_type_Non Refund, required_car_parking...   \n",
       "21  26  [deposit_type_Non Refund, required_car_parking...   \n",
       "20  25  [deposit_type_Non Refund, required_car_parking...   \n",
       "..  ..                                                ...   \n",
       "54   9  [deposit_type_Non Refund, required_car_parking...   \n",
       "53   8  [deposit_type_Non Refund, required_car_parking...   \n",
       "52   7  [deposit_type_Non Refund, required_car_parking...   \n",
       "51   6  [deposit_type_Non Refund, required_car_parking...   \n",
       "58  13  [deposit_type_Non Refund, required_car_parking...   \n",
       "\n",
       "                                                  2         3         4  \n",
       "23  RandomForestClassifier(class_weight='balanced')  0.758464  0.769953  \n",
       "19  RandomForestClassifier(class_weight='balanced')  0.755869  0.768351  \n",
       "22  RandomForestClassifier(class_weight='balanced')  0.753648  0.765053  \n",
       "21  RandomForestClassifier(class_weight='balanced')  0.752619  0.763778  \n",
       "20  RandomForestClassifier(class_weight='balanced')  0.753320  0.763570  \n",
       "..                                              ...       ...       ...  \n",
       "54                                            SVC()  0.558034  0.538522  \n",
       "53                                            SVC()  0.558034  0.538522  \n",
       "52                                            SVC()  0.558034  0.538522  \n",
       "51                                            SVC()  0.558034  0.538522  \n",
       "58                                            SVC()  0.558034  0.538522  \n",
       "\n",
       "[75 rows x 5 columns]"
      ]
     },
     "execution_count": 41,
     "metadata": {},
     "output_type": "execute_result"
    }
   ],
   "source": [
    "res.sort_values(4,ascending = False)"
   ]
  },
  {
   "cell_type": "code",
   "execution_count": 47,
   "id": "2e7bf1e9-954e-4b57-8682-22a1fe16f850",
   "metadata": {},
   "outputs": [
    {
     "data": {
      "text/plain": [
       "['deposit_type_Non Refund',\n",
       " 'required_car_parking_spaces',\n",
       " 'deposit_type_No Deposit',\n",
       " 'adults',\n",
       " 'total_of_special_requests',\n",
       " 'lead_time',\n",
       " 'booking_changes',\n",
       " 'distribution_channel_TA/TO',\n",
       " 'market_segment_Groups',\n",
       " 'hotel_Resort Hotel',\n",
       " 'customer_type_Transient',\n",
       " 'previous_cancellations',\n",
       " 'distribution_channel_Direct',\n",
       " 'customer_type_Transient-Party',\n",
       " 'hotel_City Hotel',\n",
       " 'market_segment_Direct',\n",
       " 'days_in_waiting_list',\n",
       " 'market_segment_Corporate',\n",
       " 'distribution_channel_GDS',\n",
       " 'meal_FB',\n",
       " 'is_repeated_guest',\n",
       " 'adr',\n",
       " 'arrival_date_day_of_month',\n",
       " 'reserved_room_type_A',\n",
       " 'meal_Undefined',\n",
       " 'previous_bookings_not_canceled',\n",
       " 'babies',\n",
       " 'market_segment_Complementary']"
      ]
     },
     "execution_count": 47,
     "metadata": {},
     "output_type": "execute_result"
    }
   ],
   "source": [
    "res.iloc[23,1]"
   ]
  },
  {
   "cell_type": "code",
   "execution_count": null,
   "id": "40944da8-2412-4636-85f9-8ac29daafbe3",
   "metadata": {},
   "outputs": [],
   "source": []
  },
  {
   "cell_type": "code",
   "execution_count": null,
   "id": "eb047f12-e7f2-4290-82cf-2c590e6eb9b6",
   "metadata": {},
   "outputs": [],
   "source": []
  },
  {
   "cell_type": "code",
   "execution_count": null,
   "id": "eee023dc-7a70-4122-b2b2-f21cbe43ac89",
   "metadata": {},
   "outputs": [],
   "source": []
  },
  {
   "cell_type": "code",
   "execution_count": null,
   "id": "d3c062ba-23f8-4db2-8ae4-0851332ba592",
   "metadata": {},
   "outputs": [],
   "source": []
  },
  {
   "cell_type": "code",
   "execution_count": null,
   "id": "81249ed3-9205-4251-93ee-6189aaf1e221",
   "metadata": {},
   "outputs": [],
   "source": []
  },
  {
   "cell_type": "code",
   "execution_count": null,
   "id": "519d2de5-f2a9-40ed-81e8-31c3cffb3883",
   "metadata": {},
   "outputs": [],
   "source": []
  },
  {
   "cell_type": "code",
   "execution_count": null,
   "id": "60798b6b-a263-4607-992c-bd793be2733a",
   "metadata": {},
   "outputs": [],
   "source": []
  },
  {
   "cell_type": "code",
   "execution_count": null,
   "id": "cfd41401-7195-45f3-9135-dbc7e93cf991",
   "metadata": {},
   "outputs": [],
   "source": []
  },
  {
   "cell_type": "code",
   "execution_count": null,
   "id": "2e1d8ecc-2d4e-4fbb-a52f-80fb868db674",
   "metadata": {},
   "outputs": [],
   "source": []
  },
  {
   "cell_type": "code",
   "execution_count": null,
   "id": "cc1a761b-1f6b-4e80-bcb0-68db5d1357b3",
   "metadata": {},
   "outputs": [],
   "source": []
  }
 ],
 "metadata": {
  "kernelspec": {
   "display_name": "Python 3 (ipykernel)",
   "language": "python",
   "name": "python3"
  },
  "language_info": {
   "codemirror_mode": {
    "name": "ipython",
    "version": 3
   },
   "file_extension": ".py",
   "mimetype": "text/x-python",
   "name": "python",
   "nbconvert_exporter": "python",
   "pygments_lexer": "ipython3",
   "version": "3.9.17"
  }
 },
 "nbformat": 4,
 "nbformat_minor": 5
}
